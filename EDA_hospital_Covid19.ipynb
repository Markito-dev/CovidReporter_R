{
 "cells": [
  {
   "cell_type": "markdown",
   "id": "4f3a9356-d516-45cd-8e99-022221946423",
   "metadata": {},
   "source": [
    "# EDA French hospital data about Covid 19"
   ]
  },
  {
   "cell_type": "raw",
   "id": "b76e958e-f328-4bdc-a0b3-7b93bd615245",
   "metadata": {},
   "source": [
    "This notebook is an EDA of french hospital's data concerning Covid 19 plague.\n",
    " -> Import data:\n",
    "     * Stage 1 : Import a csv file from a downloaded file \n",
    "     * Stage 2 : Import few csv file from the web\n",
    " -> Exploration and cleaning data:\n",
    "     * Stage 1 : Open and display all data from csv file, then clean data.\n",
    "     * Satge 2 : Open, concat, display al data from scrapped files and then clean them.\n",
    " -> Analysis:\n",
    "     * Stage 1 : Make some usefull analysis and display with a story telling\n",
    "     * Stage 2 : Make some usefull analysis and upload some dataframe for displaying them through a R-shiny application\n",
    " -> (Optional) : Make some comments "
   ]
  },
  {
   "cell_type": "markdown",
   "id": "d63e0753-fcfd-4e1a-bb06-a79a5ec0aac6",
   "metadata": {},
   "source": [
    "# Library"
   ]
  },
  {
   "cell_type": "code",
   "execution_count": 2,
   "id": "a3908e04-f57f-494b-afd5-85b040f4d388",
   "metadata": {},
   "outputs": [
    {
     "name": "stdout",
     "output_type": "stream",
     "text": [
      "\n",
      "  There is a binary version available but the source version is later:\n",
      "      binary source needs_compilation\n",
      "dplyr  1.0.6  1.0.7              TRUE\n",
      "\n",
      "  Binaries will be installed\n"
     ]
    },
    {
     "name": "stderr",
     "output_type": "stream",
     "text": [
      "Warning message:\n",
      "\"package 'dplyr' is in use and will not be installed\""
     ]
    }
   ],
   "source": [
    "install.packages(\"dplyr\")\n",
    "library(dplyr)"
   ]
  },
  {
   "cell_type": "code",
   "execution_count": 4,
   "id": "1b4d9e1d-c85a-424d-9fdc-31891a9bdeaf",
   "metadata": {},
   "outputs": [
    {
     "name": "stdout",
     "output_type": "stream",
     "text": [
      "\n",
      "  There is a binary version available but the source version is later:\n",
      "        binary source needs_compilation\n",
      "ggplot2  3.3.3  3.3.5             FALSE\n",
      "\n"
     ]
    },
    {
     "name": "stderr",
     "output_type": "stream",
     "text": [
      "installing the source package 'ggplot2'\n",
      "\n"
     ]
    }
   ],
   "source": [
    "install.packages(\"ggplot2\")\n",
    "library(ggplot2)"
   ]
  },
  {
   "cell_type": "code",
   "execution_count": null,
   "id": "060836c9-c03f-4611-b6dd-914ae71fc7ab",
   "metadata": {},
   "outputs": [],
   "source": []
  },
  {
   "cell_type": "markdown",
   "id": "e5acb763-519c-4ef2-be19-44b41ea1981d",
   "metadata": {},
   "source": [
    "## Import data"
   ]
  },
  {
   "cell_type": "code",
   "execution_count": 7,
   "id": "5d94c0ee-9804-43fd-b3fc-629a48e43027",
   "metadata": {},
   "outputs": [
    {
     "data": {
      "text/html": [
       "<table>\n",
       "<thead><tr><th scope=col>jour</th><th scope=col>nomReg</th><th scope=col>numReg</th><th scope=col>incid_rea</th></tr></thead>\n",
       "<tbody>\n",
       "\t<tr><td>2020-03-19</td><td>Guadeloupe</td><td>1         </td><td>0         </td></tr>\n",
       "\t<tr><td>2020-03-20</td><td>Guadeloupe</td><td>1         </td><td>0         </td></tr>\n",
       "\t<tr><td>2020-03-21</td><td>Guadeloupe</td><td>1         </td><td>0         </td></tr>\n",
       "\t<tr><td>2020-03-22</td><td>Guadeloupe</td><td>1         </td><td>5         </td></tr>\n",
       "\t<tr><td>2020-03-23</td><td>Guadeloupe</td><td>1         </td><td>0         </td></tr>\n",
       "</tbody>\n",
       "</table>\n"
      ],
      "text/latex": [
       "\\begin{tabular}{r|llll}\n",
       " jour & nomReg & numReg & incid\\_rea\\\\\n",
       "\\hline\n",
       "\t 2020-03-19 & Guadeloupe & 1          & 0         \\\\\n",
       "\t 2020-03-20 & Guadeloupe & 1          & 0         \\\\\n",
       "\t 2020-03-21 & Guadeloupe & 1          & 0         \\\\\n",
       "\t 2020-03-22 & Guadeloupe & 1          & 5         \\\\\n",
       "\t 2020-03-23 & Guadeloupe & 1          & 0         \\\\\n",
       "\\end{tabular}\n"
      ],
      "text/markdown": [
       "\n",
       "| jour | nomReg | numReg | incid_rea |\n",
       "|---|---|---|---|\n",
       "| 2020-03-19 | Guadeloupe | 1          | 0          |\n",
       "| 2020-03-20 | Guadeloupe | 1          | 0          |\n",
       "| 2020-03-21 | Guadeloupe | 1          | 0          |\n",
       "| 2020-03-22 | Guadeloupe | 1          | 5          |\n",
       "| 2020-03-23 | Guadeloupe | 1          | 0          |\n",
       "\n"
      ],
      "text/plain": [
       "  jour       nomReg     numReg incid_rea\n",
       "1 2020-03-19 Guadeloupe 1      0        \n",
       "2 2020-03-20 Guadeloupe 1      0        \n",
       "3 2020-03-21 Guadeloupe 1      0        \n",
       "4 2020-03-22 Guadeloupe 1      5        \n",
       "5 2020-03-23 Guadeloupe 1      0        "
      ]
     },
     "metadata": {},
     "output_type": "display_data"
    }
   ],
   "source": [
    "df_incid_reg <- read.csv(\"data/data_hopital/covid-hospit-incid-reg-2022-01-09-19h06.csv\", sep=\";\")\n",
    "#### Changement du nom des colonnes\n",
    "# names(data) <- c(\"X\", \"année\", \"prénom\", \"genre\", \"naissance\")\n",
    "# Affichage des 5 premières lignes\n",
    "head(df_incid_reg,5)"
   ]
  },
  {
   "cell_type": "code",
   "execution_count": null,
   "id": "18064ac1-f9a8-46d5-8407-4eaaf6768d1d",
   "metadata": {},
   "outputs": [],
   "source": [
    "# df_incid_reg <- read.csv(\"data/data_hopital/covid-hospit-incid-reg-2022-01-09-19h06.csv\", sep=\";\")\n",
    "# #### Changement du nom des colonnes\n",
    "# # names(data) <- c(\"X\", \"année\", \"prénom\", \"genre\", \"naissance\")\n",
    "# # Affichage des 5 premières lignes\n",
    "# head(df_incid_reg,5)"
   ]
  },
  {
   "cell_type": "code",
   "execution_count": 9,
   "id": "c6cb0024-7848-4c9a-90f2-59793d8244ad",
   "metadata": {},
   "outputs": [
    {
     "data": {
      "text/html": [
       "<table>\n",
       "<thead><tr><th scope=col>dep</th><th scope=col>sexe</th><th scope=col>jour</th><th scope=col>hosp</th><th scope=col>rea</th><th scope=col>HospConv</th><th scope=col>SSR_USLD</th><th scope=col>autres</th><th scope=col>rad</th><th scope=col>dc</th></tr></thead>\n",
       "<tbody>\n",
       "\t<tr><td>01        </td><td>0         </td><td>2020-03-18</td><td> 2        </td><td> 0        </td><td>NA        </td><td>NA        </td><td>NA        </td><td> 1        </td><td> 0        </td></tr>\n",
       "\t<tr><td>01        </td><td>1         </td><td>2020-03-18</td><td> 1        </td><td> 0        </td><td>NA        </td><td>NA        </td><td>NA        </td><td> 1        </td><td> 0        </td></tr>\n",
       "\t<tr><td>01        </td><td>2         </td><td>2020-03-18</td><td> 1        </td><td> 0        </td><td>NA        </td><td>NA        </td><td>NA        </td><td> 0        </td><td> 0        </td></tr>\n",
       "\t<tr><td>02        </td><td>0         </td><td>2020-03-18</td><td>41        </td><td>10        </td><td>NA        </td><td>NA        </td><td>NA        </td><td>18        </td><td>11        </td></tr>\n",
       "\t<tr><td>02        </td><td>1         </td><td>2020-03-18</td><td>19        </td><td> 4        </td><td>NA        </td><td>NA        </td><td>NA        </td><td>11        </td><td> 6        </td></tr>\n",
       "</tbody>\n",
       "</table>\n"
      ],
      "text/latex": [
       "\\begin{tabular}{r|llllllllll}\n",
       " dep & sexe & jour & hosp & rea & HospConv & SSR\\_USLD & autres & rad & dc\\\\\n",
       "\\hline\n",
       "\t 01         & 0          & 2020-03-18 &  2         &  0         & NA         & NA         & NA         &  1         &  0        \\\\\n",
       "\t 01         & 1          & 2020-03-18 &  1         &  0         & NA         & NA         & NA         &  1         &  0        \\\\\n",
       "\t 01         & 2          & 2020-03-18 &  1         &  0         & NA         & NA         & NA         &  0         &  0        \\\\\n",
       "\t 02         & 0          & 2020-03-18 & 41         & 10         & NA         & NA         & NA         & 18         & 11        \\\\\n",
       "\t 02         & 1          & 2020-03-18 & 19         &  4         & NA         & NA         & NA         & 11         &  6        \\\\\n",
       "\\end{tabular}\n"
      ],
      "text/markdown": [
       "\n",
       "| dep | sexe | jour | hosp | rea | HospConv | SSR_USLD | autres | rad | dc |\n",
       "|---|---|---|---|---|---|---|---|---|---|\n",
       "| 01         | 0          | 2020-03-18 |  2         |  0         | NA         | NA         | NA         |  1         |  0         |\n",
       "| 01         | 1          | 2020-03-18 |  1         |  0         | NA         | NA         | NA         |  1         |  0         |\n",
       "| 01         | 2          | 2020-03-18 |  1         |  0         | NA         | NA         | NA         |  0         |  0         |\n",
       "| 02         | 0          | 2020-03-18 | 41         | 10         | NA         | NA         | NA         | 18         | 11         |\n",
       "| 02         | 1          | 2020-03-18 | 19         |  4         | NA         | NA         | NA         | 11         |  6         |\n",
       "\n"
      ],
      "text/plain": [
       "  dep sexe jour       hosp rea HospConv SSR_USLD autres rad dc\n",
       "1 01  0    2020-03-18  2    0  NA       NA       NA      1   0\n",
       "2 01  1    2020-03-18  1    0  NA       NA       NA      1   0\n",
       "3 01  2    2020-03-18  1    0  NA       NA       NA      0   0\n",
       "4 02  0    2020-03-18 41   10  NA       NA       NA     18  11\n",
       "5 02  1    2020-03-18 19    4  NA       NA       NA     11   6"
      ]
     },
     "metadata": {},
     "output_type": "display_data"
    }
   ],
   "source": [
    "df_hebdo_covid <- read.csv(\"data/data_hopital/donnees-hospitalieres-covid19-2022-01-09-19h06.csv\", sep=\";\")\n",
    "#### Changement du nom des colonnes\n",
    "# names(data) <- c(\"X\", \"année\", \"prénom\", \"genre\", \"naissance\")\n",
    "# Affichage des 5 premières lignes\n",
    "head(df_hebdo_covid,5)"
   ]
  },
  {
   "cell_type": "markdown",
   "id": "2a10683e-6ba7-4b4d-8a95-3871c63f0c8a",
   "metadata": {},
   "source": [
    "-------------------------------------"
   ]
  },
  {
   "cell_type": "markdown",
   "id": "ce09bf28-1732-443e-a040-e0882712460a",
   "metadata": {
    "tags": []
   },
   "source": [
    "## Exploration"
   ]
  },
  {
   "cell_type": "markdown",
   "id": "a9e06def-4ef2-4d5b-a4f6-16973f1d725c",
   "metadata": {},
   "source": [
    "#### dep"
   ]
  },
  {
   "cell_type": "code",
   "execution_count": 17,
   "id": "86031f35-3f70-4395-8bc0-8d9899df84ed",
   "metadata": {},
   "outputs": [
    {
     "data": {
      "text/html": [
       "<table>\n",
       "<thead><tr><th scope=col>dep</th><th scope=col>n</th></tr></thead>\n",
       "<tbody>\n",
       "\t<tr><td>01  </td><td>1989</td></tr>\n",
       "\t<tr><td>02  </td><td>1989</td></tr>\n",
       "\t<tr><td>03  </td><td>1989</td></tr>\n",
       "</tbody>\n",
       "</table>\n"
      ],
      "text/latex": [
       "\\begin{tabular}{r|ll}\n",
       " dep & n\\\\\n",
       "\\hline\n",
       "\t 01   & 1989\\\\\n",
       "\t 02   & 1989\\\\\n",
       "\t 03   & 1989\\\\\n",
       "\\end{tabular}\n"
      ],
      "text/markdown": [
       "\n",
       "| dep | n |\n",
       "|---|---|\n",
       "| 01   | 1989 |\n",
       "| 02   | 1989 |\n",
       "| 03   | 1989 |\n",
       "\n"
      ],
      "text/plain": [
       "  dep n   \n",
       "1 01  1989\n",
       "2 02  1989\n",
       "3 03  1989"
      ]
     },
     "metadata": {},
     "output_type": "display_data"
    }
   ],
   "source": [
    "deps <- df_hebdo_covid %>% count(dep)\n",
    "head(deps,3)"
   ]
  },
  {
   "cell_type": "code",
   "execution_count": 76,
   "id": "b0adb3cf-4734-4ced-920f-b370d68913e3",
   "metadata": {},
   "outputs": [
    {
     "data": {
      "text/html": [
       "102"
      ],
      "text/latex": [
       "102"
      ],
      "text/markdown": [
       "102"
      ],
      "text/plain": [
       "[1] 102"
      ]
     },
     "metadata": {},
     "output_type": "display_data"
    }
   ],
   "source": [
    "nb_dep <- length(deps$dep)\n",
    "nb_dep"
   ]
  },
  {
   "cell_type": "code",
   "execution_count": 20,
   "id": "0b809ecc-6fef-47f6-838f-b6e3ebb76061",
   "metadata": {
    "collapsed": true,
    "jupyter": {
     "outputs_hidden": true
    },
    "tags": []
   },
   "outputs": [
    {
     "data": {
      "text/html": [
       "<ol class=list-inline>\n",
       "\t<li>01</li>\n",
       "\t<li>02</li>\n",
       "\t<li>03</li>\n",
       "\t<li>04</li>\n",
       "\t<li>05</li>\n",
       "\t<li>06</li>\n",
       "\t<li>07</li>\n",
       "\t<li>08</li>\n",
       "\t<li>09</li>\n",
       "\t<li>10</li>\n",
       "\t<li>11</li>\n",
       "\t<li>12</li>\n",
       "\t<li>13</li>\n",
       "\t<li>14</li>\n",
       "\t<li>15</li>\n",
       "\t<li>16</li>\n",
       "\t<li>17</li>\n",
       "\t<li>18</li>\n",
       "\t<li>19</li>\n",
       "\t<li>21</li>\n",
       "\t<li>22</li>\n",
       "\t<li>23</li>\n",
       "\t<li>24</li>\n",
       "\t<li>25</li>\n",
       "\t<li>26</li>\n",
       "\t<li>27</li>\n",
       "\t<li>28</li>\n",
       "\t<li>29</li>\n",
       "\t<li>2A</li>\n",
       "\t<li>2B</li>\n",
       "\t<li>30</li>\n",
       "\t<li>31</li>\n",
       "\t<li>32</li>\n",
       "\t<li>33</li>\n",
       "\t<li>34</li>\n",
       "\t<li>35</li>\n",
       "\t<li>36</li>\n",
       "\t<li>37</li>\n",
       "\t<li>38</li>\n",
       "\t<li>39</li>\n",
       "\t<li>40</li>\n",
       "\t<li>41</li>\n",
       "\t<li>42</li>\n",
       "\t<li>43</li>\n",
       "\t<li>44</li>\n",
       "\t<li>45</li>\n",
       "\t<li>46</li>\n",
       "\t<li>47</li>\n",
       "\t<li>48</li>\n",
       "\t<li>49</li>\n",
       "\t<li>50</li>\n",
       "\t<li>51</li>\n",
       "\t<li>52</li>\n",
       "\t<li>53</li>\n",
       "\t<li>54</li>\n",
       "\t<li>55</li>\n",
       "\t<li>56</li>\n",
       "\t<li>57</li>\n",
       "\t<li>58</li>\n",
       "\t<li>59</li>\n",
       "\t<li>60</li>\n",
       "\t<li>61</li>\n",
       "\t<li>62</li>\n",
       "\t<li>63</li>\n",
       "\t<li>64</li>\n",
       "\t<li>65</li>\n",
       "\t<li>66</li>\n",
       "\t<li>67</li>\n",
       "\t<li>68</li>\n",
       "\t<li>69</li>\n",
       "\t<li>70</li>\n",
       "\t<li>71</li>\n",
       "\t<li>72</li>\n",
       "\t<li>73</li>\n",
       "\t<li>74</li>\n",
       "\t<li>75</li>\n",
       "\t<li>76</li>\n",
       "\t<li>77</li>\n",
       "\t<li>78</li>\n",
       "\t<li>79</li>\n",
       "\t<li>80</li>\n",
       "\t<li>81</li>\n",
       "\t<li>82</li>\n",
       "\t<li>83</li>\n",
       "\t<li>84</li>\n",
       "\t<li>85</li>\n",
       "\t<li>86</li>\n",
       "\t<li>87</li>\n",
       "\t<li>88</li>\n",
       "\t<li>89</li>\n",
       "\t<li>90</li>\n",
       "\t<li>91</li>\n",
       "\t<li>92</li>\n",
       "\t<li>93</li>\n",
       "\t<li>94</li>\n",
       "\t<li>95</li>\n",
       "\t<li>971</li>\n",
       "\t<li>972</li>\n",
       "\t<li>973</li>\n",
       "\t<li>974</li>\n",
       "\t<li>976</li>\n",
       "\t<li>978</li>\n",
       "</ol>\n",
       "\n",
       "<details>\n",
       "\t<summary style=display:list-item;cursor:pointer>\n",
       "\t\t<strong>Levels</strong>:\n",
       "\t</summary>\n",
       "\t<ol class=list-inline>\n",
       "\t\t<li>'01'</li>\n",
       "\t\t<li>'02'</li>\n",
       "\t\t<li>'03'</li>\n",
       "\t\t<li>'04'</li>\n",
       "\t\t<li>'05'</li>\n",
       "\t\t<li>'06'</li>\n",
       "\t\t<li>'07'</li>\n",
       "\t\t<li>'08'</li>\n",
       "\t\t<li>'09'</li>\n",
       "\t\t<li>'10'</li>\n",
       "\t\t<li>'11'</li>\n",
       "\t\t<li>'12'</li>\n",
       "\t\t<li>'13'</li>\n",
       "\t\t<li>'14'</li>\n",
       "\t\t<li>'15'</li>\n",
       "\t\t<li>'16'</li>\n",
       "\t\t<li>'17'</li>\n",
       "\t\t<li>'18'</li>\n",
       "\t\t<li>'19'</li>\n",
       "\t\t<li>'21'</li>\n",
       "\t\t<li>'22'</li>\n",
       "\t\t<li>'23'</li>\n",
       "\t\t<li>'24'</li>\n",
       "\t\t<li>'25'</li>\n",
       "\t\t<li>'26'</li>\n",
       "\t\t<li>'27'</li>\n",
       "\t\t<li>'28'</li>\n",
       "\t\t<li>'29'</li>\n",
       "\t\t<li>'2A'</li>\n",
       "\t\t<li>'2B'</li>\n",
       "\t\t<li>'30'</li>\n",
       "\t\t<li>'31'</li>\n",
       "\t\t<li>'32'</li>\n",
       "\t\t<li>'33'</li>\n",
       "\t\t<li>'34'</li>\n",
       "\t\t<li>'35'</li>\n",
       "\t\t<li>'36'</li>\n",
       "\t\t<li>'37'</li>\n",
       "\t\t<li>'38'</li>\n",
       "\t\t<li>'39'</li>\n",
       "\t\t<li>'40'</li>\n",
       "\t\t<li>'41'</li>\n",
       "\t\t<li>'42'</li>\n",
       "\t\t<li>'43'</li>\n",
       "\t\t<li>'44'</li>\n",
       "\t\t<li>'45'</li>\n",
       "\t\t<li>'46'</li>\n",
       "\t\t<li>'47'</li>\n",
       "\t\t<li>'48'</li>\n",
       "\t\t<li>'49'</li>\n",
       "\t\t<li>'50'</li>\n",
       "\t\t<li>'51'</li>\n",
       "\t\t<li>'52'</li>\n",
       "\t\t<li>'53'</li>\n",
       "\t\t<li>'54'</li>\n",
       "\t\t<li>'55'</li>\n",
       "\t\t<li>'56'</li>\n",
       "\t\t<li>'57'</li>\n",
       "\t\t<li>'58'</li>\n",
       "\t\t<li>'59'</li>\n",
       "\t\t<li>'60'</li>\n",
       "\t\t<li>'61'</li>\n",
       "\t\t<li>'62'</li>\n",
       "\t\t<li>'63'</li>\n",
       "\t\t<li>'64'</li>\n",
       "\t\t<li>'65'</li>\n",
       "\t\t<li>'66'</li>\n",
       "\t\t<li>'67'</li>\n",
       "\t\t<li>'68'</li>\n",
       "\t\t<li>'69'</li>\n",
       "\t\t<li>'70'</li>\n",
       "\t\t<li>'71'</li>\n",
       "\t\t<li>'72'</li>\n",
       "\t\t<li>'73'</li>\n",
       "\t\t<li>'74'</li>\n",
       "\t\t<li>'75'</li>\n",
       "\t\t<li>'76'</li>\n",
       "\t\t<li>'77'</li>\n",
       "\t\t<li>'78'</li>\n",
       "\t\t<li>'79'</li>\n",
       "\t\t<li>'80'</li>\n",
       "\t\t<li>'81'</li>\n",
       "\t\t<li>'82'</li>\n",
       "\t\t<li>'83'</li>\n",
       "\t\t<li>'84'</li>\n",
       "\t\t<li>'85'</li>\n",
       "\t\t<li>'86'</li>\n",
       "\t\t<li>'87'</li>\n",
       "\t\t<li>'88'</li>\n",
       "\t\t<li>'89'</li>\n",
       "\t\t<li>'90'</li>\n",
       "\t\t<li>'91'</li>\n",
       "\t\t<li>'92'</li>\n",
       "\t\t<li>'93'</li>\n",
       "\t\t<li>'94'</li>\n",
       "\t\t<li>'95'</li>\n",
       "\t\t<li>'971'</li>\n",
       "\t\t<li>'972'</li>\n",
       "\t\t<li>'973'</li>\n",
       "\t\t<li>'974'</li>\n",
       "\t\t<li>'976'</li>\n",
       "\t\t<li>'978'</li>\n",
       "\t</ol>\n",
       "</details>"
      ],
      "text/latex": [
       "\\begin{enumerate*}\n",
       "\\item 01\n",
       "\\item 02\n",
       "\\item 03\n",
       "\\item 04\n",
       "\\item 05\n",
       "\\item 06\n",
       "\\item 07\n",
       "\\item 08\n",
       "\\item 09\n",
       "\\item 10\n",
       "\\item 11\n",
       "\\item 12\n",
       "\\item 13\n",
       "\\item 14\n",
       "\\item 15\n",
       "\\item 16\n",
       "\\item 17\n",
       "\\item 18\n",
       "\\item 19\n",
       "\\item 21\n",
       "\\item 22\n",
       "\\item 23\n",
       "\\item 24\n",
       "\\item 25\n",
       "\\item 26\n",
       "\\item 27\n",
       "\\item 28\n",
       "\\item 29\n",
       "\\item 2A\n",
       "\\item 2B\n",
       "\\item 30\n",
       "\\item 31\n",
       "\\item 32\n",
       "\\item 33\n",
       "\\item 34\n",
       "\\item 35\n",
       "\\item 36\n",
       "\\item 37\n",
       "\\item 38\n",
       "\\item 39\n",
       "\\item 40\n",
       "\\item 41\n",
       "\\item 42\n",
       "\\item 43\n",
       "\\item 44\n",
       "\\item 45\n",
       "\\item 46\n",
       "\\item 47\n",
       "\\item 48\n",
       "\\item 49\n",
       "\\item 50\n",
       "\\item 51\n",
       "\\item 52\n",
       "\\item 53\n",
       "\\item 54\n",
       "\\item 55\n",
       "\\item 56\n",
       "\\item 57\n",
       "\\item 58\n",
       "\\item 59\n",
       "\\item 60\n",
       "\\item 61\n",
       "\\item 62\n",
       "\\item 63\n",
       "\\item 64\n",
       "\\item 65\n",
       "\\item 66\n",
       "\\item 67\n",
       "\\item 68\n",
       "\\item 69\n",
       "\\item 70\n",
       "\\item 71\n",
       "\\item 72\n",
       "\\item 73\n",
       "\\item 74\n",
       "\\item 75\n",
       "\\item 76\n",
       "\\item 77\n",
       "\\item 78\n",
       "\\item 79\n",
       "\\item 80\n",
       "\\item 81\n",
       "\\item 82\n",
       "\\item 83\n",
       "\\item 84\n",
       "\\item 85\n",
       "\\item 86\n",
       "\\item 87\n",
       "\\item 88\n",
       "\\item 89\n",
       "\\item 90\n",
       "\\item 91\n",
       "\\item 92\n",
       "\\item 93\n",
       "\\item 94\n",
       "\\item 95\n",
       "\\item 971\n",
       "\\item 972\n",
       "\\item 973\n",
       "\\item 974\n",
       "\\item 976\n",
       "\\item 978\n",
       "\\end{enumerate*}\n",
       "\n",
       "\\emph{Levels}: \\begin{enumerate*}\n",
       "\\item '01'\n",
       "\\item '02'\n",
       "\\item '03'\n",
       "\\item '04'\n",
       "\\item '05'\n",
       "\\item '06'\n",
       "\\item '07'\n",
       "\\item '08'\n",
       "\\item '09'\n",
       "\\item '10'\n",
       "\\item '11'\n",
       "\\item '12'\n",
       "\\item '13'\n",
       "\\item '14'\n",
       "\\item '15'\n",
       "\\item '16'\n",
       "\\item '17'\n",
       "\\item '18'\n",
       "\\item '19'\n",
       "\\item '21'\n",
       "\\item '22'\n",
       "\\item '23'\n",
       "\\item '24'\n",
       "\\item '25'\n",
       "\\item '26'\n",
       "\\item '27'\n",
       "\\item '28'\n",
       "\\item '29'\n",
       "\\item '2A'\n",
       "\\item '2B'\n",
       "\\item '30'\n",
       "\\item '31'\n",
       "\\item '32'\n",
       "\\item '33'\n",
       "\\item '34'\n",
       "\\item '35'\n",
       "\\item '36'\n",
       "\\item '37'\n",
       "\\item '38'\n",
       "\\item '39'\n",
       "\\item '40'\n",
       "\\item '41'\n",
       "\\item '42'\n",
       "\\item '43'\n",
       "\\item '44'\n",
       "\\item '45'\n",
       "\\item '46'\n",
       "\\item '47'\n",
       "\\item '48'\n",
       "\\item '49'\n",
       "\\item '50'\n",
       "\\item '51'\n",
       "\\item '52'\n",
       "\\item '53'\n",
       "\\item '54'\n",
       "\\item '55'\n",
       "\\item '56'\n",
       "\\item '57'\n",
       "\\item '58'\n",
       "\\item '59'\n",
       "\\item '60'\n",
       "\\item '61'\n",
       "\\item '62'\n",
       "\\item '63'\n",
       "\\item '64'\n",
       "\\item '65'\n",
       "\\item '66'\n",
       "\\item '67'\n",
       "\\item '68'\n",
       "\\item '69'\n",
       "\\item '70'\n",
       "\\item '71'\n",
       "\\item '72'\n",
       "\\item '73'\n",
       "\\item '74'\n",
       "\\item '75'\n",
       "\\item '76'\n",
       "\\item '77'\n",
       "\\item '78'\n",
       "\\item '79'\n",
       "\\item '80'\n",
       "\\item '81'\n",
       "\\item '82'\n",
       "\\item '83'\n",
       "\\item '84'\n",
       "\\item '85'\n",
       "\\item '86'\n",
       "\\item '87'\n",
       "\\item '88'\n",
       "\\item '89'\n",
       "\\item '90'\n",
       "\\item '91'\n",
       "\\item '92'\n",
       "\\item '93'\n",
       "\\item '94'\n",
       "\\item '95'\n",
       "\\item '971'\n",
       "\\item '972'\n",
       "\\item '973'\n",
       "\\item '974'\n",
       "\\item '976'\n",
       "\\item '978'\n",
       "\\end{enumerate*}\n"
      ],
      "text/markdown": [
       "1. 01\n",
       "2. 02\n",
       "3. 03\n",
       "4. 04\n",
       "5. 05\n",
       "6. 06\n",
       "7. 07\n",
       "8. 08\n",
       "9. 09\n",
       "10. 10\n",
       "11. 11\n",
       "12. 12\n",
       "13. 13\n",
       "14. 14\n",
       "15. 15\n",
       "16. 16\n",
       "17. 17\n",
       "18. 18\n",
       "19. 19\n",
       "20. 21\n",
       "21. 22\n",
       "22. 23\n",
       "23. 24\n",
       "24. 25\n",
       "25. 26\n",
       "26. 27\n",
       "27. 28\n",
       "28. 29\n",
       "29. 2A\n",
       "30. 2B\n",
       "31. 30\n",
       "32. 31\n",
       "33. 32\n",
       "34. 33\n",
       "35. 34\n",
       "36. 35\n",
       "37. 36\n",
       "38. 37\n",
       "39. 38\n",
       "40. 39\n",
       "41. 40\n",
       "42. 41\n",
       "43. 42\n",
       "44. 43\n",
       "45. 44\n",
       "46. 45\n",
       "47. 46\n",
       "48. 47\n",
       "49. 48\n",
       "50. 49\n",
       "51. 50\n",
       "52. 51\n",
       "53. 52\n",
       "54. 53\n",
       "55. 54\n",
       "56. 55\n",
       "57. 56\n",
       "58. 57\n",
       "59. 58\n",
       "60. 59\n",
       "61. 60\n",
       "62. 61\n",
       "63. 62\n",
       "64. 63\n",
       "65. 64\n",
       "66. 65\n",
       "67. 66\n",
       "68. 67\n",
       "69. 68\n",
       "70. 69\n",
       "71. 70\n",
       "72. 71\n",
       "73. 72\n",
       "74. 73\n",
       "75. 74\n",
       "76. 75\n",
       "77. 76\n",
       "78. 77\n",
       "79. 78\n",
       "80. 79\n",
       "81. 80\n",
       "82. 81\n",
       "83. 82\n",
       "84. 83\n",
       "85. 84\n",
       "86. 85\n",
       "87. 86\n",
       "88. 87\n",
       "89. 88\n",
       "90. 89\n",
       "91. 90\n",
       "92. 91\n",
       "93. 92\n",
       "94. 93\n",
       "95. 94\n",
       "96. 95\n",
       "97. 971\n",
       "98. 972\n",
       "99. 973\n",
       "100. 974\n",
       "101. 976\n",
       "102. 978\n",
       "\n",
       "\n",
       "\n",
       "**Levels**: 1. '01'\n",
       "2. '02'\n",
       "3. '03'\n",
       "4. '04'\n",
       "5. '05'\n",
       "6. '06'\n",
       "7. '07'\n",
       "8. '08'\n",
       "9. '09'\n",
       "10. '10'\n",
       "11. '11'\n",
       "12. '12'\n",
       "13. '13'\n",
       "14. '14'\n",
       "15. '15'\n",
       "16. '16'\n",
       "17. '17'\n",
       "18. '18'\n",
       "19. '19'\n",
       "20. '21'\n",
       "21. '22'\n",
       "22. '23'\n",
       "23. '24'\n",
       "24. '25'\n",
       "25. '26'\n",
       "26. '27'\n",
       "27. '28'\n",
       "28. '29'\n",
       "29. '2A'\n",
       "30. '2B'\n",
       "31. '30'\n",
       "32. '31'\n",
       "33. '32'\n",
       "34. '33'\n",
       "35. '34'\n",
       "36. '35'\n",
       "37. '36'\n",
       "38. '37'\n",
       "39. '38'\n",
       "40. '39'\n",
       "41. '40'\n",
       "42. '41'\n",
       "43. '42'\n",
       "44. '43'\n",
       "45. '44'\n",
       "46. '45'\n",
       "47. '46'\n",
       "48. '47'\n",
       "49. '48'\n",
       "50. '49'\n",
       "51. '50'\n",
       "52. '51'\n",
       "53. '52'\n",
       "54. '53'\n",
       "55. '54'\n",
       "56. '55'\n",
       "57. '56'\n",
       "58. '57'\n",
       "59. '58'\n",
       "60. '59'\n",
       "61. '60'\n",
       "62. '61'\n",
       "63. '62'\n",
       "64. '63'\n",
       "65. '64'\n",
       "66. '65'\n",
       "67. '66'\n",
       "68. '67'\n",
       "69. '68'\n",
       "70. '69'\n",
       "71. '70'\n",
       "72. '71'\n",
       "73. '72'\n",
       "74. '73'\n",
       "75. '74'\n",
       "76. '75'\n",
       "77. '76'\n",
       "78. '77'\n",
       "79. '78'\n",
       "80. '79'\n",
       "81. '80'\n",
       "82. '81'\n",
       "83. '82'\n",
       "84. '83'\n",
       "85. '84'\n",
       "86. '85'\n",
       "87. '86'\n",
       "88. '87'\n",
       "89. '88'\n",
       "90. '89'\n",
       "91. '90'\n",
       "92. '91'\n",
       "93. '92'\n",
       "94. '93'\n",
       "95. '94'\n",
       "96. '95'\n",
       "97. '971'\n",
       "98. '972'\n",
       "99. '973'\n",
       "100. '974'\n",
       "101. '976'\n",
       "102. '978'\n",
       "\n",
       "\n"
      ],
      "text/plain": [
       "  [1] 01  02  03  04  05  06  07  08  09  10  11  12  13  14  15  16  17  18 \n",
       " [19] 19  21  22  23  24  25  26  27  28  29  2A  2B  30  31  32  33  34  35 \n",
       " [37] 36  37  38  39  40  41  42  43  44  45  46  47  48  49  50  51  52  53 \n",
       " [55] 54  55  56  57  58  59  60  61  62  63  64  65  66  67  68  69  70  71 \n",
       " [73] 72  73  74  75  76  77  78  79  80  81  82  83  84  85  86  87  88  89 \n",
       " [91] 90  91  92  93  94  95  971 972 973 974 976 978\n",
       "102 Levels: 01 02 03 04 05 06 07 08 09 10 11 12 13 14 15 16 17 18 19 21 ... 978"
      ]
     },
     "metadata": {},
     "output_type": "display_data"
    }
   ],
   "source": [
    "deps$dep"
   ]
  },
  {
   "cell_type": "code",
   "execution_count": null,
   "id": "66967538-3b75-49a8-92d8-f4ce3f2f78ea",
   "metadata": {},
   "outputs": [],
   "source": [
    "# On a bien tous les départements de la France (+Outre mers + dep 978)"
   ]
  },
  {
   "cell_type": "markdown",
   "id": "36fea774-6b73-49f4-b436-d71735d22158",
   "metadata": {},
   "source": [
    "#### sexe"
   ]
  },
  {
   "cell_type": "code",
   "execution_count": 22,
   "id": "db17cfa9-266b-4f9d-bb8e-a6576c5bb6e5",
   "metadata": {},
   "outputs": [
    {
     "data": {
      "text/html": [
       "<table>\n",
       "<thead><tr><th scope=col>sexe</th><th scope=col>n</th></tr></thead>\n",
       "<tbody>\n",
       "\t<tr><td>0    </td><td>67626</td></tr>\n",
       "\t<tr><td>1    </td><td>67626</td></tr>\n",
       "\t<tr><td>2    </td><td>66963</td></tr>\n",
       "</tbody>\n",
       "</table>\n"
      ],
      "text/latex": [
       "\\begin{tabular}{r|ll}\n",
       " sexe & n\\\\\n",
       "\\hline\n",
       "\t 0     & 67626\\\\\n",
       "\t 1     & 67626\\\\\n",
       "\t 2     & 66963\\\\\n",
       "\\end{tabular}\n"
      ],
      "text/markdown": [
       "\n",
       "| sexe | n |\n",
       "|---|---|\n",
       "| 0     | 67626 |\n",
       "| 1     | 67626 |\n",
       "| 2     | 66963 |\n",
       "\n"
      ],
      "text/plain": [
       "  sexe n    \n",
       "1 0    67626\n",
       "2 1    67626\n",
       "3 2    66963"
      ]
     },
     "metadata": {},
     "output_type": "display_data"
    }
   ],
   "source": [
    "sexes <- df_hebdo_covid %>% count(sexe)\n",
    "head(sexes,5)"
   ]
  },
  {
   "cell_type": "code",
   "execution_count": 27,
   "id": "053fe3f7-fe5d-41d9-902d-35b5b4ff1479",
   "metadata": {},
   "outputs": [
    {
     "data": {
      "text/html": [
       "<table>\n",
       "<thead><tr><th scope=col>sexe</th><th scope=col>n</th><th scope=col>percent</th></tr></thead>\n",
       "<tbody>\n",
       "\t<tr><td>0       </td><td>67626   </td><td>33.44262</td></tr>\n",
       "\t<tr><td>1       </td><td>67626   </td><td>33.44262</td></tr>\n",
       "\t<tr><td>2       </td><td>66963   </td><td>33.11475</td></tr>\n",
       "</tbody>\n",
       "</table>\n"
      ],
      "text/latex": [
       "\\begin{tabular}{r|lll}\n",
       " sexe & n & percent\\\\\n",
       "\\hline\n",
       "\t 0        & 67626    & 33.44262\\\\\n",
       "\t 1        & 67626    & 33.44262\\\\\n",
       "\t 2        & 66963    & 33.11475\\\\\n",
       "\\end{tabular}\n"
      ],
      "text/markdown": [
       "\n",
       "| sexe | n | percent |\n",
       "|---|---|---|\n",
       "| 0        | 67626    | 33.44262 |\n",
       "| 1        | 67626    | 33.44262 |\n",
       "| 2        | 66963    | 33.11475 |\n",
       "\n"
      ],
      "text/plain": [
       "  sexe n     percent \n",
       "1 0    67626 33.44262\n",
       "2 1    67626 33.44262\n",
       "3 2    66963 33.11475"
      ]
     },
     "metadata": {},
     "output_type": "display_data"
    }
   ],
   "source": [
    "sexes$percent <- (sexes$n*100)/sum(sexes$n)\n",
    "sexes"
   ]
  },
  {
   "cell_type": "markdown",
   "id": "ea52250d-7565-4406-886a-02d6d5712ce3",
   "metadata": {},
   "source": [
    "#### jour"
   ]
  },
  {
   "cell_type": "code",
   "execution_count": 28,
   "id": "e5aa5ad9-f487-43af-a22a-1028a45ed84c",
   "metadata": {},
   "outputs": [
    {
     "data": {
      "text/html": [
       "<table>\n",
       "<thead><tr><th scope=col>jour</th><th scope=col>n</th></tr></thead>\n",
       "<tbody>\n",
       "\t<tr><td>2020-03-18</td><td>305       </td></tr>\n",
       "\t<tr><td>2020-03-19</td><td>305       </td></tr>\n",
       "\t<tr><td>2020-03-20</td><td>305       </td></tr>\n",
       "</tbody>\n",
       "</table>\n"
      ],
      "text/latex": [
       "\\begin{tabular}{r|ll}\n",
       " jour & n\\\\\n",
       "\\hline\n",
       "\t 2020-03-18 & 305       \\\\\n",
       "\t 2020-03-19 & 305       \\\\\n",
       "\t 2020-03-20 & 305       \\\\\n",
       "\\end{tabular}\n"
      ],
      "text/markdown": [
       "\n",
       "| jour | n |\n",
       "|---|---|\n",
       "| 2020-03-18 | 305        |\n",
       "| 2020-03-19 | 305        |\n",
       "| 2020-03-20 | 305        |\n",
       "\n"
      ],
      "text/plain": [
       "  jour       n  \n",
       "1 2020-03-18 305\n",
       "2 2020-03-19 305\n",
       "3 2020-03-20 305"
      ]
     },
     "metadata": {},
     "output_type": "display_data"
    }
   ],
   "source": [
    "jours <- df_hebdo_covid %>% count(jour)\n",
    "head(jours,3)"
   ]
  },
  {
   "cell_type": "code",
   "execution_count": 29,
   "id": "621e81bf-54fb-47bd-92e2-8642001f0b97",
   "metadata": {},
   "outputs": [
    {
     "data": {
      "text/html": [
       "663"
      ],
      "text/latex": [
       "663"
      ],
      "text/markdown": [
       "663"
      ],
      "text/plain": [
       "[1] 663"
      ]
     },
     "metadata": {},
     "output_type": "display_data"
    }
   ],
   "source": [
    "length(jours$jour)"
   ]
  },
  {
   "cell_type": "code",
   "execution_count": 77,
   "id": "39d707d4-f9ea-4dad-bffd-8f00ca986c00",
   "metadata": {},
   "outputs": [
    {
     "data": {
      "text/html": [
       "<time datetime=\"2022-01-09\">2022-01-09</time>"
      ],
      "text/latex": [
       "2022-01-09"
      ],
      "text/markdown": [
       "2022-01-09"
      ],
      "text/plain": [
       "[1] \"2022-01-09\""
      ]
     },
     "metadata": {},
     "output_type": "display_data"
    }
   ],
   "source": [
    "lst_date <- max(as.Date(jours$jour))\n",
    "lst_date"
   ]
  },
  {
   "cell_type": "code",
   "execution_count": 78,
   "id": "6f92698d-0eaa-4299-87c1-26f828cc5b73",
   "metadata": {},
   "outputs": [
    {
     "data": {
      "text/html": [
       "<time datetime=\"2020-03-18\">2020-03-18</time>"
      ],
      "text/latex": [
       "2020-03-18"
      ],
      "text/markdown": [
       "2020-03-18"
      ],
      "text/plain": [
       "[1] \"2020-03-18\""
      ]
     },
     "metadata": {},
     "output_type": "display_data"
    }
   ],
   "source": [
    "fst_date <- min(as.Date(jours$jour))\n",
    "fst_date"
   ]
  },
  {
   "cell_type": "code",
   "execution_count": null,
   "id": "79994bc3-bbc0-4b1c-9d78-d985e0ba3b69",
   "metadata": {},
   "outputs": [],
   "source": [
    "# Les observations sont donc entre le début du premier confinement et le 9 janvier 2022"
   ]
  },
  {
   "cell_type": "markdown",
   "id": "d9499d77-ed1a-4ea2-8d33-250e65ffa0f8",
   "metadata": {},
   "source": [
    "#### hosp"
   ]
  },
  {
   "cell_type": "code",
   "execution_count": 35,
   "id": "2cfa2d84-9935-4811-b00c-db698eb0c0e4",
   "metadata": {
    "collapsed": true,
    "jupyter": {
     "outputs_hidden": true
    },
    "tags": []
   },
   "outputs": [
    {
     "data": {
      "text/html": [
       "<table>\n",
       "<thead><tr><th scope=col>hosp</th><th scope=col>n</th></tr></thead>\n",
       "<tbody>\n",
       "\t<tr><td>0   </td><td>4983</td></tr>\n",
       "\t<tr><td>1   </td><td>4157</td></tr>\n",
       "\t<tr><td>2   </td><td>3932</td></tr>\n",
       "\t<tr><td>3   </td><td>3527</td></tr>\n",
       "</tbody>\n",
       "</table>\n"
      ],
      "text/latex": [
       "\\begin{tabular}{r|ll}\n",
       " hosp & n\\\\\n",
       "\\hline\n",
       "\t 0    & 4983\\\\\n",
       "\t 1    & 4157\\\\\n",
       "\t 2    & 3932\\\\\n",
       "\t 3    & 3527\\\\\n",
       "\\end{tabular}\n"
      ],
      "text/markdown": [
       "\n",
       "| hosp | n |\n",
       "|---|---|\n",
       "| 0    | 4983 |\n",
       "| 1    | 4157 |\n",
       "| 2    | 3932 |\n",
       "| 3    | 3527 |\n",
       "\n"
      ],
      "text/plain": [
       "  hosp n   \n",
       "1 0    4983\n",
       "2 1    4157\n",
       "3 2    3932\n",
       "4 3    3527"
      ]
     },
     "metadata": {},
     "output_type": "display_data"
    }
   ],
   "source": [
    "hosps <- df_hebdo_covid %>% count(hosp)\n",
    "head(hosps,4)"
   ]
  },
  {
   "cell_type": "code",
   "execution_count": 79,
   "id": "9d81aea9-f1dc-434c-9713-33d013bdd966",
   "metadata": {},
   "outputs": [
    {
     "data": {
      "text/html": [
       "<table>\n",
       "<thead><tr><th scope=col>hosp</th><th scope=col>n</th></tr></thead>\n",
       "<tbody>\n",
       "\t<tr><td>3281</td><td>1   </td></tr>\n",
       "</tbody>\n",
       "</table>\n"
      ],
      "text/latex": [
       "\\begin{tabular}{r|ll}\n",
       " hosp & n\\\\\n",
       "\\hline\n",
       "\t 3281 & 1   \\\\\n",
       "\\end{tabular}\n"
      ],
      "text/markdown": [
       "\n",
       "| hosp | n |\n",
       "|---|---|\n",
       "| 3281 | 1    |\n",
       "\n"
      ],
      "text/plain": [
       "  hosp n\n",
       "1 3281 1"
      ]
     },
     "metadata": {},
     "output_type": "display_data"
    }
   ],
   "source": [
    "more_nb_hosp <- hosps %>% filter(hosps$hosp == max(hosps$hosp))\n",
    "more_nb_hosp"
   ]
  },
  {
   "cell_type": "code",
   "execution_count": 80,
   "id": "d4c0648c-9346-445f-9eb0-88a2fa0c4060",
   "metadata": {},
   "outputs": [
    {
     "data": {
      "text/html": [
       "<table>\n",
       "<thead><tr><th scope=col>hosp</th><th scope=col>n</th></tr></thead>\n",
       "<tbody>\n",
       "\t<tr><td>0   </td><td>4983</td></tr>\n",
       "</tbody>\n",
       "</table>\n"
      ],
      "text/latex": [
       "\\begin{tabular}{r|ll}\n",
       " hosp & n\\\\\n",
       "\\hline\n",
       "\t 0    & 4983\\\\\n",
       "\\end{tabular}\n"
      ],
      "text/markdown": [
       "\n",
       "| hosp | n |\n",
       "|---|---|\n",
       "| 0    | 4983 |\n",
       "\n"
      ],
      "text/plain": [
       "  hosp n   \n",
       "1 0    4983"
      ]
     },
     "metadata": {},
     "output_type": "display_data"
    }
   ],
   "source": [
    "more_freq_nb_hosp <- hosps %>% filter(hosps$n == max(hosps$n))\n",
    "more_freq_nb_hosp"
   ]
  },
  {
   "cell_type": "markdown",
   "id": "5dcab8a3-94c5-4a30-a944-eac49e6173d2",
   "metadata": {},
   "source": [
    "#### rea"
   ]
  },
  {
   "cell_type": "code",
   "execution_count": 36,
   "id": "dd117828-bf3e-4b33-9c28-e695d0e40c1e",
   "metadata": {
    "collapsed": true,
    "jupyter": {
     "outputs_hidden": true
    },
    "tags": []
   },
   "outputs": [
    {
     "data": {
      "text/html": [
       "<table>\n",
       "<thead><tr><th scope=col>rea</th><th scope=col>n</th></tr></thead>\n",
       "<tbody>\n",
       "\t<tr><td>0    </td><td>29349</td></tr>\n",
       "\t<tr><td>1    </td><td>21422</td></tr>\n",
       "\t<tr><td>2    </td><td>16662</td></tr>\n",
       "\t<tr><td>3    </td><td>13373</td></tr>\n",
       "</tbody>\n",
       "</table>\n"
      ],
      "text/latex": [
       "\\begin{tabular}{r|ll}\n",
       " rea & n\\\\\n",
       "\\hline\n",
       "\t 0     & 29349\\\\\n",
       "\t 1     & 21422\\\\\n",
       "\t 2     & 16662\\\\\n",
       "\t 3     & 13373\\\\\n",
       "\\end{tabular}\n"
      ],
      "text/markdown": [
       "\n",
       "| rea | n |\n",
       "|---|---|\n",
       "| 0     | 29349 |\n",
       "| 1     | 21422 |\n",
       "| 2     | 16662 |\n",
       "| 3     | 13373 |\n",
       "\n"
      ],
      "text/plain": [
       "  rea n    \n",
       "1 0   29349\n",
       "2 1   21422\n",
       "3 2   16662\n",
       "4 3   13373"
      ]
     },
     "metadata": {},
     "output_type": "display_data"
    }
   ],
   "source": [
    "reas <- df_hebdo_covid %>% count(rea)\n",
    "head(reas,4)"
   ]
  },
  {
   "cell_type": "code",
   "execution_count": 82,
   "id": "61393fdb-f3aa-436f-92ad-d1deafd56424",
   "metadata": {},
   "outputs": [
    {
     "data": {
      "text/html": [
       "<table>\n",
       "<thead><tr><th scope=col>rea</th><th scope=col>n</th></tr></thead>\n",
       "<tbody>\n",
       "\t<tr><td>855</td><td>1  </td></tr>\n",
       "</tbody>\n",
       "</table>\n"
      ],
      "text/latex": [
       "\\begin{tabular}{r|ll}\n",
       " rea & n\\\\\n",
       "\\hline\n",
       "\t 855 & 1  \\\\\n",
       "\\end{tabular}\n"
      ],
      "text/markdown": [
       "\n",
       "| rea | n |\n",
       "|---|---|\n",
       "| 855 | 1   |\n",
       "\n"
      ],
      "text/plain": [
       "  rea n\n",
       "1 855 1"
      ]
     },
     "metadata": {},
     "output_type": "display_data"
    }
   ],
   "source": [
    "more_nb_rea <- reas %>% filter(reas$rea == max(reas$rea))\n",
    "more_nb_rea"
   ]
  },
  {
   "cell_type": "code",
   "execution_count": 83,
   "id": "5e7d1e8f-9267-4041-b6c7-b6e718a6e7cb",
   "metadata": {},
   "outputs": [
    {
     "data": {
      "text/html": [
       "<table>\n",
       "<thead><tr><th scope=col>rea</th><th scope=col>n</th></tr></thead>\n",
       "<tbody>\n",
       "\t<tr><td>0    </td><td>29349</td></tr>\n",
       "</tbody>\n",
       "</table>\n"
      ],
      "text/latex": [
       "\\begin{tabular}{r|ll}\n",
       " rea & n\\\\\n",
       "\\hline\n",
       "\t 0     & 29349\\\\\n",
       "\\end{tabular}\n"
      ],
      "text/markdown": [
       "\n",
       "| rea | n |\n",
       "|---|---|\n",
       "| 0     | 29349 |\n",
       "\n"
      ],
      "text/plain": [
       "  rea n    \n",
       "1 0   29349"
      ]
     },
     "metadata": {},
     "output_type": "display_data"
    }
   ],
   "source": [
    "more_freq_rea <- reas %>% filter(reas$n == max(reas$n))\n",
    "more_freq_rea"
   ]
  },
  {
   "cell_type": "markdown",
   "id": "97be7df0-c768-43b0-b4b0-ab02201a6951",
   "metadata": {},
   "source": [
    "#### HospConv"
   ]
  },
  {
   "cell_type": "code",
   "execution_count": 42,
   "id": "364472e9-1b8e-4721-ae9f-9e96e5947fa8",
   "metadata": {
    "collapsed": true,
    "jupyter": {
     "outputs_hidden": true
    },
    "tags": []
   },
   "outputs": [
    {
     "data": {
      "text/html": [
       "<table>\n",
       "<thead><tr><th scope=col>HospConv</th><th scope=col>n</th></tr></thead>\n",
       "<tbody>\n",
       "\t<tr><td>0   </td><td>2136</td></tr>\n",
       "\t<tr><td>1   </td><td>2112</td></tr>\n",
       "\t<tr><td>2   </td><td>2294</td></tr>\n",
       "\t<tr><td>3   </td><td>2796</td></tr>\n",
       "\t<tr><td>4   </td><td>2812</td></tr>\n",
       "\t<tr><td>5   </td><td>2637</td></tr>\n",
       "</tbody>\n",
       "</table>\n"
      ],
      "text/latex": [
       "\\begin{tabular}{r|ll}\n",
       " HospConv & n\\\\\n",
       "\\hline\n",
       "\t 0    & 2136\\\\\n",
       "\t 1    & 2112\\\\\n",
       "\t 2    & 2294\\\\\n",
       "\t 3    & 2796\\\\\n",
       "\t 4    & 2812\\\\\n",
       "\t 5    & 2637\\\\\n",
       "\\end{tabular}\n"
      ],
      "text/markdown": [
       "\n",
       "| HospConv | n |\n",
       "|---|---|\n",
       "| 0    | 2136 |\n",
       "| 1    | 2112 |\n",
       "| 2    | 2294 |\n",
       "| 3    | 2796 |\n",
       "| 4    | 2812 |\n",
       "| 5    | 2637 |\n",
       "\n"
      ],
      "text/plain": [
       "  HospConv n   \n",
       "1 0        2136\n",
       "2 1        2112\n",
       "3 2        2294\n",
       "4 3        2796\n",
       "5 4        2812\n",
       "6 5        2637"
      ]
     },
     "metadata": {},
     "output_type": "display_data"
    }
   ],
   "source": [
    "HospConvs <- df_hebdo_covid %>% count(HospConv)\n",
    "head(HospConvs,6)"
   ]
  },
  {
   "cell_type": "code",
   "execution_count": 54,
   "id": "880b65bf-2e05-445e-8d80-f2f191ac0d90",
   "metadata": {},
   "outputs": [
    {
     "data": {
      "text/html": [
       "<table>\n",
       "<thead><tr><th scope=col>HospConv</th><th scope=col>n</th></tr></thead>\n",
       "<tbody>\n",
       "\t<tr><td>1006</td><td>1   </td></tr>\n",
       "</tbody>\n",
       "</table>\n"
      ],
      "text/latex": [
       "\\begin{tabular}{r|ll}\n",
       " HospConv & n\\\\\n",
       "\\hline\n",
       "\t 1006 & 1   \\\\\n",
       "\\end{tabular}\n"
      ],
      "text/markdown": [
       "\n",
       "| HospConv | n |\n",
       "|---|---|\n",
       "| 1006 | 1    |\n",
       "\n"
      ],
      "text/plain": [
       "  HospConv n\n",
       "1 1006     1"
      ]
     },
     "metadata": {},
     "output_type": "display_data"
    }
   ],
   "source": [
    "HospConvs %>% filter(HospConvs$HospConv == max(HospConvs$HospConv,na.rm = TRUE))"
   ]
  },
  {
   "cell_type": "code",
   "execution_count": 57,
   "id": "63f2e3e1-69be-444f-9259-b5870792c0db",
   "metadata": {},
   "outputs": [
    {
     "data": {
      "text/html": [
       "<table>\n",
       "<thead><tr><th scope=col>HospConv</th><th scope=col>n</th></tr></thead>\n",
       "<tbody>\n",
       "\t<tr><td>4   </td><td>2812</td></tr>\n",
       "</tbody>\n",
       "</table>\n"
      ],
      "text/latex": [
       "\\begin{tabular}{r|ll}\n",
       " HospConv & n\\\\\n",
       "\\hline\n",
       "\t 4    & 2812\\\\\n",
       "\\end{tabular}\n"
      ],
      "text/markdown": [
       "\n",
       "| HospConv | n |\n",
       "|---|---|\n",
       "| 4    | 2812 |\n",
       "\n"
      ],
      "text/plain": [
       "  HospConv n   \n",
       "1 4        2812"
      ]
     },
     "metadata": {},
     "output_type": "display_data"
    }
   ],
   "source": [
    "HospConvs %>% filter(HospConvs$n == max(filter(HospConvs,!is.na(HospConvs$HospConv)),na.rm = TRUE))"
   ]
  },
  {
   "cell_type": "code",
   "execution_count": 59,
   "id": "2fd9095a-511b-46f6-869f-b2047ef6e1ef",
   "metadata": {},
   "outputs": [
    {
     "data": {
      "text/html": [
       "<table>\n",
       "<thead><tr><th scope=col>HospConv</th><th scope=col>n</th></tr></thead>\n",
       "<tbody>\n",
       "\t<tr><td>NA    </td><td>110105</td></tr>\n",
       "</tbody>\n",
       "</table>\n"
      ],
      "text/latex": [
       "\\begin{tabular}{r|ll}\n",
       " HospConv & n\\\\\n",
       "\\hline\n",
       "\t NA     & 110105\\\\\n",
       "\\end{tabular}\n"
      ],
      "text/markdown": [
       "\n",
       "| HospConv | n |\n",
       "|---|---|\n",
       "| NA     | 110105 |\n",
       "\n"
      ],
      "text/plain": [
       "  HospConv n     \n",
       "1 NA       110105"
      ]
     },
     "metadata": {},
     "output_type": "display_data"
    }
   ],
   "source": [
    "HospConvs %>% filter(HospConvs$n == max(HospConvs$n,na.rm = TRUE))"
   ]
  },
  {
   "cell_type": "markdown",
   "id": "40766c60-7285-4948-8759-3f3ea5e95ae3",
   "metadata": {},
   "source": [
    "#### SSR_USLD"
   ]
  },
  {
   "cell_type": "code",
   "execution_count": 63,
   "id": "dd78c746-47cf-4738-9ba5-8bf828211c66",
   "metadata": {
    "collapsed": true,
    "jupyter": {
     "outputs_hidden": true
    },
    "tags": []
   },
   "outputs": [
    {
     "data": {
      "text/html": [
       "<table>\n",
       "<thead><tr><th scope=col>SSR_USLD</th><th scope=col>n</th></tr></thead>\n",
       "<tbody>\n",
       "\t<tr><td>0   </td><td>6738</td></tr>\n",
       "\t<tr><td>1   </td><td>5872</td></tr>\n",
       "\t<tr><td>2   </td><td>4624</td></tr>\n",
       "\t<tr><td>3   </td><td>3883</td></tr>\n",
       "\t<tr><td>4   </td><td>3979</td></tr>\n",
       "\t<tr><td>5   </td><td>3165</td></tr>\n",
       "</tbody>\n",
       "</table>\n"
      ],
      "text/latex": [
       "\\begin{tabular}{r|ll}\n",
       " SSR\\_USLD & n\\\\\n",
       "\\hline\n",
       "\t 0    & 6738\\\\\n",
       "\t 1    & 5872\\\\\n",
       "\t 2    & 4624\\\\\n",
       "\t 3    & 3883\\\\\n",
       "\t 4    & 3979\\\\\n",
       "\t 5    & 3165\\\\\n",
       "\\end{tabular}\n"
      ],
      "text/markdown": [
       "\n",
       "| SSR_USLD | n |\n",
       "|---|---|\n",
       "| 0    | 6738 |\n",
       "| 1    | 5872 |\n",
       "| 2    | 4624 |\n",
       "| 3    | 3883 |\n",
       "| 4    | 3979 |\n",
       "| 5    | 3165 |\n",
       "\n"
      ],
      "text/plain": [
       "  SSR_USLD n   \n",
       "1 0        6738\n",
       "2 1        5872\n",
       "3 2        4624\n",
       "4 3        3883\n",
       "5 4        3979\n",
       "6 5        3165"
      ]
     },
     "metadata": {},
     "output_type": "display_data"
    }
   ],
   "source": [
    "SSR_USLDs <- df_hebdo_covid %>% count(SSR_USLD)\n",
    "head(SSR_USLDs,6)"
   ]
  },
  {
   "cell_type": "code",
   "execution_count": 64,
   "id": "51f18602-98d6-43c1-be56-0b299c446fa5",
   "metadata": {},
   "outputs": [
    {
     "data": {
      "text/html": [
       "<table>\n",
       "<thead><tr><th scope=col>SSR_USLD</th><th scope=col>n</th></tr></thead>\n",
       "<tbody>\n",
       "\t<tr><td>524</td><td>1  </td></tr>\n",
       "</tbody>\n",
       "</table>\n"
      ],
      "text/latex": [
       "\\begin{tabular}{r|ll}\n",
       " SSR\\_USLD & n\\\\\n",
       "\\hline\n",
       "\t 524 & 1  \\\\\n",
       "\\end{tabular}\n"
      ],
      "text/markdown": [
       "\n",
       "| SSR_USLD | n |\n",
       "|---|---|\n",
       "| 524 | 1   |\n",
       "\n"
      ],
      "text/plain": [
       "  SSR_USLD n\n",
       "1 524      1"
      ]
     },
     "metadata": {},
     "output_type": "display_data"
    }
   ],
   "source": [
    "SSR_USLDs %>% filter(SSR_USLDs$SSR_USLD == max(SSR_USLDs$SSR_USLD,na.rm = TRUE))"
   ]
  },
  {
   "cell_type": "code",
   "execution_count": 65,
   "id": "58e2c951-3a75-4382-98c6-dcef234ff4a1",
   "metadata": {},
   "outputs": [
    {
     "data": {
      "text/html": [
       "<table>\n",
       "<thead><tr><th scope=col>SSR_USLD</th><th scope=col>n</th></tr></thead>\n",
       "<tbody>\n",
       "\t<tr><td>0   </td><td>6738</td></tr>\n",
       "</tbody>\n",
       "</table>\n"
      ],
      "text/latex": [
       "\\begin{tabular}{r|ll}\n",
       " SSR\\_USLD & n\\\\\n",
       "\\hline\n",
       "\t 0    & 6738\\\\\n",
       "\\end{tabular}\n"
      ],
      "text/markdown": [
       "\n",
       "| SSR_USLD | n |\n",
       "|---|---|\n",
       "| 0    | 6738 |\n",
       "\n"
      ],
      "text/plain": [
       "  SSR_USLD n   \n",
       "1 0        6738"
      ]
     },
     "metadata": {},
     "output_type": "display_data"
    }
   ],
   "source": [
    "SSR_USLDs %>% filter(SSR_USLDs$n == max(filter(SSR_USLDs,!is.na(SSR_USLDs$SSR_USLD)),na.rm = TRUE))"
   ]
  },
  {
   "cell_type": "code",
   "execution_count": 66,
   "id": "4b337b8c-dabe-4764-a7b7-90d67d06b2c0",
   "metadata": {},
   "outputs": [
    {
     "data": {
      "text/html": [
       "<table>\n",
       "<thead><tr><th scope=col>SSR_USLD</th><th scope=col>n</th></tr></thead>\n",
       "<tbody>\n",
       "\t<tr><td>NA    </td><td>110105</td></tr>\n",
       "</tbody>\n",
       "</table>\n"
      ],
      "text/latex": [
       "\\begin{tabular}{r|ll}\n",
       " SSR\\_USLD & n\\\\\n",
       "\\hline\n",
       "\t NA     & 110105\\\\\n",
       "\\end{tabular}\n"
      ],
      "text/markdown": [
       "\n",
       "| SSR_USLD | n |\n",
       "|---|---|\n",
       "| NA     | 110105 |\n",
       "\n"
      ],
      "text/plain": [
       "  SSR_USLD n     \n",
       "1 NA       110105"
      ]
     },
     "metadata": {},
     "output_type": "display_data"
    }
   ],
   "source": [
    "SSR_USLDs %>% filter(SSR_USLDs$n == max(SSR_USLDs$n,na.rm = TRUE))"
   ]
  },
  {
   "cell_type": "markdown",
   "id": "fac2ab84-02e3-4127-a49e-21b5b20ec90b",
   "metadata": {
    "tags": []
   },
   "source": [
    "#### autres"
   ]
  },
  {
   "cell_type": "code",
   "execution_count": 68,
   "id": "fa60cafe-2c17-4757-b1b3-06fd0e4a984e",
   "metadata": {
    "collapsed": true,
    "jupyter": {
     "outputs_hidden": true
    },
    "tags": []
   },
   "outputs": [
    {
     "data": {
      "text/html": [
       "<table>\n",
       "<thead><tr><th scope=col>autres</th><th scope=col>n</th></tr></thead>\n",
       "<tbody>\n",
       "\t<tr><td>0    </td><td>51682</td></tr>\n",
       "\t<tr><td>1    </td><td>15329</td></tr>\n",
       "\t<tr><td>2    </td><td> 7603</td></tr>\n",
       "\t<tr><td>3    </td><td> 4297</td></tr>\n",
       "\t<tr><td>4    </td><td> 3204</td></tr>\n",
       "\t<tr><td>5    </td><td> 2351</td></tr>\n",
       "</tbody>\n",
       "</table>\n"
      ],
      "text/latex": [
       "\\begin{tabular}{r|ll}\n",
       " autres & n\\\\\n",
       "\\hline\n",
       "\t 0     & 51682\\\\\n",
       "\t 1     & 15329\\\\\n",
       "\t 2     &  7603\\\\\n",
       "\t 3     &  4297\\\\\n",
       "\t 4     &  3204\\\\\n",
       "\t 5     &  2351\\\\\n",
       "\\end{tabular}\n"
      ],
      "text/markdown": [
       "\n",
       "| autres | n |\n",
       "|---|---|\n",
       "| 0     | 51682 |\n",
       "| 1     | 15329 |\n",
       "| 2     |  7603 |\n",
       "| 3     |  4297 |\n",
       "| 4     |  3204 |\n",
       "| 5     |  2351 |\n",
       "\n"
      ],
      "text/plain": [
       "  autres n    \n",
       "1 0      51682\n",
       "2 1      15329\n",
       "3 2       7603\n",
       "4 3       4297\n",
       "5 4       3204\n",
       "6 5       2351"
      ]
     },
     "metadata": {},
     "output_type": "display_data"
    }
   ],
   "source": [
    "df_autres <- df_hebdo_covid %>% count(autres)\n",
    "head(df_autres,6)"
   ]
  },
  {
   "cell_type": "code",
   "execution_count": 69,
   "id": "6044e03f-ed06-40bf-8a28-067f34e087fc",
   "metadata": {},
   "outputs": [
    {
     "data": {
      "text/html": [
       "<table>\n",
       "<thead><tr><th scope=col>autres</th><th scope=col>n</th></tr></thead>\n",
       "<tbody>\n",
       "\t<tr><td>72</td><td>2 </td></tr>\n",
       "</tbody>\n",
       "</table>\n"
      ],
      "text/latex": [
       "\\begin{tabular}{r|ll}\n",
       " autres & n\\\\\n",
       "\\hline\n",
       "\t 72 & 2 \\\\\n",
       "\\end{tabular}\n"
      ],
      "text/markdown": [
       "\n",
       "| autres | n |\n",
       "|---|---|\n",
       "| 72 | 2  |\n",
       "\n"
      ],
      "text/plain": [
       "  autres n\n",
       "1 72     2"
      ]
     },
     "metadata": {},
     "output_type": "display_data"
    }
   ],
   "source": [
    "df_autres %>% filter(df_autres$autres == max(df_autres$autres,na.rm = TRUE))"
   ]
  },
  {
   "cell_type": "code",
   "execution_count": 70,
   "id": "a0d3dee8-8f24-46e1-9983-89d33a0e884e",
   "metadata": {},
   "outputs": [
    {
     "data": {
      "text/html": [
       "<table>\n",
       "<thead><tr><th scope=col>autres</th><th scope=col>n</th></tr></thead>\n",
       "<tbody>\n",
       "\t<tr><td>0    </td><td>51682</td></tr>\n",
       "</tbody>\n",
       "</table>\n"
      ],
      "text/latex": [
       "\\begin{tabular}{r|ll}\n",
       " autres & n\\\\\n",
       "\\hline\n",
       "\t 0     & 51682\\\\\n",
       "\\end{tabular}\n"
      ],
      "text/markdown": [
       "\n",
       "| autres | n |\n",
       "|---|---|\n",
       "| 0     | 51682 |\n",
       "\n"
      ],
      "text/plain": [
       "  autres n    \n",
       "1 0      51682"
      ]
     },
     "metadata": {},
     "output_type": "display_data"
    }
   ],
   "source": [
    "df_autres %>% filter(df_autres$n == max(filter(df_autres,!is.na(df_autres$autres)),na.rm = TRUE))"
   ]
  },
  {
   "cell_type": "code",
   "execution_count": 71,
   "id": "e2831ee2-b960-4f1d-8f1b-826b6834c918",
   "metadata": {},
   "outputs": [
    {
     "data": {
      "text/html": [
       "<table>\n",
       "<thead><tr><th scope=col>autres</th><th scope=col>n</th></tr></thead>\n",
       "<tbody>\n",
       "\t<tr><td>NA    </td><td>110105</td></tr>\n",
       "</tbody>\n",
       "</table>\n"
      ],
      "text/latex": [
       "\\begin{tabular}{r|ll}\n",
       " autres & n\\\\\n",
       "\\hline\n",
       "\t NA     & 110105\\\\\n",
       "\\end{tabular}\n"
      ],
      "text/markdown": [
       "\n",
       "| autres | n |\n",
       "|---|---|\n",
       "| NA     | 110105 |\n",
       "\n"
      ],
      "text/plain": [
       "  autres n     \n",
       "1 NA     110105"
      ]
     },
     "metadata": {},
     "output_type": "display_data"
    }
   ],
   "source": [
    "df_autres %>% filter(df_autres$n == max(df_autres$n,na.rm = TRUE))"
   ]
  },
  {
   "cell_type": "markdown",
   "id": "d8d47249-d60e-426c-9f4d-92f0c1f3610d",
   "metadata": {},
   "source": [
    "#### dc"
   ]
  },
  {
   "cell_type": "code",
   "execution_count": 72,
   "id": "d1e5e53d-d2f1-45fb-921d-90f62320a89f",
   "metadata": {
    "collapsed": true,
    "jupyter": {
     "outputs_hidden": true
    },
    "tags": []
   },
   "outputs": [
    {
     "data": {
      "text/html": [
       "<table>\n",
       "<thead><tr><th scope=col>dc</th><th scope=col>n</th></tr></thead>\n",
       "<tbody>\n",
       "\t<tr><td>0   </td><td>3753</td></tr>\n",
       "\t<tr><td>1   </td><td>1774</td></tr>\n",
       "\t<tr><td>2   </td><td>1013</td></tr>\n",
       "\t<tr><td>3   </td><td> 913</td></tr>\n",
       "\t<tr><td>4   </td><td> 834</td></tr>\n",
       "\t<tr><td>5   </td><td> 986</td></tr>\n",
       "</tbody>\n",
       "</table>\n"
      ],
      "text/latex": [
       "\\begin{tabular}{r|ll}\n",
       " dc & n\\\\\n",
       "\\hline\n",
       "\t 0    & 3753\\\\\n",
       "\t 1    & 1774\\\\\n",
       "\t 2    & 1013\\\\\n",
       "\t 3    &  913\\\\\n",
       "\t 4    &  834\\\\\n",
       "\t 5    &  986\\\\\n",
       "\\end{tabular}\n"
      ],
      "text/markdown": [
       "\n",
       "| dc | n |\n",
       "|---|---|\n",
       "| 0    | 3753 |\n",
       "| 1    | 1774 |\n",
       "| 2    | 1013 |\n",
       "| 3    |  913 |\n",
       "| 4    |  834 |\n",
       "| 5    |  986 |\n",
       "\n"
      ],
      "text/plain": [
       "  dc n   \n",
       "1 0  3753\n",
       "2 1  1774\n",
       "3 2  1013\n",
       "4 3   913\n",
       "5 4   834\n",
       "6 5   986"
      ]
     },
     "metadata": {},
     "output_type": "display_data"
    }
   ],
   "source": [
    "dcs <- df_hebdo_covid %>% count(dc)\n",
    "head(dcs,6)"
   ]
  },
  {
   "cell_type": "code",
   "execution_count": 84,
   "id": "6ba29c6b-a238-42ab-af89-41be34f5e0e4",
   "metadata": {},
   "outputs": [
    {
     "data": {
      "text/html": [
       "<table>\n",
       "<thead><tr><th scope=col>dc</th><th scope=col>n</th></tr></thead>\n",
       "<tbody>\n",
       "\t<tr><td>5059</td><td>1   </td></tr>\n",
       "</tbody>\n",
       "</table>\n"
      ],
      "text/latex": [
       "\\begin{tabular}{r|ll}\n",
       " dc & n\\\\\n",
       "\\hline\n",
       "\t 5059 & 1   \\\\\n",
       "\\end{tabular}\n"
      ],
      "text/markdown": [
       "\n",
       "| dc | n |\n",
       "|---|---|\n",
       "| 5059 | 1    |\n",
       "\n"
      ],
      "text/plain": [
       "  dc   n\n",
       "1 5059 1"
      ]
     },
     "metadata": {},
     "output_type": "display_data"
    }
   ],
   "source": [
    "more_nb_dc <- dcs %>% filter(dcs$dc == max(dcs$dc,na.rm = TRUE))\n",
    "more_nb_dc"
   ]
  },
  {
   "cell_type": "code",
   "execution_count": 85,
   "id": "1c6a4048-4e59-4072-b8d3-282b131fc5be",
   "metadata": {},
   "outputs": [
    {
     "data": {
      "text/html": [
       "<table>\n",
       "<thead><tr><th scope=col>dc</th><th scope=col>n</th></tr></thead>\n",
       "<tbody>\n",
       "\t<tr><td>0   </td><td>3753</td></tr>\n",
       "</tbody>\n",
       "</table>\n"
      ],
      "text/latex": [
       "\\begin{tabular}{r|ll}\n",
       " dc & n\\\\\n",
       "\\hline\n",
       "\t 0    & 3753\\\\\n",
       "\\end{tabular}\n"
      ],
      "text/markdown": [
       "\n",
       "| dc | n |\n",
       "|---|---|\n",
       "| 0    | 3753 |\n",
       "\n"
      ],
      "text/plain": [
       "  dc n   \n",
       "1 0  3753"
      ]
     },
     "metadata": {},
     "output_type": "display_data"
    }
   ],
   "source": [
    "more_freq_dc <- dcs %>% filter(dcs$n == max(dcs$n,na.rm = TRUE))\n",
    "more_freq_dc"
   ]
  },
  {
   "cell_type": "markdown",
   "id": "d59611ea-b3bc-4d2a-ad20-5365bb571f68",
   "metadata": {},
   "source": [
    "### Brief of the simple EDA per column"
   ]
  },
  {
   "cell_type": "markdown",
   "id": "23b7ada1-d30f-403d-84fc-44298df58194",
   "metadata": {},
   "source": [
    "The study period is between 18th March 2020 and 9th January 2022, that's more than 2years."
   ]
  },
  {
   "cell_type": "code",
   "execution_count": 86,
   "id": "52cc90e2-f44f-428e-bd01-2494a82ee7aa",
   "metadata": {},
   "outputs": [
    {
     "data": {
      "text/html": [
       "<time datetime=\"2020-03-18\">2020-03-18</time>"
      ],
      "text/latex": [
       "2020-03-18"
      ],
      "text/markdown": [
       "2020-03-18"
      ],
      "text/plain": [
       "[1] \"2020-03-18\""
      ]
     },
     "metadata": {},
     "output_type": "display_data"
    },
    {
     "data": {
      "text/html": [
       "<time datetime=\"2022-01-09\">2022-01-09</time>"
      ],
      "text/latex": [
       "2022-01-09"
      ],
      "text/markdown": [
       "2022-01-09"
      ],
      "text/plain": [
       "[1] \"2022-01-09\""
      ]
     },
     "metadata": {},
     "output_type": "display_data"
    }
   ],
   "source": [
    "fst_date\n",
    "lst_date"
   ]
  },
  {
   "cell_type": "markdown",
   "id": "f53f9f51-2d4a-40cd-a861-59c36083711a",
   "metadata": {},
   "source": [
    "Datas show us that the highiest number of notified hospitalisation is 3281 people at the same day through all french deps. And, hopefully the more frenquently numbre of notified hospitalisation is 0 at the same day."
   ]
  },
  {
   "cell_type": "code",
   "execution_count": 87,
   "id": "d2761ad9-af71-463c-a90c-a7821b3cc45a",
   "metadata": {},
   "outputs": [
    {
     "data": {
      "text/html": [
       "<table>\n",
       "<thead><tr><th scope=col>hosp</th><th scope=col>n</th></tr></thead>\n",
       "<tbody>\n",
       "\t<tr><td>3281</td><td>1   </td></tr>\n",
       "</tbody>\n",
       "</table>\n"
      ],
      "text/latex": [
       "\\begin{tabular}{r|ll}\n",
       " hosp & n\\\\\n",
       "\\hline\n",
       "\t 3281 & 1   \\\\\n",
       "\\end{tabular}\n"
      ],
      "text/markdown": [
       "\n",
       "| hosp | n |\n",
       "|---|---|\n",
       "| 3281 | 1    |\n",
       "\n"
      ],
      "text/plain": [
       "  hosp n\n",
       "1 3281 1"
      ]
     },
     "metadata": {},
     "output_type": "display_data"
    },
    {
     "data": {
      "text/html": [
       "<table>\n",
       "<thead><tr><th scope=col>hosp</th><th scope=col>n</th></tr></thead>\n",
       "<tbody>\n",
       "\t<tr><td>0   </td><td>4983</td></tr>\n",
       "</tbody>\n",
       "</table>\n"
      ],
      "text/latex": [
       "\\begin{tabular}{r|ll}\n",
       " hosp & n\\\\\n",
       "\\hline\n",
       "\t 0    & 4983\\\\\n",
       "\\end{tabular}\n"
      ],
      "text/markdown": [
       "\n",
       "| hosp | n |\n",
       "|---|---|\n",
       "| 0    | 4983 |\n",
       "\n"
      ],
      "text/plain": [
       "  hosp n   \n",
       "1 0    4983"
      ]
     },
     "metadata": {},
     "output_type": "display_data"
    }
   ],
   "source": [
    "more_nb_hosp\n",
    "more_freq_nb_hosp"
   ]
  },
  {
   "cell_type": "markdown",
   "id": "3fa259e4-659d-4def-8047-eb3408053e54",
   "metadata": {},
   "source": []
  },
  {
   "cell_type": "markdown",
   "id": "e19dc097-2447-4e15-aa02-b97dbd63cfc7",
   "metadata": {},
   "source": []
  },
  {
   "cell_type": "markdown",
   "id": "f3bbdfea-38d5-4da0-864a-bdce7b397a28",
   "metadata": {},
   "source": []
  }
 ],
 "metadata": {
  "kernelspec": {
   "display_name": "R",
   "language": "R",
   "name": "ir"
  },
  "language_info": {
   "codemirror_mode": "r",
   "file_extension": ".r",
   "mimetype": "text/x-r-source",
   "name": "R",
   "pygments_lexer": "r",
   "version": "3.6.1"
  }
 },
 "nbformat": 4,
 "nbformat_minor": 5
}
