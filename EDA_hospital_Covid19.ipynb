{
 "cells": [
  {
   "cell_type": "markdown",
   "id": "4f3a9356-d516-45cd-8e99-022221946423",
   "metadata": {},
   "source": [
    "# EDA French hospital data about Covid 19"
   ]
  },
  {
   "cell_type": "raw",
   "id": "b76e958e-f328-4bdc-a0b3-7b93bd615245",
   "metadata": {},
   "source": [
    "This notebook is an EDA of french hospital's data concerning Covid 19 plague.\n",
    " -> Import data:\n",
    "     * Stage 1 : Import a csv file from a downloaded file \n",
    "     * Stage 2 : Import few csv file from the web\n",
    " -> Exploration and cleaning data:\n",
    "     * Stage 1 : Open and display all data from csv file, then clean data.\n",
    "     * Satge 2 : Open, concat, display al data from scrapped files and then clean them.\n",
    " -> Analysis:\n",
    "     * Stage 1 : Make some usefull analysis and display with a story telling\n",
    "     * Stage 2 : Make some usefull analysis and upload some dataframe for displaying them through a R-shiny application\n",
    " -> (Optional) : Make some comments "
   ]
  },
  {
   "cell_type": "markdown",
   "id": "d63e0753-fcfd-4e1a-bb06-a79a5ec0aac6",
   "metadata": {},
   "source": [
    "# Library"
   ]
  },
  {
   "cell_type": "code",
   "execution_count": 1,
   "id": "a3908e04-f57f-494b-afd5-85b040f4d388",
   "metadata": {},
   "outputs": [
    {
     "name": "stderr",
     "output_type": "stream",
     "text": [
      "Warning message:\n",
      "\"package 'dplyr' was built under R version 3.6.3\"\n",
      "Attaching package: 'dplyr'\n",
      "\n",
      "The following objects are masked from 'package:stats':\n",
      "\n",
      "    filter, lag\n",
      "\n",
      "The following objects are masked from 'package:base':\n",
      "\n",
      "    intersect, setdiff, setequal, union\n",
      "\n"
     ]
    }
   ],
   "source": [
    "# install.packages(\"dplyr\")\n",
    "library(dplyr)"
   ]
  },
  {
   "cell_type": "code",
   "execution_count": 2,
   "id": "1b4d9e1d-c85a-424d-9fdc-31891a9bdeaf",
   "metadata": {},
   "outputs": [],
   "source": [
    "# install.packages(\"ggplot2\")\n",
    "library(ggplot2)"
   ]
  },
  {
   "cell_type": "markdown",
   "id": "e5acb763-519c-4ef2-be19-44b41ea1981d",
   "metadata": {},
   "source": [
    "## Import data"
   ]
  },
  {
   "cell_type": "code",
   "execution_count": 3,
   "id": "9a2b050d-8b40-4fd0-a7e7-d6c64cb2193f",
   "metadata": {},
   "outputs": [],
   "source": [
    "#==============================================================#\n",
    "# ================== Scapping from internet ===================#"
   ]
  },
  {
   "cell_type": "code",
   "execution_count": 4,
   "id": "0d33024a-7ce3-4ade-b425-566f614036e8",
   "metadata": {
    "tags": []
   },
   "outputs": [],
   "source": [
    "#\n",
    "# Use code from \"Web_scraping.ipynb\"\n",
    "#"
   ]
  },
  {
   "cell_type": "code",
   "execution_count": 5,
   "id": "7054a82e-fe5f-4113-89f4-23e33b8304a8",
   "metadata": {},
   "outputs": [],
   "source": [
    "#==============================================================#"
   ]
  },
  {
   "cell_type": "code",
   "execution_count": 6,
   "id": "5d94c0ee-9804-43fd-b3fc-629a48e43027",
   "metadata": {},
   "outputs": [],
   "source": [
    "# df_incid_reg <- read.csv(\"data/data_hopital/covid-hospit-incid-reg-2022-01-09-19h06.csv\", sep=\";\")\n",
    "# #### Changement du nom des colonnes\n",
    "# # names(data) <- c(\"X\", \"année\", \"prénom\", \"genre\", \"naissance\")\n",
    "# # Affichage des 5 premières lignes\n",
    "# head(df_incid_reg,5)"
   ]
  },
  {
   "cell_type": "code",
   "execution_count": 7,
   "id": "18064ac1-f9a8-46d5-8407-4eaaf6768d1d",
   "metadata": {},
   "outputs": [],
   "source": [
    "# df_incid_reg <- read.csv(\"data/data_hopital/covid-hospit-incid-reg-2022-01-09-19h06.csv\", sep=\";\")\n",
    "# #### Changement du nom des colonnes\n",
    "# # names(data) <- c(\"X\", \"année\", \"prénom\", \"genre\", \"naissance\")\n",
    "# # Affichage des 5 premières lignes\n",
    "# head(df_incid_reg,5)"
   ]
  },
  {
   "cell_type": "code",
   "execution_count": 8,
   "id": "c6cb0024-7848-4c9a-90f2-59793d8244ad",
   "metadata": {},
   "outputs": [
    {
     "data": {
      "text/html": [
       "<table>\n",
       "<thead><tr><th scope=col>dep</th><th scope=col>sexe</th><th scope=col>jour</th><th scope=col>hosp</th><th scope=col>rea</th><th scope=col>HospConv</th><th scope=col>SSR_USLD</th><th scope=col>autres</th><th scope=col>rad</th><th scope=col>dc</th></tr></thead>\n",
       "<tbody>\n",
       "\t<tr><td>01        </td><td>0         </td><td>2020-03-18</td><td> 2        </td><td> 0        </td><td>NA        </td><td>NA        </td><td>NA        </td><td> 1        </td><td> 0        </td></tr>\n",
       "\t<tr><td>01        </td><td>1         </td><td>2020-03-18</td><td> 1        </td><td> 0        </td><td>NA        </td><td>NA        </td><td>NA        </td><td> 1        </td><td> 0        </td></tr>\n",
       "\t<tr><td>01        </td><td>2         </td><td>2020-03-18</td><td> 1        </td><td> 0        </td><td>NA        </td><td>NA        </td><td>NA        </td><td> 0        </td><td> 0        </td></tr>\n",
       "\t<tr><td>02        </td><td>0         </td><td>2020-03-18</td><td>41        </td><td>10        </td><td>NA        </td><td>NA        </td><td>NA        </td><td>18        </td><td>11        </td></tr>\n",
       "\t<tr><td>02        </td><td>1         </td><td>2020-03-18</td><td>19        </td><td> 4        </td><td>NA        </td><td>NA        </td><td>NA        </td><td>11        </td><td> 6        </td></tr>\n",
       "\t<tr><td>02        </td><td>2         </td><td>2020-03-18</td><td>22        </td><td> 6        </td><td>NA        </td><td>NA        </td><td>NA        </td><td> 7        </td><td> 5        </td></tr>\n",
       "\t<tr><td>03        </td><td>0         </td><td>2020-03-18</td><td> 4        </td><td> 0        </td><td>NA        </td><td>NA        </td><td>NA        </td><td> 1        </td><td> 0        </td></tr>\n",
       "\t<tr><td>03        </td><td>1         </td><td>2020-03-18</td><td> 1        </td><td> 0        </td><td>NA        </td><td>NA        </td><td>NA        </td><td> 0        </td><td> 0        </td></tr>\n",
       "\t<tr><td>03        </td><td>2         </td><td>2020-03-18</td><td> 3        </td><td> 0        </td><td>NA        </td><td>NA        </td><td>NA        </td><td> 1        </td><td> 0        </td></tr>\n",
       "\t<tr><td>04        </td><td>0         </td><td>2020-03-18</td><td> 3        </td><td> 1        </td><td>NA        </td><td>NA        </td><td>NA        </td><td> 2        </td><td> 0        </td></tr>\n",
       "\t<tr><td>04        </td><td>1         </td><td>2020-03-18</td><td> 3        </td><td> 1        </td><td>NA        </td><td>NA        </td><td>NA        </td><td> 0        </td><td> 0        </td></tr>\n",
       "\t<tr><td>04        </td><td>2         </td><td>2020-03-18</td><td> 0        </td><td> 0        </td><td>NA        </td><td>NA        </td><td>NA        </td><td> 2        </td><td> 0        </td></tr>\n",
       "\t<tr><td>05        </td><td>0         </td><td>2020-03-18</td><td> 8        </td><td> 1        </td><td>NA        </td><td>NA        </td><td>NA        </td><td> 9        </td><td> 0        </td></tr>\n",
       "\t<tr><td>05        </td><td>1         </td><td>2020-03-18</td><td> 1        </td><td> 0        </td><td>NA        </td><td>NA        </td><td>NA        </td><td> 7        </td><td> 0        </td></tr>\n",
       "\t<tr><td>05        </td><td>2         </td><td>2020-03-18</td><td> 7        </td><td> 1        </td><td>NA        </td><td>NA        </td><td>NA        </td><td> 2        </td><td> 0        </td></tr>\n",
       "</tbody>\n",
       "</table>\n"
      ],
      "text/latex": [
       "\\begin{tabular}{r|llllllllll}\n",
       " dep & sexe & jour & hosp & rea & HospConv & SSR\\_USLD & autres & rad & dc\\\\\n",
       "\\hline\n",
       "\t 01         & 0          & 2020-03-18 &  2         &  0         & NA         & NA         & NA         &  1         &  0        \\\\\n",
       "\t 01         & 1          & 2020-03-18 &  1         &  0         & NA         & NA         & NA         &  1         &  0        \\\\\n",
       "\t 01         & 2          & 2020-03-18 &  1         &  0         & NA         & NA         & NA         &  0         &  0        \\\\\n",
       "\t 02         & 0          & 2020-03-18 & 41         & 10         & NA         & NA         & NA         & 18         & 11        \\\\\n",
       "\t 02         & 1          & 2020-03-18 & 19         &  4         & NA         & NA         & NA         & 11         &  6        \\\\\n",
       "\t 02         & 2          & 2020-03-18 & 22         &  6         & NA         & NA         & NA         &  7         &  5        \\\\\n",
       "\t 03         & 0          & 2020-03-18 &  4         &  0         & NA         & NA         & NA         &  1         &  0        \\\\\n",
       "\t 03         & 1          & 2020-03-18 &  1         &  0         & NA         & NA         & NA         &  0         &  0        \\\\\n",
       "\t 03         & 2          & 2020-03-18 &  3         &  0         & NA         & NA         & NA         &  1         &  0        \\\\\n",
       "\t 04         & 0          & 2020-03-18 &  3         &  1         & NA         & NA         & NA         &  2         &  0        \\\\\n",
       "\t 04         & 1          & 2020-03-18 &  3         &  1         & NA         & NA         & NA         &  0         &  0        \\\\\n",
       "\t 04         & 2          & 2020-03-18 &  0         &  0         & NA         & NA         & NA         &  2         &  0        \\\\\n",
       "\t 05         & 0          & 2020-03-18 &  8         &  1         & NA         & NA         & NA         &  9         &  0        \\\\\n",
       "\t 05         & 1          & 2020-03-18 &  1         &  0         & NA         & NA         & NA         &  7         &  0        \\\\\n",
       "\t 05         & 2          & 2020-03-18 &  7         &  1         & NA         & NA         & NA         &  2         &  0        \\\\\n",
       "\\end{tabular}\n"
      ],
      "text/markdown": [
       "\n",
       "| dep | sexe | jour | hosp | rea | HospConv | SSR_USLD | autres | rad | dc |\n",
       "|---|---|---|---|---|---|---|---|---|---|\n",
       "| 01         | 0          | 2020-03-18 |  2         |  0         | NA         | NA         | NA         |  1         |  0         |\n",
       "| 01         | 1          | 2020-03-18 |  1         |  0         | NA         | NA         | NA         |  1         |  0         |\n",
       "| 01         | 2          | 2020-03-18 |  1         |  0         | NA         | NA         | NA         |  0         |  0         |\n",
       "| 02         | 0          | 2020-03-18 | 41         | 10         | NA         | NA         | NA         | 18         | 11         |\n",
       "| 02         | 1          | 2020-03-18 | 19         |  4         | NA         | NA         | NA         | 11         |  6         |\n",
       "| 02         | 2          | 2020-03-18 | 22         |  6         | NA         | NA         | NA         |  7         |  5         |\n",
       "| 03         | 0          | 2020-03-18 |  4         |  0         | NA         | NA         | NA         |  1         |  0         |\n",
       "| 03         | 1          | 2020-03-18 |  1         |  0         | NA         | NA         | NA         |  0         |  0         |\n",
       "| 03         | 2          | 2020-03-18 |  3         |  0         | NA         | NA         | NA         |  1         |  0         |\n",
       "| 04         | 0          | 2020-03-18 |  3         |  1         | NA         | NA         | NA         |  2         |  0         |\n",
       "| 04         | 1          | 2020-03-18 |  3         |  1         | NA         | NA         | NA         |  0         |  0         |\n",
       "| 04         | 2          | 2020-03-18 |  0         |  0         | NA         | NA         | NA         |  2         |  0         |\n",
       "| 05         | 0          | 2020-03-18 |  8         |  1         | NA         | NA         | NA         |  9         |  0         |\n",
       "| 05         | 1          | 2020-03-18 |  1         |  0         | NA         | NA         | NA         |  7         |  0         |\n",
       "| 05         | 2          | 2020-03-18 |  7         |  1         | NA         | NA         | NA         |  2         |  0         |\n",
       "\n"
      ],
      "text/plain": [
       "   dep sexe jour       hosp rea HospConv SSR_USLD autres rad dc\n",
       "1  01  0    2020-03-18  2    0  NA       NA       NA      1   0\n",
       "2  01  1    2020-03-18  1    0  NA       NA       NA      1   0\n",
       "3  01  2    2020-03-18  1    0  NA       NA       NA      0   0\n",
       "4  02  0    2020-03-18 41   10  NA       NA       NA     18  11\n",
       "5  02  1    2020-03-18 19    4  NA       NA       NA     11   6\n",
       "6  02  2    2020-03-18 22    6  NA       NA       NA      7   5\n",
       "7  03  0    2020-03-18  4    0  NA       NA       NA      1   0\n",
       "8  03  1    2020-03-18  1    0  NA       NA       NA      0   0\n",
       "9  03  2    2020-03-18  3    0  NA       NA       NA      1   0\n",
       "10 04  0    2020-03-18  3    1  NA       NA       NA      2   0\n",
       "11 04  1    2020-03-18  3    1  NA       NA       NA      0   0\n",
       "12 04  2    2020-03-18  0    0  NA       NA       NA      2   0\n",
       "13 05  0    2020-03-18  8    1  NA       NA       NA      9   0\n",
       "14 05  1    2020-03-18  1    0  NA       NA       NA      7   0\n",
       "15 05  2    2020-03-18  7    1  NA       NA       NA      2   0"
      ]
     },
     "metadata": {},
     "output_type": "display_data"
    }
   ],
   "source": [
    "df_hebdo_covid <- read.csv(\"data/data_hopital/donnees-hospitalieres-covid19-2022-01-09-19h06.csv\", sep=\";\")\n",
    "#### Changement du nom des colonnes\n",
    "# names(data) <- c(\"X\", \"année\", \"prénom\", \"genre\", \"naissance\")\n",
    "# Affichage des 5 premières lignes\n",
    "head(df_hebdo_covid,15)"
   ]
  },
  {
   "cell_type": "markdown",
   "id": "2a10683e-6ba7-4b4d-8a95-3871c63f0c8a",
   "metadata": {},
   "source": [
    "-------------------------------------"
   ]
  },
  {
   "cell_type": "markdown",
   "id": "ce09bf28-1732-443e-a040-e0882712460a",
   "metadata": {
    "tags": []
   },
   "source": [
    "## Exploration"
   ]
  },
  {
   "cell_type": "markdown",
   "id": "a9e06def-4ef2-4d5b-a4f6-16973f1d725c",
   "metadata": {},
   "source": [
    "#### dep"
   ]
  },
  {
   "cell_type": "code",
   "execution_count": 9,
   "id": "86031f35-3f70-4395-8bc0-8d9899df84ed",
   "metadata": {},
   "outputs": [
    {
     "data": {
      "text/html": [
       "<table>\n",
       "<thead><tr><th scope=col>dep</th><th scope=col>n</th></tr></thead>\n",
       "<tbody>\n",
       "\t<tr><td>01  </td><td>1989</td></tr>\n",
       "\t<tr><td>02  </td><td>1989</td></tr>\n",
       "\t<tr><td>03  </td><td>1989</td></tr>\n",
       "</tbody>\n",
       "</table>\n"
      ],
      "text/latex": [
       "\\begin{tabular}{r|ll}\n",
       " dep & n\\\\\n",
       "\\hline\n",
       "\t 01   & 1989\\\\\n",
       "\t 02   & 1989\\\\\n",
       "\t 03   & 1989\\\\\n",
       "\\end{tabular}\n"
      ],
      "text/markdown": [
       "\n",
       "| dep | n |\n",
       "|---|---|\n",
       "| 01   | 1989 |\n",
       "| 02   | 1989 |\n",
       "| 03   | 1989 |\n",
       "\n"
      ],
      "text/plain": [
       "  dep n   \n",
       "1 01  1989\n",
       "2 02  1989\n",
       "3 03  1989"
      ]
     },
     "metadata": {},
     "output_type": "display_data"
    }
   ],
   "source": [
    "deps <- df_hebdo_covid %>% count(dep)\n",
    "head(deps,3)"
   ]
  },
  {
   "cell_type": "code",
   "execution_count": 10,
   "id": "b0adb3cf-4734-4ced-920f-b370d68913e3",
   "metadata": {},
   "outputs": [
    {
     "data": {
      "text/html": [
       "102"
      ],
      "text/latex": [
       "102"
      ],
      "text/markdown": [
       "102"
      ],
      "text/plain": [
       "[1] 102"
      ]
     },
     "metadata": {},
     "output_type": "display_data"
    }
   ],
   "source": [
    "nb_dep <- length(deps$dep)\n",
    "nb_dep"
   ]
  },
  {
   "cell_type": "code",
   "execution_count": 11,
   "id": "0b809ecc-6fef-47f6-838f-b6e3ebb76061",
   "metadata": {
    "tags": []
   },
   "outputs": [
    {
     "data": {
      "text/html": [
       "<ol class=list-inline>\n",
       "\t<li>01</li>\n",
       "\t<li>02</li>\n",
       "\t<li>03</li>\n",
       "\t<li>04</li>\n",
       "\t<li>05</li>\n",
       "</ol>\n",
       "\n",
       "<details>\n",
       "\t<summary style=display:list-item;cursor:pointer>\n",
       "\t\t<strong>Levels</strong>:\n",
       "\t</summary>\n",
       "\t<ol class=list-inline>\n",
       "\t\t<li>'01'</li>\n",
       "\t\t<li>'02'</li>\n",
       "\t\t<li>'03'</li>\n",
       "\t\t<li>'04'</li>\n",
       "\t\t<li>'05'</li>\n",
       "\t\t<li>'06'</li>\n",
       "\t\t<li>'07'</li>\n",
       "\t\t<li>'08'</li>\n",
       "\t\t<li>'09'</li>\n",
       "\t\t<li>'10'</li>\n",
       "\t\t<li>'11'</li>\n",
       "\t\t<li>'12'</li>\n",
       "\t\t<li>'13'</li>\n",
       "\t\t<li>'14'</li>\n",
       "\t\t<li>'15'</li>\n",
       "\t\t<li>'16'</li>\n",
       "\t\t<li>'17'</li>\n",
       "\t\t<li>'18'</li>\n",
       "\t\t<li>'19'</li>\n",
       "\t\t<li>'21'</li>\n",
       "\t\t<li>'22'</li>\n",
       "\t\t<li>'23'</li>\n",
       "\t\t<li>'24'</li>\n",
       "\t\t<li>'25'</li>\n",
       "\t\t<li>'26'</li>\n",
       "\t\t<li>'27'</li>\n",
       "\t\t<li>'28'</li>\n",
       "\t\t<li>'29'</li>\n",
       "\t\t<li>'2A'</li>\n",
       "\t\t<li>'2B'</li>\n",
       "\t\t<li>'30'</li>\n",
       "\t\t<li>'31'</li>\n",
       "\t\t<li>'32'</li>\n",
       "\t\t<li>'33'</li>\n",
       "\t\t<li>'34'</li>\n",
       "\t\t<li>'35'</li>\n",
       "\t\t<li>'36'</li>\n",
       "\t\t<li>'37'</li>\n",
       "\t\t<li>'38'</li>\n",
       "\t\t<li>'39'</li>\n",
       "\t\t<li>'40'</li>\n",
       "\t\t<li>'41'</li>\n",
       "\t\t<li>'42'</li>\n",
       "\t\t<li>'43'</li>\n",
       "\t\t<li>'44'</li>\n",
       "\t\t<li>'45'</li>\n",
       "\t\t<li>'46'</li>\n",
       "\t\t<li>'47'</li>\n",
       "\t\t<li>'48'</li>\n",
       "\t\t<li>'49'</li>\n",
       "\t\t<li>'50'</li>\n",
       "\t\t<li>'51'</li>\n",
       "\t\t<li>'52'</li>\n",
       "\t\t<li>'53'</li>\n",
       "\t\t<li>'54'</li>\n",
       "\t\t<li>'55'</li>\n",
       "\t\t<li>'56'</li>\n",
       "\t\t<li>'57'</li>\n",
       "\t\t<li>'58'</li>\n",
       "\t\t<li>'59'</li>\n",
       "\t\t<li>'60'</li>\n",
       "\t\t<li>'61'</li>\n",
       "\t\t<li>'62'</li>\n",
       "\t\t<li>'63'</li>\n",
       "\t\t<li>'64'</li>\n",
       "\t\t<li>'65'</li>\n",
       "\t\t<li>'66'</li>\n",
       "\t\t<li>'67'</li>\n",
       "\t\t<li>'68'</li>\n",
       "\t\t<li>'69'</li>\n",
       "\t\t<li>'70'</li>\n",
       "\t\t<li>'71'</li>\n",
       "\t\t<li>'72'</li>\n",
       "\t\t<li>'73'</li>\n",
       "\t\t<li>'74'</li>\n",
       "\t\t<li>'75'</li>\n",
       "\t\t<li>'76'</li>\n",
       "\t\t<li>'77'</li>\n",
       "\t\t<li>'78'</li>\n",
       "\t\t<li>'79'</li>\n",
       "\t\t<li>'80'</li>\n",
       "\t\t<li>'81'</li>\n",
       "\t\t<li>'82'</li>\n",
       "\t\t<li>'83'</li>\n",
       "\t\t<li>'84'</li>\n",
       "\t\t<li>'85'</li>\n",
       "\t\t<li>'86'</li>\n",
       "\t\t<li>'87'</li>\n",
       "\t\t<li>'88'</li>\n",
       "\t\t<li>'89'</li>\n",
       "\t\t<li>'90'</li>\n",
       "\t\t<li>'91'</li>\n",
       "\t\t<li>'92'</li>\n",
       "\t\t<li>'93'</li>\n",
       "\t\t<li>'94'</li>\n",
       "\t\t<li>'95'</li>\n",
       "\t\t<li>'971'</li>\n",
       "\t\t<li>'972'</li>\n",
       "\t\t<li>'973'</li>\n",
       "\t\t<li>'974'</li>\n",
       "\t\t<li>'976'</li>\n",
       "\t\t<li>'978'</li>\n",
       "\t</ol>\n",
       "</details>"
      ],
      "text/latex": [
       "\\begin{enumerate*}\n",
       "\\item 01\n",
       "\\item 02\n",
       "\\item 03\n",
       "\\item 04\n",
       "\\item 05\n",
       "\\end{enumerate*}\n",
       "\n",
       "\\emph{Levels}: \\begin{enumerate*}\n",
       "\\item '01'\n",
       "\\item '02'\n",
       "\\item '03'\n",
       "\\item '04'\n",
       "\\item '05'\n",
       "\\item '06'\n",
       "\\item '07'\n",
       "\\item '08'\n",
       "\\item '09'\n",
       "\\item '10'\n",
       "\\item '11'\n",
       "\\item '12'\n",
       "\\item '13'\n",
       "\\item '14'\n",
       "\\item '15'\n",
       "\\item '16'\n",
       "\\item '17'\n",
       "\\item '18'\n",
       "\\item '19'\n",
       "\\item '21'\n",
       "\\item '22'\n",
       "\\item '23'\n",
       "\\item '24'\n",
       "\\item '25'\n",
       "\\item '26'\n",
       "\\item '27'\n",
       "\\item '28'\n",
       "\\item '29'\n",
       "\\item '2A'\n",
       "\\item '2B'\n",
       "\\item '30'\n",
       "\\item '31'\n",
       "\\item '32'\n",
       "\\item '33'\n",
       "\\item '34'\n",
       "\\item '35'\n",
       "\\item '36'\n",
       "\\item '37'\n",
       "\\item '38'\n",
       "\\item '39'\n",
       "\\item '40'\n",
       "\\item '41'\n",
       "\\item '42'\n",
       "\\item '43'\n",
       "\\item '44'\n",
       "\\item '45'\n",
       "\\item '46'\n",
       "\\item '47'\n",
       "\\item '48'\n",
       "\\item '49'\n",
       "\\item '50'\n",
       "\\item '51'\n",
       "\\item '52'\n",
       "\\item '53'\n",
       "\\item '54'\n",
       "\\item '55'\n",
       "\\item '56'\n",
       "\\item '57'\n",
       "\\item '58'\n",
       "\\item '59'\n",
       "\\item '60'\n",
       "\\item '61'\n",
       "\\item '62'\n",
       "\\item '63'\n",
       "\\item '64'\n",
       "\\item '65'\n",
       "\\item '66'\n",
       "\\item '67'\n",
       "\\item '68'\n",
       "\\item '69'\n",
       "\\item '70'\n",
       "\\item '71'\n",
       "\\item '72'\n",
       "\\item '73'\n",
       "\\item '74'\n",
       "\\item '75'\n",
       "\\item '76'\n",
       "\\item '77'\n",
       "\\item '78'\n",
       "\\item '79'\n",
       "\\item '80'\n",
       "\\item '81'\n",
       "\\item '82'\n",
       "\\item '83'\n",
       "\\item '84'\n",
       "\\item '85'\n",
       "\\item '86'\n",
       "\\item '87'\n",
       "\\item '88'\n",
       "\\item '89'\n",
       "\\item '90'\n",
       "\\item '91'\n",
       "\\item '92'\n",
       "\\item '93'\n",
       "\\item '94'\n",
       "\\item '95'\n",
       "\\item '971'\n",
       "\\item '972'\n",
       "\\item '973'\n",
       "\\item '974'\n",
       "\\item '976'\n",
       "\\item '978'\n",
       "\\end{enumerate*}\n"
      ],
      "text/markdown": [
       "1. 01\n",
       "2. 02\n",
       "3. 03\n",
       "4. 04\n",
       "5. 05\n",
       "\n",
       "\n",
       "\n",
       "**Levels**: 1. '01'\n",
       "2. '02'\n",
       "3. '03'\n",
       "4. '04'\n",
       "5. '05'\n",
       "6. '06'\n",
       "7. '07'\n",
       "8. '08'\n",
       "9. '09'\n",
       "10. '10'\n",
       "11. '11'\n",
       "12. '12'\n",
       "13. '13'\n",
       "14. '14'\n",
       "15. '15'\n",
       "16. '16'\n",
       "17. '17'\n",
       "18. '18'\n",
       "19. '19'\n",
       "20. '21'\n",
       "21. '22'\n",
       "22. '23'\n",
       "23. '24'\n",
       "24. '25'\n",
       "25. '26'\n",
       "26. '27'\n",
       "27. '28'\n",
       "28. '29'\n",
       "29. '2A'\n",
       "30. '2B'\n",
       "31. '30'\n",
       "32. '31'\n",
       "33. '32'\n",
       "34. '33'\n",
       "35. '34'\n",
       "36. '35'\n",
       "37. '36'\n",
       "38. '37'\n",
       "39. '38'\n",
       "40. '39'\n",
       "41. '40'\n",
       "42. '41'\n",
       "43. '42'\n",
       "44. '43'\n",
       "45. '44'\n",
       "46. '45'\n",
       "47. '46'\n",
       "48. '47'\n",
       "49. '48'\n",
       "50. '49'\n",
       "51. '50'\n",
       "52. '51'\n",
       "53. '52'\n",
       "54. '53'\n",
       "55. '54'\n",
       "56. '55'\n",
       "57. '56'\n",
       "58. '57'\n",
       "59. '58'\n",
       "60. '59'\n",
       "61. '60'\n",
       "62. '61'\n",
       "63. '62'\n",
       "64. '63'\n",
       "65. '64'\n",
       "66. '65'\n",
       "67. '66'\n",
       "68. '67'\n",
       "69. '68'\n",
       "70. '69'\n",
       "71. '70'\n",
       "72. '71'\n",
       "73. '72'\n",
       "74. '73'\n",
       "75. '74'\n",
       "76. '75'\n",
       "77. '76'\n",
       "78. '77'\n",
       "79. '78'\n",
       "80. '79'\n",
       "81. '80'\n",
       "82. '81'\n",
       "83. '82'\n",
       "84. '83'\n",
       "85. '84'\n",
       "86. '85'\n",
       "87. '86'\n",
       "88. '87'\n",
       "89. '88'\n",
       "90. '89'\n",
       "91. '90'\n",
       "92. '91'\n",
       "93. '92'\n",
       "94. '93'\n",
       "95. '94'\n",
       "96. '95'\n",
       "97. '971'\n",
       "98. '972'\n",
       "99. '973'\n",
       "100. '974'\n",
       "101. '976'\n",
       "102. '978'\n",
       "\n",
       "\n"
      ],
      "text/plain": [
       "[1] 01 02 03 04 05\n",
       "102 Levels: 01 02 03 04 05 06 07 08 09 10 11 12 13 14 15 16 17 18 19 21 ... 978"
      ]
     },
     "metadata": {},
     "output_type": "display_data"
    }
   ],
   "source": [
    "head(deps$dep,5)"
   ]
  },
  {
   "cell_type": "code",
   "execution_count": 12,
   "id": "66967538-3b75-49a8-92d8-f4ce3f2f78ea",
   "metadata": {},
   "outputs": [],
   "source": [
    "# On a bien tous les départements de la France (+Outre mers + dep 978)"
   ]
  },
  {
   "cell_type": "markdown",
   "id": "36fea774-6b73-49f4-b436-d71735d22158",
   "metadata": {},
   "source": [
    "#### sexe"
   ]
  },
  {
   "cell_type": "code",
   "execution_count": 13,
   "id": "db17cfa9-266b-4f9d-bb8e-a6576c5bb6e5",
   "metadata": {},
   "outputs": [
    {
     "data": {
      "text/html": [
       "<table>\n",
       "<thead><tr><th scope=col>sexe</th><th scope=col>n</th></tr></thead>\n",
       "<tbody>\n",
       "\t<tr><td>0    </td><td>67626</td></tr>\n",
       "\t<tr><td>1    </td><td>67626</td></tr>\n",
       "\t<tr><td>2    </td><td>66963</td></tr>\n",
       "</tbody>\n",
       "</table>\n"
      ],
      "text/latex": [
       "\\begin{tabular}{r|ll}\n",
       " sexe & n\\\\\n",
       "\\hline\n",
       "\t 0     & 67626\\\\\n",
       "\t 1     & 67626\\\\\n",
       "\t 2     & 66963\\\\\n",
       "\\end{tabular}\n"
      ],
      "text/markdown": [
       "\n",
       "| sexe | n |\n",
       "|---|---|\n",
       "| 0     | 67626 |\n",
       "| 1     | 67626 |\n",
       "| 2     | 66963 |\n",
       "\n"
      ],
      "text/plain": [
       "  sexe n    \n",
       "1 0    67626\n",
       "2 1    67626\n",
       "3 2    66963"
      ]
     },
     "metadata": {},
     "output_type": "display_data"
    }
   ],
   "source": [
    "sexes <- df_hebdo_covid %>% count(sexe)\n",
    "head(sexes,5)"
   ]
  },
  {
   "cell_type": "code",
   "execution_count": 14,
   "id": "053fe3f7-fe5d-41d9-902d-35b5b4ff1479",
   "metadata": {},
   "outputs": [
    {
     "data": {
      "text/html": [
       "<table>\n",
       "<thead><tr><th scope=col>sexe</th><th scope=col>n</th><th scope=col>percent</th></tr></thead>\n",
       "<tbody>\n",
       "\t<tr><td>0       </td><td>67626   </td><td>33.44262</td></tr>\n",
       "\t<tr><td>1       </td><td>67626   </td><td>33.44262</td></tr>\n",
       "\t<tr><td>2       </td><td>66963   </td><td>33.11475</td></tr>\n",
       "</tbody>\n",
       "</table>\n"
      ],
      "text/latex": [
       "\\begin{tabular}{r|lll}\n",
       " sexe & n & percent\\\\\n",
       "\\hline\n",
       "\t 0        & 67626    & 33.44262\\\\\n",
       "\t 1        & 67626    & 33.44262\\\\\n",
       "\t 2        & 66963    & 33.11475\\\\\n",
       "\\end{tabular}\n"
      ],
      "text/markdown": [
       "\n",
       "| sexe | n | percent |\n",
       "|---|---|---|\n",
       "| 0        | 67626    | 33.44262 |\n",
       "| 1        | 67626    | 33.44262 |\n",
       "| 2        | 66963    | 33.11475 |\n",
       "\n"
      ],
      "text/plain": [
       "  sexe n     percent \n",
       "1 0    67626 33.44262\n",
       "2 1    67626 33.44262\n",
       "3 2    66963 33.11475"
      ]
     },
     "metadata": {},
     "output_type": "display_data"
    }
   ],
   "source": [
    "sexes$percent <- (sexes$n*100)/sum(sexes$n)\n",
    "sexes"
   ]
  },
  {
   "cell_type": "markdown",
   "id": "ea52250d-7565-4406-886a-02d6d5712ce3",
   "metadata": {},
   "source": [
    "#### jour"
   ]
  },
  {
   "cell_type": "code",
   "execution_count": 15,
   "id": "e5aa5ad9-f487-43af-a22a-1028a45ed84c",
   "metadata": {},
   "outputs": [
    {
     "data": {
      "text/html": [
       "<table>\n",
       "<thead><tr><th scope=col>jour</th><th scope=col>n</th></tr></thead>\n",
       "<tbody>\n",
       "\t<tr><td>2020-03-18</td><td>305       </td></tr>\n",
       "\t<tr><td>2020-03-19</td><td>305       </td></tr>\n",
       "\t<tr><td>2020-03-20</td><td>305       </td></tr>\n",
       "</tbody>\n",
       "</table>\n"
      ],
      "text/latex": [
       "\\begin{tabular}{r|ll}\n",
       " jour & n\\\\\n",
       "\\hline\n",
       "\t 2020-03-18 & 305       \\\\\n",
       "\t 2020-03-19 & 305       \\\\\n",
       "\t 2020-03-20 & 305       \\\\\n",
       "\\end{tabular}\n"
      ],
      "text/markdown": [
       "\n",
       "| jour | n |\n",
       "|---|---|\n",
       "| 2020-03-18 | 305        |\n",
       "| 2020-03-19 | 305        |\n",
       "| 2020-03-20 | 305        |\n",
       "\n"
      ],
      "text/plain": [
       "  jour       n  \n",
       "1 2020-03-18 305\n",
       "2 2020-03-19 305\n",
       "3 2020-03-20 305"
      ]
     },
     "metadata": {},
     "output_type": "display_data"
    }
   ],
   "source": [
    "jours <- df_hebdo_covid %>% count(jour)\n",
    "head(jours,3)"
   ]
  },
  {
   "cell_type": "code",
   "execution_count": 16,
   "id": "621e81bf-54fb-47bd-92e2-8642001f0b97",
   "metadata": {},
   "outputs": [
    {
     "data": {
      "text/html": [
       "663"
      ],
      "text/latex": [
       "663"
      ],
      "text/markdown": [
       "663"
      ],
      "text/plain": [
       "[1] 663"
      ]
     },
     "metadata": {},
     "output_type": "display_data"
    }
   ],
   "source": [
    "length(jours$jour)"
   ]
  },
  {
   "cell_type": "code",
   "execution_count": 17,
   "id": "39d707d4-f9ea-4dad-bffd-8f00ca986c00",
   "metadata": {},
   "outputs": [
    {
     "data": {
      "text/html": [
       "<time datetime=\"2022-01-09\">2022-01-09</time>"
      ],
      "text/latex": [
       "2022-01-09"
      ],
      "text/markdown": [
       "2022-01-09"
      ],
      "text/plain": [
       "[1] \"2022-01-09\""
      ]
     },
     "metadata": {},
     "output_type": "display_data"
    }
   ],
   "source": [
    "lst_date <- max(as.Date(jours$jour))\n",
    "lst_date"
   ]
  },
  {
   "cell_type": "code",
   "execution_count": 18,
   "id": "6f92698d-0eaa-4299-87c1-26f828cc5b73",
   "metadata": {},
   "outputs": [
    {
     "data": {
      "text/html": [
       "<time datetime=\"2020-03-18\">2020-03-18</time>"
      ],
      "text/latex": [
       "2020-03-18"
      ],
      "text/markdown": [
       "2020-03-18"
      ],
      "text/plain": [
       "[1] \"2020-03-18\""
      ]
     },
     "metadata": {},
     "output_type": "display_data"
    }
   ],
   "source": [
    "fst_date <- min(as.Date(jours$jour))\n",
    "fst_date"
   ]
  },
  {
   "cell_type": "code",
   "execution_count": 19,
   "id": "79994bc3-bbc0-4b1c-9d78-d985e0ba3b69",
   "metadata": {},
   "outputs": [],
   "source": [
    "# Les observations sont donc entre le début du premier confinement et le 9 janvier 2022"
   ]
  },
  {
   "cell_type": "markdown",
   "id": "d9499d77-ed1a-4ea2-8d33-250e65ffa0f8",
   "metadata": {},
   "source": [
    "#### hosp"
   ]
  },
  {
   "cell_type": "code",
   "execution_count": 20,
   "id": "2cfa2d84-9935-4811-b00c-db698eb0c0e4",
   "metadata": {
    "tags": []
   },
   "outputs": [
    {
     "data": {
      "text/html": [
       "<table>\n",
       "<thead><tr><th scope=col>hosp</th><th scope=col>n</th></tr></thead>\n",
       "<tbody>\n",
       "\t<tr><td>0   </td><td>4983</td></tr>\n",
       "\t<tr><td>1   </td><td>4157</td></tr>\n",
       "\t<tr><td>2   </td><td>3932</td></tr>\n",
       "\t<tr><td>3   </td><td>3527</td></tr>\n",
       "</tbody>\n",
       "</table>\n"
      ],
      "text/latex": [
       "\\begin{tabular}{r|ll}\n",
       " hosp & n\\\\\n",
       "\\hline\n",
       "\t 0    & 4983\\\\\n",
       "\t 1    & 4157\\\\\n",
       "\t 2    & 3932\\\\\n",
       "\t 3    & 3527\\\\\n",
       "\\end{tabular}\n"
      ],
      "text/markdown": [
       "\n",
       "| hosp | n |\n",
       "|---|---|\n",
       "| 0    | 4983 |\n",
       "| 1    | 4157 |\n",
       "| 2    | 3932 |\n",
       "| 3    | 3527 |\n",
       "\n"
      ],
      "text/plain": [
       "  hosp n   \n",
       "1 0    4983\n",
       "2 1    4157\n",
       "3 2    3932\n",
       "4 3    3527"
      ]
     },
     "metadata": {},
     "output_type": "display_data"
    }
   ],
   "source": [
    "hosps <- df_hebdo_covid %>% count(hosp)\n",
    "head(hosps,4)"
   ]
  },
  {
   "cell_type": "code",
   "execution_count": 21,
   "id": "9d81aea9-f1dc-434c-9713-33d013bdd966",
   "metadata": {},
   "outputs": [
    {
     "data": {
      "text/html": [
       "<table>\n",
       "<thead><tr><th scope=col>hosp</th><th scope=col>n</th></tr></thead>\n",
       "<tbody>\n",
       "\t<tr><td>3281</td><td>1   </td></tr>\n",
       "</tbody>\n",
       "</table>\n"
      ],
      "text/latex": [
       "\\begin{tabular}{r|ll}\n",
       " hosp & n\\\\\n",
       "\\hline\n",
       "\t 3281 & 1   \\\\\n",
       "\\end{tabular}\n"
      ],
      "text/markdown": [
       "\n",
       "| hosp | n |\n",
       "|---|---|\n",
       "| 3281 | 1    |\n",
       "\n"
      ],
      "text/plain": [
       "  hosp n\n",
       "1 3281 1"
      ]
     },
     "metadata": {},
     "output_type": "display_data"
    }
   ],
   "source": [
    "more_nb_hosp <- hosps %>% filter(hosps$hosp == max(hosps$hosp))\n",
    "more_nb_hosp"
   ]
  },
  {
   "cell_type": "code",
   "execution_count": 22,
   "id": "d4c0648c-9346-445f-9eb0-88a2fa0c4060",
   "metadata": {},
   "outputs": [
    {
     "data": {
      "text/html": [
       "<table>\n",
       "<thead><tr><th scope=col>hosp</th><th scope=col>n</th></tr></thead>\n",
       "<tbody>\n",
       "\t<tr><td>0   </td><td>4983</td></tr>\n",
       "</tbody>\n",
       "</table>\n"
      ],
      "text/latex": [
       "\\begin{tabular}{r|ll}\n",
       " hosp & n\\\\\n",
       "\\hline\n",
       "\t 0    & 4983\\\\\n",
       "\\end{tabular}\n"
      ],
      "text/markdown": [
       "\n",
       "| hosp | n |\n",
       "|---|---|\n",
       "| 0    | 4983 |\n",
       "\n"
      ],
      "text/plain": [
       "  hosp n   \n",
       "1 0    4983"
      ]
     },
     "metadata": {},
     "output_type": "display_data"
    }
   ],
   "source": [
    "more_freq_nb_hosp <- hosps %>% filter(hosps$n == max(hosps$n))\n",
    "more_freq_nb_hosp"
   ]
  },
  {
   "cell_type": "markdown",
   "id": "5dcab8a3-94c5-4a30-a944-eac49e6173d2",
   "metadata": {},
   "source": [
    "#### rea"
   ]
  },
  {
   "cell_type": "code",
   "execution_count": 23,
   "id": "dd117828-bf3e-4b33-9c28-e695d0e40c1e",
   "metadata": {
    "tags": []
   },
   "outputs": [
    {
     "data": {
      "text/html": [
       "<table>\n",
       "<thead><tr><th scope=col>rea</th><th scope=col>n</th></tr></thead>\n",
       "<tbody>\n",
       "\t<tr><td>0    </td><td>29349</td></tr>\n",
       "\t<tr><td>1    </td><td>21422</td></tr>\n",
       "\t<tr><td>2    </td><td>16662</td></tr>\n",
       "\t<tr><td>3    </td><td>13373</td></tr>\n",
       "</tbody>\n",
       "</table>\n"
      ],
      "text/latex": [
       "\\begin{tabular}{r|ll}\n",
       " rea & n\\\\\n",
       "\\hline\n",
       "\t 0     & 29349\\\\\n",
       "\t 1     & 21422\\\\\n",
       "\t 2     & 16662\\\\\n",
       "\t 3     & 13373\\\\\n",
       "\\end{tabular}\n"
      ],
      "text/markdown": [
       "\n",
       "| rea | n |\n",
       "|---|---|\n",
       "| 0     | 29349 |\n",
       "| 1     | 21422 |\n",
       "| 2     | 16662 |\n",
       "| 3     | 13373 |\n",
       "\n"
      ],
      "text/plain": [
       "  rea n    \n",
       "1 0   29349\n",
       "2 1   21422\n",
       "3 2   16662\n",
       "4 3   13373"
      ]
     },
     "metadata": {},
     "output_type": "display_data"
    }
   ],
   "source": [
    "reas <- df_hebdo_covid %>% count(rea)\n",
    "head(reas,4)"
   ]
  },
  {
   "cell_type": "code",
   "execution_count": 24,
   "id": "61393fdb-f3aa-436f-92ad-d1deafd56424",
   "metadata": {},
   "outputs": [
    {
     "data": {
      "text/html": [
       "<table>\n",
       "<thead><tr><th scope=col>rea</th><th scope=col>n</th></tr></thead>\n",
       "<tbody>\n",
       "\t<tr><td>855</td><td>1  </td></tr>\n",
       "</tbody>\n",
       "</table>\n"
      ],
      "text/latex": [
       "\\begin{tabular}{r|ll}\n",
       " rea & n\\\\\n",
       "\\hline\n",
       "\t 855 & 1  \\\\\n",
       "\\end{tabular}\n"
      ],
      "text/markdown": [
       "\n",
       "| rea | n |\n",
       "|---|---|\n",
       "| 855 | 1   |\n",
       "\n"
      ],
      "text/plain": [
       "  rea n\n",
       "1 855 1"
      ]
     },
     "metadata": {},
     "output_type": "display_data"
    }
   ],
   "source": [
    "more_nb_rea <- reas %>% filter(reas$rea == max(reas$rea))\n",
    "more_nb_rea"
   ]
  },
  {
   "cell_type": "code",
   "execution_count": 25,
   "id": "5e7d1e8f-9267-4041-b6c7-b6e718a6e7cb",
   "metadata": {},
   "outputs": [
    {
     "data": {
      "text/html": [
       "<table>\n",
       "<thead><tr><th scope=col>rea</th><th scope=col>n</th></tr></thead>\n",
       "<tbody>\n",
       "\t<tr><td>0    </td><td>29349</td></tr>\n",
       "</tbody>\n",
       "</table>\n"
      ],
      "text/latex": [
       "\\begin{tabular}{r|ll}\n",
       " rea & n\\\\\n",
       "\\hline\n",
       "\t 0     & 29349\\\\\n",
       "\\end{tabular}\n"
      ],
      "text/markdown": [
       "\n",
       "| rea | n |\n",
       "|---|---|\n",
       "| 0     | 29349 |\n",
       "\n"
      ],
      "text/plain": [
       "  rea n    \n",
       "1 0   29349"
      ]
     },
     "metadata": {},
     "output_type": "display_data"
    }
   ],
   "source": [
    "more_freq_rea <- reas %>% filter(reas$n == max(reas$n))\n",
    "more_freq_rea"
   ]
  },
  {
   "cell_type": "markdown",
   "id": "97be7df0-c768-43b0-b4b0-ab02201a6951",
   "metadata": {},
   "source": [
    "#### HospConv"
   ]
  },
  {
   "cell_type": "code",
   "execution_count": 26,
   "id": "364472e9-1b8e-4721-ae9f-9e96e5947fa8",
   "metadata": {
    "tags": []
   },
   "outputs": [
    {
     "data": {
      "text/html": [
       "<table>\n",
       "<thead><tr><th scope=col>HospConv</th><th scope=col>n</th></tr></thead>\n",
       "<tbody>\n",
       "\t<tr><td>0   </td><td>2136</td></tr>\n",
       "\t<tr><td>1   </td><td>2112</td></tr>\n",
       "\t<tr><td>2   </td><td>2294</td></tr>\n",
       "\t<tr><td>3   </td><td>2796</td></tr>\n",
       "\t<tr><td>4   </td><td>2812</td></tr>\n",
       "\t<tr><td>5   </td><td>2637</td></tr>\n",
       "</tbody>\n",
       "</table>\n"
      ],
      "text/latex": [
       "\\begin{tabular}{r|ll}\n",
       " HospConv & n\\\\\n",
       "\\hline\n",
       "\t 0    & 2136\\\\\n",
       "\t 1    & 2112\\\\\n",
       "\t 2    & 2294\\\\\n",
       "\t 3    & 2796\\\\\n",
       "\t 4    & 2812\\\\\n",
       "\t 5    & 2637\\\\\n",
       "\\end{tabular}\n"
      ],
      "text/markdown": [
       "\n",
       "| HospConv | n |\n",
       "|---|---|\n",
       "| 0    | 2136 |\n",
       "| 1    | 2112 |\n",
       "| 2    | 2294 |\n",
       "| 3    | 2796 |\n",
       "| 4    | 2812 |\n",
       "| 5    | 2637 |\n",
       "\n"
      ],
      "text/plain": [
       "  HospConv n   \n",
       "1 0        2136\n",
       "2 1        2112\n",
       "3 2        2294\n",
       "4 3        2796\n",
       "5 4        2812\n",
       "6 5        2637"
      ]
     },
     "metadata": {},
     "output_type": "display_data"
    }
   ],
   "source": [
    "HospConvs <- df_hebdo_covid %>% count(HospConv)\n",
    "head(HospConvs,6)"
   ]
  },
  {
   "cell_type": "code",
   "execution_count": 27,
   "id": "880b65bf-2e05-445e-8d80-f2f191ac0d90",
   "metadata": {},
   "outputs": [
    {
     "data": {
      "text/html": [
       "<table>\n",
       "<thead><tr><th scope=col>HospConv</th><th scope=col>n</th></tr></thead>\n",
       "<tbody>\n",
       "\t<tr><td>1006</td><td>1   </td></tr>\n",
       "</tbody>\n",
       "</table>\n"
      ],
      "text/latex": [
       "\\begin{tabular}{r|ll}\n",
       " HospConv & n\\\\\n",
       "\\hline\n",
       "\t 1006 & 1   \\\\\n",
       "\\end{tabular}\n"
      ],
      "text/markdown": [
       "\n",
       "| HospConv | n |\n",
       "|---|---|\n",
       "| 1006 | 1    |\n",
       "\n"
      ],
      "text/plain": [
       "  HospConv n\n",
       "1 1006     1"
      ]
     },
     "metadata": {},
     "output_type": "display_data"
    }
   ],
   "source": [
    "HospConvs %>% filter(HospConvs$HospConv == max(HospConvs$HospConv,na.rm = TRUE))"
   ]
  },
  {
   "cell_type": "code",
   "execution_count": 28,
   "id": "63f2e3e1-69be-444f-9259-b5870792c0db",
   "metadata": {},
   "outputs": [
    {
     "data": {
      "text/html": [
       "<table>\n",
       "<thead><tr><th scope=col>HospConv</th><th scope=col>n</th></tr></thead>\n",
       "<tbody>\n",
       "\t<tr><td>4   </td><td>2812</td></tr>\n",
       "</tbody>\n",
       "</table>\n"
      ],
      "text/latex": [
       "\\begin{tabular}{r|ll}\n",
       " HospConv & n\\\\\n",
       "\\hline\n",
       "\t 4    & 2812\\\\\n",
       "\\end{tabular}\n"
      ],
      "text/markdown": [
       "\n",
       "| HospConv | n |\n",
       "|---|---|\n",
       "| 4    | 2812 |\n",
       "\n"
      ],
      "text/plain": [
       "  HospConv n   \n",
       "1 4        2812"
      ]
     },
     "metadata": {},
     "output_type": "display_data"
    }
   ],
   "source": [
    "HospConvs %>% filter(HospConvs$n == max(filter(HospConvs,!is.na(HospConvs$HospConv)),na.rm = TRUE))"
   ]
  },
  {
   "cell_type": "code",
   "execution_count": 29,
   "id": "2fd9095a-511b-46f6-869f-b2047ef6e1ef",
   "metadata": {},
   "outputs": [
    {
     "data": {
      "text/html": [
       "<table>\n",
       "<thead><tr><th scope=col>HospConv</th><th scope=col>n</th></tr></thead>\n",
       "<tbody>\n",
       "\t<tr><td>NA    </td><td>110105</td></tr>\n",
       "</tbody>\n",
       "</table>\n"
      ],
      "text/latex": [
       "\\begin{tabular}{r|ll}\n",
       " HospConv & n\\\\\n",
       "\\hline\n",
       "\t NA     & 110105\\\\\n",
       "\\end{tabular}\n"
      ],
      "text/markdown": [
       "\n",
       "| HospConv | n |\n",
       "|---|---|\n",
       "| NA     | 110105 |\n",
       "\n"
      ],
      "text/plain": [
       "  HospConv n     \n",
       "1 NA       110105"
      ]
     },
     "metadata": {},
     "output_type": "display_data"
    }
   ],
   "source": [
    "HospConvs %>% filter(HospConvs$n == max(HospConvs$n,na.rm = TRUE))"
   ]
  },
  {
   "cell_type": "markdown",
   "id": "40766c60-7285-4948-8759-3f3ea5e95ae3",
   "metadata": {},
   "source": [
    "#### SSR_USLD"
   ]
  },
  {
   "cell_type": "code",
   "execution_count": 30,
   "id": "dd78c746-47cf-4738-9ba5-8bf828211c66",
   "metadata": {
    "tags": []
   },
   "outputs": [
    {
     "data": {
      "text/html": [
       "<table>\n",
       "<thead><tr><th scope=col>SSR_USLD</th><th scope=col>n</th></tr></thead>\n",
       "<tbody>\n",
       "\t<tr><td>0   </td><td>6738</td></tr>\n",
       "\t<tr><td>1   </td><td>5872</td></tr>\n",
       "\t<tr><td>2   </td><td>4624</td></tr>\n",
       "\t<tr><td>3   </td><td>3883</td></tr>\n",
       "\t<tr><td>4   </td><td>3979</td></tr>\n",
       "\t<tr><td>5   </td><td>3165</td></tr>\n",
       "</tbody>\n",
       "</table>\n"
      ],
      "text/latex": [
       "\\begin{tabular}{r|ll}\n",
       " SSR\\_USLD & n\\\\\n",
       "\\hline\n",
       "\t 0    & 6738\\\\\n",
       "\t 1    & 5872\\\\\n",
       "\t 2    & 4624\\\\\n",
       "\t 3    & 3883\\\\\n",
       "\t 4    & 3979\\\\\n",
       "\t 5    & 3165\\\\\n",
       "\\end{tabular}\n"
      ],
      "text/markdown": [
       "\n",
       "| SSR_USLD | n |\n",
       "|---|---|\n",
       "| 0    | 6738 |\n",
       "| 1    | 5872 |\n",
       "| 2    | 4624 |\n",
       "| 3    | 3883 |\n",
       "| 4    | 3979 |\n",
       "| 5    | 3165 |\n",
       "\n"
      ],
      "text/plain": [
       "  SSR_USLD n   \n",
       "1 0        6738\n",
       "2 1        5872\n",
       "3 2        4624\n",
       "4 3        3883\n",
       "5 4        3979\n",
       "6 5        3165"
      ]
     },
     "metadata": {},
     "output_type": "display_data"
    }
   ],
   "source": [
    "SSR_USLDs <- df_hebdo_covid %>% count(SSR_USLD)\n",
    "head(SSR_USLDs,6)"
   ]
  },
  {
   "cell_type": "code",
   "execution_count": 31,
   "id": "51f18602-98d6-43c1-be56-0b299c446fa5",
   "metadata": {},
   "outputs": [
    {
     "data": {
      "text/html": [
       "<table>\n",
       "<thead><tr><th scope=col>SSR_USLD</th><th scope=col>n</th></tr></thead>\n",
       "<tbody>\n",
       "\t<tr><td>524</td><td>1  </td></tr>\n",
       "</tbody>\n",
       "</table>\n"
      ],
      "text/latex": [
       "\\begin{tabular}{r|ll}\n",
       " SSR\\_USLD & n\\\\\n",
       "\\hline\n",
       "\t 524 & 1  \\\\\n",
       "\\end{tabular}\n"
      ],
      "text/markdown": [
       "\n",
       "| SSR_USLD | n |\n",
       "|---|---|\n",
       "| 524 | 1   |\n",
       "\n"
      ],
      "text/plain": [
       "  SSR_USLD n\n",
       "1 524      1"
      ]
     },
     "metadata": {},
     "output_type": "display_data"
    }
   ],
   "source": [
    "SSR_USLDs %>% filter(SSR_USLDs$SSR_USLD == max(SSR_USLDs$SSR_USLD,na.rm = TRUE))"
   ]
  },
  {
   "cell_type": "code",
   "execution_count": 32,
   "id": "58e2c951-3a75-4382-98c6-dcef234ff4a1",
   "metadata": {},
   "outputs": [
    {
     "data": {
      "text/html": [
       "<table>\n",
       "<thead><tr><th scope=col>SSR_USLD</th><th scope=col>n</th></tr></thead>\n",
       "<tbody>\n",
       "\t<tr><td>0   </td><td>6738</td></tr>\n",
       "</tbody>\n",
       "</table>\n"
      ],
      "text/latex": [
       "\\begin{tabular}{r|ll}\n",
       " SSR\\_USLD & n\\\\\n",
       "\\hline\n",
       "\t 0    & 6738\\\\\n",
       "\\end{tabular}\n"
      ],
      "text/markdown": [
       "\n",
       "| SSR_USLD | n |\n",
       "|---|---|\n",
       "| 0    | 6738 |\n",
       "\n"
      ],
      "text/plain": [
       "  SSR_USLD n   \n",
       "1 0        6738"
      ]
     },
     "metadata": {},
     "output_type": "display_data"
    }
   ],
   "source": [
    "SSR_USLDs %>% filter(SSR_USLDs$n == max(filter(SSR_USLDs,!is.na(SSR_USLDs$SSR_USLD)),na.rm = TRUE))"
   ]
  },
  {
   "cell_type": "code",
   "execution_count": 33,
   "id": "4b337b8c-dabe-4764-a7b7-90d67d06b2c0",
   "metadata": {},
   "outputs": [
    {
     "data": {
      "text/html": [
       "<table>\n",
       "<thead><tr><th scope=col>SSR_USLD</th><th scope=col>n</th></tr></thead>\n",
       "<tbody>\n",
       "\t<tr><td>NA    </td><td>110105</td></tr>\n",
       "</tbody>\n",
       "</table>\n"
      ],
      "text/latex": [
       "\\begin{tabular}{r|ll}\n",
       " SSR\\_USLD & n\\\\\n",
       "\\hline\n",
       "\t NA     & 110105\\\\\n",
       "\\end{tabular}\n"
      ],
      "text/markdown": [
       "\n",
       "| SSR_USLD | n |\n",
       "|---|---|\n",
       "| NA     | 110105 |\n",
       "\n"
      ],
      "text/plain": [
       "  SSR_USLD n     \n",
       "1 NA       110105"
      ]
     },
     "metadata": {},
     "output_type": "display_data"
    }
   ],
   "source": [
    "SSR_USLDs %>% filter(SSR_USLDs$n == max(SSR_USLDs$n,na.rm = TRUE))"
   ]
  },
  {
   "cell_type": "markdown",
   "id": "fac2ab84-02e3-4127-a49e-21b5b20ec90b",
   "metadata": {
    "tags": []
   },
   "source": [
    "#### autres"
   ]
  },
  {
   "cell_type": "code",
   "execution_count": 34,
   "id": "fa60cafe-2c17-4757-b1b3-06fd0e4a984e",
   "metadata": {
    "tags": []
   },
   "outputs": [
    {
     "data": {
      "text/html": [
       "<table>\n",
       "<thead><tr><th scope=col>autres</th><th scope=col>n</th></tr></thead>\n",
       "<tbody>\n",
       "\t<tr><td>0    </td><td>51682</td></tr>\n",
       "\t<tr><td>1    </td><td>15329</td></tr>\n",
       "\t<tr><td>2    </td><td> 7603</td></tr>\n",
       "\t<tr><td>3    </td><td> 4297</td></tr>\n",
       "\t<tr><td>4    </td><td> 3204</td></tr>\n",
       "\t<tr><td>5    </td><td> 2351</td></tr>\n",
       "</tbody>\n",
       "</table>\n"
      ],
      "text/latex": [
       "\\begin{tabular}{r|ll}\n",
       " autres & n\\\\\n",
       "\\hline\n",
       "\t 0     & 51682\\\\\n",
       "\t 1     & 15329\\\\\n",
       "\t 2     &  7603\\\\\n",
       "\t 3     &  4297\\\\\n",
       "\t 4     &  3204\\\\\n",
       "\t 5     &  2351\\\\\n",
       "\\end{tabular}\n"
      ],
      "text/markdown": [
       "\n",
       "| autres | n |\n",
       "|---|---|\n",
       "| 0     | 51682 |\n",
       "| 1     | 15329 |\n",
       "| 2     |  7603 |\n",
       "| 3     |  4297 |\n",
       "| 4     |  3204 |\n",
       "| 5     |  2351 |\n",
       "\n"
      ],
      "text/plain": [
       "  autres n    \n",
       "1 0      51682\n",
       "2 1      15329\n",
       "3 2       7603\n",
       "4 3       4297\n",
       "5 4       3204\n",
       "6 5       2351"
      ]
     },
     "metadata": {},
     "output_type": "display_data"
    }
   ],
   "source": [
    "df_autres <- df_hebdo_covid %>% count(autres)\n",
    "head(df_autres,6)"
   ]
  },
  {
   "cell_type": "code",
   "execution_count": 35,
   "id": "6044e03f-ed06-40bf-8a28-067f34e087fc",
   "metadata": {},
   "outputs": [
    {
     "data": {
      "text/html": [
       "<table>\n",
       "<thead><tr><th scope=col>autres</th><th scope=col>n</th></tr></thead>\n",
       "<tbody>\n",
       "\t<tr><td>72</td><td>2 </td></tr>\n",
       "</tbody>\n",
       "</table>\n"
      ],
      "text/latex": [
       "\\begin{tabular}{r|ll}\n",
       " autres & n\\\\\n",
       "\\hline\n",
       "\t 72 & 2 \\\\\n",
       "\\end{tabular}\n"
      ],
      "text/markdown": [
       "\n",
       "| autres | n |\n",
       "|---|---|\n",
       "| 72 | 2  |\n",
       "\n"
      ],
      "text/plain": [
       "  autres n\n",
       "1 72     2"
      ]
     },
     "metadata": {},
     "output_type": "display_data"
    }
   ],
   "source": [
    "df_autres %>% filter(df_autres$autres == max(df_autres$autres,na.rm = TRUE))"
   ]
  },
  {
   "cell_type": "code",
   "execution_count": 36,
   "id": "a0d3dee8-8f24-46e1-9983-89d33a0e884e",
   "metadata": {},
   "outputs": [
    {
     "data": {
      "text/html": [
       "<table>\n",
       "<thead><tr><th scope=col>autres</th><th scope=col>n</th></tr></thead>\n",
       "<tbody>\n",
       "\t<tr><td>0    </td><td>51682</td></tr>\n",
       "</tbody>\n",
       "</table>\n"
      ],
      "text/latex": [
       "\\begin{tabular}{r|ll}\n",
       " autres & n\\\\\n",
       "\\hline\n",
       "\t 0     & 51682\\\\\n",
       "\\end{tabular}\n"
      ],
      "text/markdown": [
       "\n",
       "| autres | n |\n",
       "|---|---|\n",
       "| 0     | 51682 |\n",
       "\n"
      ],
      "text/plain": [
       "  autres n    \n",
       "1 0      51682"
      ]
     },
     "metadata": {},
     "output_type": "display_data"
    }
   ],
   "source": [
    "df_autres %>% filter(df_autres$n == max(filter(df_autres,!is.na(df_autres$autres)),na.rm = TRUE))"
   ]
  },
  {
   "cell_type": "code",
   "execution_count": 37,
   "id": "e2831ee2-b960-4f1d-8f1b-826b6834c918",
   "metadata": {},
   "outputs": [
    {
     "data": {
      "text/html": [
       "<table>\n",
       "<thead><tr><th scope=col>autres</th><th scope=col>n</th></tr></thead>\n",
       "<tbody>\n",
       "\t<tr><td>NA    </td><td>110105</td></tr>\n",
       "</tbody>\n",
       "</table>\n"
      ],
      "text/latex": [
       "\\begin{tabular}{r|ll}\n",
       " autres & n\\\\\n",
       "\\hline\n",
       "\t NA     & 110105\\\\\n",
       "\\end{tabular}\n"
      ],
      "text/markdown": [
       "\n",
       "| autres | n |\n",
       "|---|---|\n",
       "| NA     | 110105 |\n",
       "\n"
      ],
      "text/plain": [
       "  autres n     \n",
       "1 NA     110105"
      ]
     },
     "metadata": {},
     "output_type": "display_data"
    }
   ],
   "source": [
    "df_autres %>% filter(df_autres$n == max(df_autres$n,na.rm = TRUE))"
   ]
  },
  {
   "cell_type": "markdown",
   "id": "d8d47249-d60e-426c-9f4d-92f0c1f3610d",
   "metadata": {},
   "source": [
    "#### dc"
   ]
  },
  {
   "cell_type": "code",
   "execution_count": 38,
   "id": "d1e5e53d-d2f1-45fb-921d-90f62320a89f",
   "metadata": {
    "tags": []
   },
   "outputs": [
    {
     "data": {
      "text/html": [
       "<table>\n",
       "<thead><tr><th scope=col>dc</th><th scope=col>n</th></tr></thead>\n",
       "<tbody>\n",
       "\t<tr><td>0   </td><td>3753</td></tr>\n",
       "\t<tr><td>1   </td><td>1774</td></tr>\n",
       "\t<tr><td>2   </td><td>1013</td></tr>\n",
       "\t<tr><td>3   </td><td> 913</td></tr>\n",
       "\t<tr><td>4   </td><td> 834</td></tr>\n",
       "\t<tr><td>5   </td><td> 986</td></tr>\n",
       "</tbody>\n",
       "</table>\n"
      ],
      "text/latex": [
       "\\begin{tabular}{r|ll}\n",
       " dc & n\\\\\n",
       "\\hline\n",
       "\t 0    & 3753\\\\\n",
       "\t 1    & 1774\\\\\n",
       "\t 2    & 1013\\\\\n",
       "\t 3    &  913\\\\\n",
       "\t 4    &  834\\\\\n",
       "\t 5    &  986\\\\\n",
       "\\end{tabular}\n"
      ],
      "text/markdown": [
       "\n",
       "| dc | n |\n",
       "|---|---|\n",
       "| 0    | 3753 |\n",
       "| 1    | 1774 |\n",
       "| 2    | 1013 |\n",
       "| 3    |  913 |\n",
       "| 4    |  834 |\n",
       "| 5    |  986 |\n",
       "\n"
      ],
      "text/plain": [
       "  dc n   \n",
       "1 0  3753\n",
       "2 1  1774\n",
       "3 2  1013\n",
       "4 3   913\n",
       "5 4   834\n",
       "6 5   986"
      ]
     },
     "metadata": {},
     "output_type": "display_data"
    }
   ],
   "source": [
    "dcs <- df_hebdo_covid %>% count(dc)\n",
    "head(dcs,6)"
   ]
  },
  {
   "cell_type": "code",
   "execution_count": 39,
   "id": "6ba29c6b-a238-42ab-af89-41be34f5e0e4",
   "metadata": {},
   "outputs": [
    {
     "data": {
      "text/html": [
       "<table>\n",
       "<thead><tr><th scope=col>dc</th><th scope=col>n</th></tr></thead>\n",
       "<tbody>\n",
       "\t<tr><td>5059</td><td>1   </td></tr>\n",
       "</tbody>\n",
       "</table>\n"
      ],
      "text/latex": [
       "\\begin{tabular}{r|ll}\n",
       " dc & n\\\\\n",
       "\\hline\n",
       "\t 5059 & 1   \\\\\n",
       "\\end{tabular}\n"
      ],
      "text/markdown": [
       "\n",
       "| dc | n |\n",
       "|---|---|\n",
       "| 5059 | 1    |\n",
       "\n"
      ],
      "text/plain": [
       "  dc   n\n",
       "1 5059 1"
      ]
     },
     "metadata": {},
     "output_type": "display_data"
    }
   ],
   "source": [
    "more_nb_dc <- dcs %>% filter(dcs$dc == max(dcs$dc,na.rm = TRUE))\n",
    "more_nb_dc"
   ]
  },
  {
   "cell_type": "code",
   "execution_count": 40,
   "id": "1c6a4048-4e59-4072-b8d3-282b131fc5be",
   "metadata": {},
   "outputs": [
    {
     "data": {
      "text/html": [
       "<table>\n",
       "<thead><tr><th scope=col>dc</th><th scope=col>n</th></tr></thead>\n",
       "<tbody>\n",
       "\t<tr><td>0   </td><td>3753</td></tr>\n",
       "</tbody>\n",
       "</table>\n"
      ],
      "text/latex": [
       "\\begin{tabular}{r|ll}\n",
       " dc & n\\\\\n",
       "\\hline\n",
       "\t 0    & 3753\\\\\n",
       "\\end{tabular}\n"
      ],
      "text/markdown": [
       "\n",
       "| dc | n |\n",
       "|---|---|\n",
       "| 0    | 3753 |\n",
       "\n"
      ],
      "text/plain": [
       "  dc n   \n",
       "1 0  3753"
      ]
     },
     "metadata": {},
     "output_type": "display_data"
    }
   ],
   "source": [
    "more_freq_dc <- dcs %>% filter(dcs$n == max(dcs$n,na.rm = TRUE))\n",
    "more_freq_dc"
   ]
  },
  {
   "cell_type": "markdown",
   "id": "d59611ea-b3bc-4d2a-ad20-5365bb571f68",
   "metadata": {},
   "source": [
    "### Brief of EDA per column"
   ]
  },
  {
   "cell_type": "markdown",
   "id": "23b7ada1-d30f-403d-84fc-44298df58194",
   "metadata": {},
   "source": [
    "The study period is between 18th March 2020 and 9th January 2022, that's more than 2years."
   ]
  },
  {
   "cell_type": "code",
   "execution_count": 41,
   "id": "52cc90e2-f44f-428e-bd01-2494a82ee7aa",
   "metadata": {},
   "outputs": [
    {
     "data": {
      "text/html": [
       "<time datetime=\"2020-03-18\">2020-03-18</time>"
      ],
      "text/latex": [
       "2020-03-18"
      ],
      "text/markdown": [
       "2020-03-18"
      ],
      "text/plain": [
       "[1] \"2020-03-18\""
      ]
     },
     "metadata": {},
     "output_type": "display_data"
    },
    {
     "data": {
      "text/html": [
       "<time datetime=\"2022-01-09\">2022-01-09</time>"
      ],
      "text/latex": [
       "2022-01-09"
      ],
      "text/markdown": [
       "2022-01-09"
      ],
      "text/plain": [
       "[1] \"2022-01-09\""
      ]
     },
     "metadata": {},
     "output_type": "display_data"
    }
   ],
   "source": [
    "fst_date\n",
    "lst_date"
   ]
  },
  {
   "cell_type": "markdown",
   "id": "f53f9f51-2d4a-40cd-a861-59c36083711a",
   "metadata": {},
   "source": [
    "Datas show us that the highiest number of notified hospitalisation is 3281 people at the same day through all french deps. And, hopefully the more frenquently numbre of notified hospitalisation is 0 at the same day."
   ]
  },
  {
   "cell_type": "code",
   "execution_count": 42,
   "id": "d2761ad9-af71-463c-a90c-a7821b3cc45a",
   "metadata": {},
   "outputs": [
    {
     "data": {
      "text/html": [
       "<table>\n",
       "<thead><tr><th scope=col>hosp</th><th scope=col>n</th></tr></thead>\n",
       "<tbody>\n",
       "\t<tr><td>3281</td><td>1   </td></tr>\n",
       "</tbody>\n",
       "</table>\n"
      ],
      "text/latex": [
       "\\begin{tabular}{r|ll}\n",
       " hosp & n\\\\\n",
       "\\hline\n",
       "\t 3281 & 1   \\\\\n",
       "\\end{tabular}\n"
      ],
      "text/markdown": [
       "\n",
       "| hosp | n |\n",
       "|---|---|\n",
       "| 3281 | 1    |\n",
       "\n"
      ],
      "text/plain": [
       "  hosp n\n",
       "1 3281 1"
      ]
     },
     "metadata": {},
     "output_type": "display_data"
    },
    {
     "data": {
      "text/html": [
       "<table>\n",
       "<thead><tr><th scope=col>hosp</th><th scope=col>n</th></tr></thead>\n",
       "<tbody>\n",
       "\t<tr><td>0   </td><td>4983</td></tr>\n",
       "</tbody>\n",
       "</table>\n"
      ],
      "text/latex": [
       "\\begin{tabular}{r|ll}\n",
       " hosp & n\\\\\n",
       "\\hline\n",
       "\t 0    & 4983\\\\\n",
       "\\end{tabular}\n"
      ],
      "text/markdown": [
       "\n",
       "| hosp | n |\n",
       "|---|---|\n",
       "| 0    | 4983 |\n",
       "\n"
      ],
      "text/plain": [
       "  hosp n   \n",
       "1 0    4983"
      ]
     },
     "metadata": {},
     "output_type": "display_data"
    }
   ],
   "source": [
    "more_nb_hosp\n",
    "more_freq_nb_hosp"
   ]
  },
  {
   "cell_type": "markdown",
   "id": "f3bbdfea-38d5-4da0-864a-bdce7b397a28",
   "metadata": {},
   "source": [
    "## Data building"
   ]
  },
  {
   "cell_type": "markdown",
   "id": "1bfc53b7-2306-4d38-9ee1-717e55c2d8d5",
   "metadata": {},
   "source": [
    "### Number of hospitaled people"
   ]
  },
  {
   "cell_type": "code",
   "execution_count": 43,
   "id": "8971bc0d-58a7-48e8-996f-32bd93da3a86",
   "metadata": {
    "tags": []
   },
   "outputs": [
    {
     "data": {
      "text/html": [
       "<table>\n",
       "<thead><tr><th scope=col>jour</th><th scope=col>hosp</th><th scope=col>rea</th><th scope=col>HospConv</th><th scope=col>SSR_USLD</th><th scope=col>autres</th><th scope=col>dc</th></tr></thead>\n",
       "<tbody>\n",
       "\t<tr><td>2020-03-18</td><td> 2972     </td><td> 771      </td><td>0         </td><td>0         </td><td>0         </td><td>  218     </td></tr>\n",
       "\t<tr><td>2020-03-19</td><td> 4073     </td><td>1002      </td><td>0         </td><td>0         </td><td>0         </td><td>  327     </td></tr>\n",
       "\t<tr><td>2020-03-20</td><td> 5226     </td><td>1297      </td><td>0         </td><td>0         </td><td>0         </td><td>  450     </td></tr>\n",
       "\t<tr><td>2020-03-21</td><td> 5900     </td><td>1453      </td><td>0         </td><td>0         </td><td>0         </td><td>  525     </td></tr>\n",
       "\t<tr><td>2020-03-22</td><td> 6954     </td><td>1674      </td><td>0         </td><td>0         </td><td>0         </td><td>  632     </td></tr>\n",
       "\t<tr><td>2020-03-23</td><td> 8673     </td><td>2080      </td><td>0         </td><td>0         </td><td>0         </td><td>  860     </td></tr>\n",
       "\t<tr><td>2020-03-24</td><td>10163     </td><td>2503      </td><td>0         </td><td>0         </td><td>0         </td><td> 1100     </td></tr>\n",
       "\t<tr><td>2020-03-25</td><td>12072     </td><td>2935      </td><td>0         </td><td>0         </td><td>0         </td><td> 1388     </td></tr>\n",
       "\t<tr><td>2020-03-26</td><td>13879     </td><td>3351      </td><td>0         </td><td>0         </td><td>0         </td><td> 1696     </td></tr>\n",
       "\t<tr><td>2020-03-27</td><td>15701     </td><td>3758      </td><td>0         </td><td>0         </td><td>0         </td><td> 1995     </td></tr>\n",
       "\t<tr><td>2020-03-28</td><td>17580     </td><td>4236      </td><td>0         </td><td>0         </td><td>0         </td><td> 2314     </td></tr>\n",
       "\t<tr><td>2020-03-29</td><td>19311     </td><td>4592      </td><td>0         </td><td>0         </td><td>0         </td><td> 2606     </td></tr>\n",
       "\t<tr><td>2020-03-30</td><td>20946     </td><td>5056      </td><td>0         </td><td>0         </td><td>0         </td><td> 3024     </td></tr>\n",
       "\t<tr><td>2020-03-31</td><td>22672     </td><td>5496      </td><td>0         </td><td>0         </td><td>0         </td><td> 3523     </td></tr>\n",
       "\t<tr><td>2020-04-01</td><td>24543     </td><td>5940      </td><td>0         </td><td>0         </td><td>0         </td><td> 4032     </td></tr>\n",
       "\t<tr><td>2020-04-02</td><td>26131     </td><td>6305      </td><td>0         </td><td>0         </td><td>0         </td><td> 4503     </td></tr>\n",
       "\t<tr><td>2020-04-03</td><td>27302     </td><td>6556      </td><td>0         </td><td>0         </td><td>0         </td><td> 5091     </td></tr>\n",
       "\t<tr><td>2020-04-04</td><td>28003     </td><td>6723      </td><td>0         </td><td>0         </td><td>0         </td><td> 5532     </td></tr>\n",
       "\t<tr><td>2020-04-05</td><td>28747     </td><td>6859      </td><td>0         </td><td>0         </td><td>0         </td><td> 5889     </td></tr>\n",
       "\t<tr><td>2020-04-06</td><td>29569     </td><td>6948      </td><td>0         </td><td>0         </td><td>0         </td><td> 6494     </td></tr>\n",
       "\t<tr><td>2020-04-07</td><td>29871     </td><td>7004      </td><td>0         </td><td>0         </td><td>0         </td><td> 7091     </td></tr>\n",
       "\t<tr><td>2020-04-08</td><td>30217     </td><td>7019      </td><td>0         </td><td>0         </td><td>0         </td><td> 7632     </td></tr>\n",
       "\t<tr><td>2020-04-09</td><td>30608     </td><td>6937      </td><td>0         </td><td>0         </td><td>0         </td><td> 8044     </td></tr>\n",
       "\t<tr><td>2020-04-10</td><td>31108     </td><td>6875      </td><td>0         </td><td>0         </td><td>0         </td><td> 8598     </td></tr>\n",
       "\t<tr><td>2020-04-11</td><td>31159     </td><td>6752      </td><td>0         </td><td>0         </td><td>0         </td><td> 8943     </td></tr>\n",
       "\t<tr><td>2020-04-12</td><td>31665     </td><td>6714      </td><td>0         </td><td>0         </td><td>0         </td><td> 9253     </td></tr>\n",
       "\t<tr><td>2020-04-13</td><td>31952     </td><td>6690      </td><td>0         </td><td>0         </td><td>0         </td><td> 9588     </td></tr>\n",
       "\t<tr><td>2020-04-14</td><td>32131     </td><td>6599      </td><td>0         </td><td>0         </td><td>0         </td><td>10129     </td></tr>\n",
       "\t<tr><td>2020-04-15</td><td>31623     </td><td>6331      </td><td>0         </td><td>0         </td><td>0         </td><td>10643     </td></tr>\n",
       "\t<tr><td>2020-04-16</td><td>31172     </td><td>6139      </td><td>0         </td><td>0         </td><td>0         </td><td>11053     </td></tr>\n",
       "\t<tr><td>...</td><td>...</td><td>...</td><td>...</td><td>...</td><td>...</td><td>...</td></tr>\n",
       "\t<tr><td>2021-12-11</td><td>13855     </td><td>2539      </td><td> 7658     </td><td>3419      </td><td>239       </td><td>93404     </td></tr>\n",
       "\t<tr><td>2021-12-12</td><td>14050     </td><td>2602      </td><td> 7784     </td><td>3427      </td><td>237       </td><td>93452     </td></tr>\n",
       "\t<tr><td>2021-12-13</td><td>14527     </td><td>2752      </td><td> 8080     </td><td>3444      </td><td>251       </td><td>93683     </td></tr>\n",
       "\t<tr><td>2021-12-14</td><td>14819     </td><td>2792      </td><td> 8300     </td><td>3468      </td><td>259       </td><td>93841     </td></tr>\n",
       "\t<tr><td>2021-12-15</td><td>15062     </td><td>2843      </td><td> 8430     </td><td>3523      </td><td>266       </td><td>93992     </td></tr>\n",
       "\t<tr><td>2021-12-16</td><td>15142     </td><td>2832      </td><td> 8471     </td><td>3554      </td><td>285       </td><td>94157     </td></tr>\n",
       "\t<tr><td>2021-12-17</td><td>15410     </td><td>2901      </td><td> 8615     </td><td>3607      </td><td>287       </td><td>94319     </td></tr>\n",
       "\t<tr><td>2021-12-18</td><td>15370     </td><td>2933      </td><td> 8509     </td><td>3636      </td><td>292       </td><td>94404     </td></tr>\n",
       "\t<tr><td>2021-12-19</td><td>15528     </td><td>2936      </td><td> 8665     </td><td>3634      </td><td>293       </td><td>94479     </td></tr>\n",
       "\t<tr><td>2021-12-20</td><td>15918     </td><td>3025      </td><td> 8988     </td><td>3615      </td><td>290       </td><td>94703     </td></tr>\n",
       "\t<tr><td>2021-12-21</td><td>16076     </td><td>3096      </td><td> 9033     </td><td>3656      </td><td>291       </td><td>94913     </td></tr>\n",
       "\t<tr><td>2021-12-22</td><td>16118     </td><td>3147      </td><td> 8978     </td><td>3699      </td><td>294       </td><td>95083     </td></tr>\n",
       "\t<tr><td>2021-12-23</td><td>16060     </td><td>3208      </td><td> 8875     </td><td>3694      </td><td>283       </td><td>95262     </td></tr>\n",
       "\t<tr><td>2021-12-24</td><td>16173     </td><td>3254      </td><td> 8891     </td><td>3751      </td><td>277       </td><td>95429     </td></tr>\n",
       "\t<tr><td>2021-12-25</td><td>16162     </td><td>3282      </td><td> 8847     </td><td>3755      </td><td>278       </td><td>95513     </td></tr>\n",
       "\t<tr><td>2021-12-26</td><td>16365     </td><td>3299      </td><td> 9023     </td><td>3762      </td><td>281       </td><td>95609     </td></tr>\n",
       "\t<tr><td>2021-12-27</td><td>16921     </td><td>3333      </td><td> 9527     </td><td>3772      </td><td>289       </td><td>95865     </td></tr>\n",
       "\t<tr><td>2021-12-28</td><td>17405     </td><td>3416      </td><td> 9828     </td><td>3856      </td><td>305       </td><td>96107     </td></tr>\n",
       "\t<tr><td>2021-12-29</td><td>17856     </td><td>3469      </td><td>10112     </td><td>3952      </td><td>323       </td><td>96291     </td></tr>\n",
       "\t<tr><td>2021-12-30</td><td>18321     </td><td>3506      </td><td>10379     </td><td>4081      </td><td>355       </td><td>96471     </td></tr>\n",
       "\t<tr><td>2021-12-31</td><td>18715     </td><td>3543      </td><td>10620     </td><td>4175      </td><td>377       </td><td>96660     </td></tr>\n",
       "\t<tr><td>2022-01-01</td><td>18811     </td><td>3560      </td><td>10628     </td><td>4241      </td><td>382       </td><td>96770     </td></tr>\n",
       "\t<tr><td>2022-01-02</td><td>19043     </td><td>3572      </td><td>10842     </td><td>4244      </td><td>385       </td><td>96861     </td></tr>\n",
       "\t<tr><td>2022-01-03</td><td>19606     </td><td>3654      </td><td>11361     </td><td>4189      </td><td>402       </td><td>97131     </td></tr>\n",
       "\t<tr><td>2022-01-04</td><td>20186     </td><td>3665      </td><td>11802     </td><td>4309      </td><td>410       </td><td>97424     </td></tr>\n",
       "\t<tr><td>2022-01-05</td><td>20688     </td><td>3695      </td><td>12138     </td><td>4409      </td><td>446       </td><td>97670     </td></tr>\n",
       "\t<tr><td>2022-01-06</td><td>21169     </td><td>3759      </td><td>12372     </td><td>4529      </td><td>509       </td><td>97874     </td></tr>\n",
       "\t<tr><td>2022-01-07</td><td>21605     </td><td>3815      </td><td>12564     </td><td>4652      </td><td>574       </td><td>98067     </td></tr>\n",
       "\t<tr><td>2022-01-08</td><td>21721     </td><td>3821      </td><td>12594     </td><td>4724      </td><td>582       </td><td>98209     </td></tr>\n",
       "\t<tr><td>2022-01-09</td><td>21982     </td><td>3847      </td><td>12799     </td><td>4740      </td><td>596       </td><td>98299     </td></tr>\n",
       "</tbody>\n",
       "</table>\n"
      ],
      "text/latex": [
       "\\begin{tabular}{r|lllllll}\n",
       " jour & hosp & rea & HospConv & SSR\\_USLD & autres & dc\\\\\n",
       "\\hline\n",
       "\t 2020-03-18 &  2972      &  771       & 0          & 0          & 0          &   218     \\\\\n",
       "\t 2020-03-19 &  4073      & 1002       & 0          & 0          & 0          &   327     \\\\\n",
       "\t 2020-03-20 &  5226      & 1297       & 0          & 0          & 0          &   450     \\\\\n",
       "\t 2020-03-21 &  5900      & 1453       & 0          & 0          & 0          &   525     \\\\\n",
       "\t 2020-03-22 &  6954      & 1674       & 0          & 0          & 0          &   632     \\\\\n",
       "\t 2020-03-23 &  8673      & 2080       & 0          & 0          & 0          &   860     \\\\\n",
       "\t 2020-03-24 & 10163      & 2503       & 0          & 0          & 0          &  1100     \\\\\n",
       "\t 2020-03-25 & 12072      & 2935       & 0          & 0          & 0          &  1388     \\\\\n",
       "\t 2020-03-26 & 13879      & 3351       & 0          & 0          & 0          &  1696     \\\\\n",
       "\t 2020-03-27 & 15701      & 3758       & 0          & 0          & 0          &  1995     \\\\\n",
       "\t 2020-03-28 & 17580      & 4236       & 0          & 0          & 0          &  2314     \\\\\n",
       "\t 2020-03-29 & 19311      & 4592       & 0          & 0          & 0          &  2606     \\\\\n",
       "\t 2020-03-30 & 20946      & 5056       & 0          & 0          & 0          &  3024     \\\\\n",
       "\t 2020-03-31 & 22672      & 5496       & 0          & 0          & 0          &  3523     \\\\\n",
       "\t 2020-04-01 & 24543      & 5940       & 0          & 0          & 0          &  4032     \\\\\n",
       "\t 2020-04-02 & 26131      & 6305       & 0          & 0          & 0          &  4503     \\\\\n",
       "\t 2020-04-03 & 27302      & 6556       & 0          & 0          & 0          &  5091     \\\\\n",
       "\t 2020-04-04 & 28003      & 6723       & 0          & 0          & 0          &  5532     \\\\\n",
       "\t 2020-04-05 & 28747      & 6859       & 0          & 0          & 0          &  5889     \\\\\n",
       "\t 2020-04-06 & 29569      & 6948       & 0          & 0          & 0          &  6494     \\\\\n",
       "\t 2020-04-07 & 29871      & 7004       & 0          & 0          & 0          &  7091     \\\\\n",
       "\t 2020-04-08 & 30217      & 7019       & 0          & 0          & 0          &  7632     \\\\\n",
       "\t 2020-04-09 & 30608      & 6937       & 0          & 0          & 0          &  8044     \\\\\n",
       "\t 2020-04-10 & 31108      & 6875       & 0          & 0          & 0          &  8598     \\\\\n",
       "\t 2020-04-11 & 31159      & 6752       & 0          & 0          & 0          &  8943     \\\\\n",
       "\t 2020-04-12 & 31665      & 6714       & 0          & 0          & 0          &  9253     \\\\\n",
       "\t 2020-04-13 & 31952      & 6690       & 0          & 0          & 0          &  9588     \\\\\n",
       "\t 2020-04-14 & 32131      & 6599       & 0          & 0          & 0          & 10129     \\\\\n",
       "\t 2020-04-15 & 31623      & 6331       & 0          & 0          & 0          & 10643     \\\\\n",
       "\t 2020-04-16 & 31172      & 6139       & 0          & 0          & 0          & 11053     \\\\\n",
       "\t ... & ... & ... & ... & ... & ... & ...\\\\\n",
       "\t 2021-12-11 & 13855      & 2539       &  7658      & 3419       & 239        & 93404     \\\\\n",
       "\t 2021-12-12 & 14050      & 2602       &  7784      & 3427       & 237        & 93452     \\\\\n",
       "\t 2021-12-13 & 14527      & 2752       &  8080      & 3444       & 251        & 93683     \\\\\n",
       "\t 2021-12-14 & 14819      & 2792       &  8300      & 3468       & 259        & 93841     \\\\\n",
       "\t 2021-12-15 & 15062      & 2843       &  8430      & 3523       & 266        & 93992     \\\\\n",
       "\t 2021-12-16 & 15142      & 2832       &  8471      & 3554       & 285        & 94157     \\\\\n",
       "\t 2021-12-17 & 15410      & 2901       &  8615      & 3607       & 287        & 94319     \\\\\n",
       "\t 2021-12-18 & 15370      & 2933       &  8509      & 3636       & 292        & 94404     \\\\\n",
       "\t 2021-12-19 & 15528      & 2936       &  8665      & 3634       & 293        & 94479     \\\\\n",
       "\t 2021-12-20 & 15918      & 3025       &  8988      & 3615       & 290        & 94703     \\\\\n",
       "\t 2021-12-21 & 16076      & 3096       &  9033      & 3656       & 291        & 94913     \\\\\n",
       "\t 2021-12-22 & 16118      & 3147       &  8978      & 3699       & 294        & 95083     \\\\\n",
       "\t 2021-12-23 & 16060      & 3208       &  8875      & 3694       & 283        & 95262     \\\\\n",
       "\t 2021-12-24 & 16173      & 3254       &  8891      & 3751       & 277        & 95429     \\\\\n",
       "\t 2021-12-25 & 16162      & 3282       &  8847      & 3755       & 278        & 95513     \\\\\n",
       "\t 2021-12-26 & 16365      & 3299       &  9023      & 3762       & 281        & 95609     \\\\\n",
       "\t 2021-12-27 & 16921      & 3333       &  9527      & 3772       & 289        & 95865     \\\\\n",
       "\t 2021-12-28 & 17405      & 3416       &  9828      & 3856       & 305        & 96107     \\\\\n",
       "\t 2021-12-29 & 17856      & 3469       & 10112      & 3952       & 323        & 96291     \\\\\n",
       "\t 2021-12-30 & 18321      & 3506       & 10379      & 4081       & 355        & 96471     \\\\\n",
       "\t 2021-12-31 & 18715      & 3543       & 10620      & 4175       & 377        & 96660     \\\\\n",
       "\t 2022-01-01 & 18811      & 3560       & 10628      & 4241       & 382        & 96770     \\\\\n",
       "\t 2022-01-02 & 19043      & 3572       & 10842      & 4244       & 385        & 96861     \\\\\n",
       "\t 2022-01-03 & 19606      & 3654       & 11361      & 4189       & 402        & 97131     \\\\\n",
       "\t 2022-01-04 & 20186      & 3665       & 11802      & 4309       & 410        & 97424     \\\\\n",
       "\t 2022-01-05 & 20688      & 3695       & 12138      & 4409       & 446        & 97670     \\\\\n",
       "\t 2022-01-06 & 21169      & 3759       & 12372      & 4529       & 509        & 97874     \\\\\n",
       "\t 2022-01-07 & 21605      & 3815       & 12564      & 4652       & 574        & 98067     \\\\\n",
       "\t 2022-01-08 & 21721      & 3821       & 12594      & 4724       & 582        & 98209     \\\\\n",
       "\t 2022-01-09 & 21982      & 3847       & 12799      & 4740       & 596        & 98299     \\\\\n",
       "\\end{tabular}\n"
      ],
      "text/markdown": [
       "\n",
       "| jour | hosp | rea | HospConv | SSR_USLD | autres | dc |\n",
       "|---|---|---|---|---|---|---|\n",
       "| 2020-03-18 |  2972      |  771       | 0          | 0          | 0          |   218      |\n",
       "| 2020-03-19 |  4073      | 1002       | 0          | 0          | 0          |   327      |\n",
       "| 2020-03-20 |  5226      | 1297       | 0          | 0          | 0          |   450      |\n",
       "| 2020-03-21 |  5900      | 1453       | 0          | 0          | 0          |   525      |\n",
       "| 2020-03-22 |  6954      | 1674       | 0          | 0          | 0          |   632      |\n",
       "| 2020-03-23 |  8673      | 2080       | 0          | 0          | 0          |   860      |\n",
       "| 2020-03-24 | 10163      | 2503       | 0          | 0          | 0          |  1100      |\n",
       "| 2020-03-25 | 12072      | 2935       | 0          | 0          | 0          |  1388      |\n",
       "| 2020-03-26 | 13879      | 3351       | 0          | 0          | 0          |  1696      |\n",
       "| 2020-03-27 | 15701      | 3758       | 0          | 0          | 0          |  1995      |\n",
       "| 2020-03-28 | 17580      | 4236       | 0          | 0          | 0          |  2314      |\n",
       "| 2020-03-29 | 19311      | 4592       | 0          | 0          | 0          |  2606      |\n",
       "| 2020-03-30 | 20946      | 5056       | 0          | 0          | 0          |  3024      |\n",
       "| 2020-03-31 | 22672      | 5496       | 0          | 0          | 0          |  3523      |\n",
       "| 2020-04-01 | 24543      | 5940       | 0          | 0          | 0          |  4032      |\n",
       "| 2020-04-02 | 26131      | 6305       | 0          | 0          | 0          |  4503      |\n",
       "| 2020-04-03 | 27302      | 6556       | 0          | 0          | 0          |  5091      |\n",
       "| 2020-04-04 | 28003      | 6723       | 0          | 0          | 0          |  5532      |\n",
       "| 2020-04-05 | 28747      | 6859       | 0          | 0          | 0          |  5889      |\n",
       "| 2020-04-06 | 29569      | 6948       | 0          | 0          | 0          |  6494      |\n",
       "| 2020-04-07 | 29871      | 7004       | 0          | 0          | 0          |  7091      |\n",
       "| 2020-04-08 | 30217      | 7019       | 0          | 0          | 0          |  7632      |\n",
       "| 2020-04-09 | 30608      | 6937       | 0          | 0          | 0          |  8044      |\n",
       "| 2020-04-10 | 31108      | 6875       | 0          | 0          | 0          |  8598      |\n",
       "| 2020-04-11 | 31159      | 6752       | 0          | 0          | 0          |  8943      |\n",
       "| 2020-04-12 | 31665      | 6714       | 0          | 0          | 0          |  9253      |\n",
       "| 2020-04-13 | 31952      | 6690       | 0          | 0          | 0          |  9588      |\n",
       "| 2020-04-14 | 32131      | 6599       | 0          | 0          | 0          | 10129      |\n",
       "| 2020-04-15 | 31623      | 6331       | 0          | 0          | 0          | 10643      |\n",
       "| 2020-04-16 | 31172      | 6139       | 0          | 0          | 0          | 11053      |\n",
       "| ... | ... | ... | ... | ... | ... | ... |\n",
       "| 2021-12-11 | 13855      | 2539       |  7658      | 3419       | 239        | 93404      |\n",
       "| 2021-12-12 | 14050      | 2602       |  7784      | 3427       | 237        | 93452      |\n",
       "| 2021-12-13 | 14527      | 2752       |  8080      | 3444       | 251        | 93683      |\n",
       "| 2021-12-14 | 14819      | 2792       |  8300      | 3468       | 259        | 93841      |\n",
       "| 2021-12-15 | 15062      | 2843       |  8430      | 3523       | 266        | 93992      |\n",
       "| 2021-12-16 | 15142      | 2832       |  8471      | 3554       | 285        | 94157      |\n",
       "| 2021-12-17 | 15410      | 2901       |  8615      | 3607       | 287        | 94319      |\n",
       "| 2021-12-18 | 15370      | 2933       |  8509      | 3636       | 292        | 94404      |\n",
       "| 2021-12-19 | 15528      | 2936       |  8665      | 3634       | 293        | 94479      |\n",
       "| 2021-12-20 | 15918      | 3025       |  8988      | 3615       | 290        | 94703      |\n",
       "| 2021-12-21 | 16076      | 3096       |  9033      | 3656       | 291        | 94913      |\n",
       "| 2021-12-22 | 16118      | 3147       |  8978      | 3699       | 294        | 95083      |\n",
       "| 2021-12-23 | 16060      | 3208       |  8875      | 3694       | 283        | 95262      |\n",
       "| 2021-12-24 | 16173      | 3254       |  8891      | 3751       | 277        | 95429      |\n",
       "| 2021-12-25 | 16162      | 3282       |  8847      | 3755       | 278        | 95513      |\n",
       "| 2021-12-26 | 16365      | 3299       |  9023      | 3762       | 281        | 95609      |\n",
       "| 2021-12-27 | 16921      | 3333       |  9527      | 3772       | 289        | 95865      |\n",
       "| 2021-12-28 | 17405      | 3416       |  9828      | 3856       | 305        | 96107      |\n",
       "| 2021-12-29 | 17856      | 3469       | 10112      | 3952       | 323        | 96291      |\n",
       "| 2021-12-30 | 18321      | 3506       | 10379      | 4081       | 355        | 96471      |\n",
       "| 2021-12-31 | 18715      | 3543       | 10620      | 4175       | 377        | 96660      |\n",
       "| 2022-01-01 | 18811      | 3560       | 10628      | 4241       | 382        | 96770      |\n",
       "| 2022-01-02 | 19043      | 3572       | 10842      | 4244       | 385        | 96861      |\n",
       "| 2022-01-03 | 19606      | 3654       | 11361      | 4189       | 402        | 97131      |\n",
       "| 2022-01-04 | 20186      | 3665       | 11802      | 4309       | 410        | 97424      |\n",
       "| 2022-01-05 | 20688      | 3695       | 12138      | 4409       | 446        | 97670      |\n",
       "| 2022-01-06 | 21169      | 3759       | 12372      | 4529       | 509        | 97874      |\n",
       "| 2022-01-07 | 21605      | 3815       | 12564      | 4652       | 574        | 98067      |\n",
       "| 2022-01-08 | 21721      | 3821       | 12594      | 4724       | 582        | 98209      |\n",
       "| 2022-01-09 | 21982      | 3847       | 12799      | 4740       | 596        | 98299      |\n",
       "\n"
      ],
      "text/plain": [
       "    jour       hosp  rea  HospConv SSR_USLD autres dc   \n",
       "1   2020-03-18  2972  771 0        0        0        218\n",
       "2   2020-03-19  4073 1002 0        0        0        327\n",
       "3   2020-03-20  5226 1297 0        0        0        450\n",
       "4   2020-03-21  5900 1453 0        0        0        525\n",
       "5   2020-03-22  6954 1674 0        0        0        632\n",
       "6   2020-03-23  8673 2080 0        0        0        860\n",
       "7   2020-03-24 10163 2503 0        0        0       1100\n",
       "8   2020-03-25 12072 2935 0        0        0       1388\n",
       "9   2020-03-26 13879 3351 0        0        0       1696\n",
       "10  2020-03-27 15701 3758 0        0        0       1995\n",
       "11  2020-03-28 17580 4236 0        0        0       2314\n",
       "12  2020-03-29 19311 4592 0        0        0       2606\n",
       "13  2020-03-30 20946 5056 0        0        0       3024\n",
       "14  2020-03-31 22672 5496 0        0        0       3523\n",
       "15  2020-04-01 24543 5940 0        0        0       4032\n",
       "16  2020-04-02 26131 6305 0        0        0       4503\n",
       "17  2020-04-03 27302 6556 0        0        0       5091\n",
       "18  2020-04-04 28003 6723 0        0        0       5532\n",
       "19  2020-04-05 28747 6859 0        0        0       5889\n",
       "20  2020-04-06 29569 6948 0        0        0       6494\n",
       "21  2020-04-07 29871 7004 0        0        0       7091\n",
       "22  2020-04-08 30217 7019 0        0        0       7632\n",
       "23  2020-04-09 30608 6937 0        0        0       8044\n",
       "24  2020-04-10 31108 6875 0        0        0       8598\n",
       "25  2020-04-11 31159 6752 0        0        0       8943\n",
       "26  2020-04-12 31665 6714 0        0        0       9253\n",
       "27  2020-04-13 31952 6690 0        0        0       9588\n",
       "28  2020-04-14 32131 6599 0        0        0      10129\n",
       "29  2020-04-15 31623 6331 0        0        0      10643\n",
       "30  2020-04-16 31172 6139 0        0        0      11053\n",
       "... ...        ...   ...  ...      ...      ...    ...  \n",
       "634 2021-12-11 13855 2539  7658    3419     239    93404\n",
       "635 2021-12-12 14050 2602  7784    3427     237    93452\n",
       "636 2021-12-13 14527 2752  8080    3444     251    93683\n",
       "637 2021-12-14 14819 2792  8300    3468     259    93841\n",
       "638 2021-12-15 15062 2843  8430    3523     266    93992\n",
       "639 2021-12-16 15142 2832  8471    3554     285    94157\n",
       "640 2021-12-17 15410 2901  8615    3607     287    94319\n",
       "641 2021-12-18 15370 2933  8509    3636     292    94404\n",
       "642 2021-12-19 15528 2936  8665    3634     293    94479\n",
       "643 2021-12-20 15918 3025  8988    3615     290    94703\n",
       "644 2021-12-21 16076 3096  9033    3656     291    94913\n",
       "645 2021-12-22 16118 3147  8978    3699     294    95083\n",
       "646 2021-12-23 16060 3208  8875    3694     283    95262\n",
       "647 2021-12-24 16173 3254  8891    3751     277    95429\n",
       "648 2021-12-25 16162 3282  8847    3755     278    95513\n",
       "649 2021-12-26 16365 3299  9023    3762     281    95609\n",
       "650 2021-12-27 16921 3333  9527    3772     289    95865\n",
       "651 2021-12-28 17405 3416  9828    3856     305    96107\n",
       "652 2021-12-29 17856 3469 10112    3952     323    96291\n",
       "653 2021-12-30 18321 3506 10379    4081     355    96471\n",
       "654 2021-12-31 18715 3543 10620    4175     377    96660\n",
       "655 2022-01-01 18811 3560 10628    4241     382    96770\n",
       "656 2022-01-02 19043 3572 10842    4244     385    96861\n",
       "657 2022-01-03 19606 3654 11361    4189     402    97131\n",
       "658 2022-01-04 20186 3665 11802    4309     410    97424\n",
       "659 2022-01-05 20688 3695 12138    4409     446    97670\n",
       "660 2022-01-06 21169 3759 12372    4529     509    97874\n",
       "661 2022-01-07 21605 3815 12564    4652     574    98067\n",
       "662 2022-01-08 21721 3821 12594    4724     582    98209\n",
       "663 2022-01-09 21982 3847 12799    4740     596    98299"
      ]
     },
     "metadata": {},
     "output_type": "display_data"
    }
   ],
   "source": [
    "# df_data_fr <- cbind(df_hebdo_covid,mois=format(as.Date(df_hebdo_covid$jour), \"%m\"))\n",
    "# df_data_fr <- cbind(df_data_fr,annee=format(as.Date(df_data_fr$jour), \"%Y\"))\n",
    "# df_data_fr$date = paste(df_data_fr$annee, df_data_fr$mois, sep=\"_\")\n",
    "df_data_fr <- df_hebdo_covid %>% filter(df_hebdo_covid$sexe == 0) %>% group_by(jour) %>% summarise(\n",
    "                              hosp = sum(hosp),\n",
    "                              rea = sum(rea),\n",
    "                              HospConv = sum(HospConv),\n",
    "                              SSR_USLD = sum(SSR_USLD),\n",
    "                              autres = sum(autres),\n",
    "                              dc = sum(dc)\n",
    "                              )\n",
    "df_data_fr[is.na(df_data_fr)] <- 0\n",
    "df_data_fr"
   ]
  },
  {
   "cell_type": "code",
   "execution_count": 44,
   "id": "91e3744f-e879-48d7-9835-4dd430b4f7d5",
   "metadata": {},
   "outputs": [],
   "source": [
    "# # Area plot\n",
    "# ggplot(df_data_fr, aes(x=as.Date(jour))) + \n",
    "#   geom_area(aes(y = hosp), fill = \"#457b9d\", \n",
    "#             color = \"#1d3557\", alpha=0.5)"
   ]
  },
  {
   "cell_type": "code",
   "execution_count": 45,
   "id": "291fbb81-c9d3-4f33-9fb3-83ea6dac3004",
   "metadata": {
    "tags": []
   },
   "outputs": [],
   "source": [
    "df_data_fr_2020<-df_data_fr %>% filter((as.Date(jour) < as.Date(\"2021-01-01\")) & (as.Date(jour) > as.Date(\"2019-12-31\")))\n",
    "df_data_fr_2021<-df_data_fr %>% filter((as.Date(jour) < as.Date(\"2022-01-01\")) & (as.Date(jour) > as.Date(\"2020-12-31\"))) \n",
    "df_data_fr_2022<-df_data_fr %>% filter((as.Date(jour) < as.Date(\"2023-01-01\")) & (as.Date(jour) > as.Date(\"2021-12-31\"))) "
   ]
  },
  {
   "cell_type": "code",
   "execution_count": 46,
   "id": "74e23dd7-24c1-4a26-9c3c-77cafe19e4df",
   "metadata": {},
   "outputs": [],
   "source": [
    "# #Année 2020\n",
    "# ggplot(df_data_fr_2020, aes(x=as.Date(jour))) + \n",
    "#   geom_area(aes(y = hosp), fill = \"#457b9d\", \n",
    "#             color = \"#1d3557\", alpha=0.5)\n",
    "# + scale_color_manual(name = \"Y series\", values = c(\"Y1\" = \"#457b9d\"))"
   ]
  },
  {
   "cell_type": "code",
   "execution_count": 47,
   "id": "faf1a1c4-3e03-4a9a-a605-c92ffea47c7d",
   "metadata": {},
   "outputs": [],
   "source": [
    "# #Année 2021\n",
    "# ggplot(df_data_fr_2021, aes(x=as.Date(jour))) + \n",
    "#   geom_area(aes(y = hosp), fill = \"#457b9d\", \n",
    "#             color = \"#1d3557\", alpha=0.5)"
   ]
  },
  {
   "cell_type": "code",
   "execution_count": 48,
   "id": "fbc2c9b9-09cf-4eb9-9657-82211aed97da",
   "metadata": {},
   "outputs": [],
   "source": [
    "# # Année 2022\n",
    "# ggplot(df_data_fr_2022, aes(x=as.Date(jour))) + \n",
    "#   geom_area(aes(y = hosp), fill = \"#457b9d\", \n",
    "#             color = \"#1d3557\", alpha=0.5)"
   ]
  },
  {
   "cell_type": "code",
   "execution_count": 49,
   "id": "d21e90c6-44ec-4082-b7cf-9123d973dc34",
   "metadata": {},
   "outputs": [],
   "source": [
    "#completer les dataframes annuelles pour avoir une sorte de chevauchement des affichages (même nombre de raw)"
   ]
  },
  {
   "cell_type": "markdown",
   "id": "425d33da-9a19-4058-b823-b9bdea43f302",
   "metadata": {},
   "source": [
    "### Repartition hospitaled people"
   ]
  },
  {
   "cell_type": "code",
   "execution_count": 50,
   "id": "c2af6e58-28fa-4f7b-a057-13d5b4d6bf10",
   "metadata": {},
   "outputs": [
    {
     "data": {
      "image/png": "[encoded data removed]",
      "text/plain": [
       "plot without title"
      ]
     },
     "metadata": {},
     "output_type": "display_data"
    }
   ],
   "source": [
    "# Area plot\n",
    "ggplot(df_data_fr, aes(x=as.Date(jour))) +\n",
    " \n",
    "ggtitle(label = \"Données relatives aux hospitalisations liées au Covid19 en France\",\n",
    "              subtitle = \"Répartition des hospitalisations par service\")+\n",
    "theme(\n",
    "  plot.title = element_text(size = 14, face = \"bold\",hjust = 0.5),\n",
    "  plot.subtitle = element_text(color = \"#364167\",hjust = 0.5),\n",
    "  legend.position=\"bottom\"\n",
    ")+ \n",
    "xlab(\"Date\") + ylab(\"Nombre d'hospitalisation\") +\n",
    "geom_area(aes(y = rea+HospConv+SSR_USLD+autres, color = \"reanimation\", fill = \"reanimation\"), alpha=0.4)+ \n",
    "geom_area(aes(y = hosp, color = \"total\", fill = \"total\"), alpha=0.1)+ \n",
    "geom_area(aes(y = HospConv+SSR_USLD+autres, color = \"conventionnelle\", fill = \"conventionnelle\"), alpha=0.3)+\n",
    "geom_area(aes(y = SSR_USLD+autres, color = \"SSR_ou_USLD\", fill = \"SSR_ou_USLD\"), alpha=0.4)+\n",
    "geom_area(aes(y = autres, color = \"autres\", fill = \"autres\"), alpha=0.5)+\n",
    "\n",
    "\n",
    "    scale_color_manual(\"Hospitalisation\", values=c(total=\"#457b9d\",\n",
    "                                                   reanimation =\"#e76f51\",\n",
    "                                                   conventionnelle = \"#fcbf49\",\n",
    "                                                   SSR_ou_USLD = \"#588157\" ,\n",
    "                                                   autres = \"#faedcd\")) +  \n",
    "    scale_fill_manual(\"Hospitalisation\", values=c( total=\"#457b9d\",\n",
    "                                                   reanimation =\"#e76f51\",\n",
    "                                                   conventionnelle = \"#fcbf49\",\n",
    "                                                   SSR_ou_USLD = \"#588157\" ,\n",
    "                                                   autres = \"#faedcd\"))\n",
    "# +scale_fill_discrete(name = \"Type hospitalisation\", labels = c(\"Total\", \"Reanimation\", \"Hospitalisation conv\",\"SSR ou USLD\", \"Autres\"))"
   ]
  },
  {
   "cell_type": "code",
   "execution_count": 51,
   "id": "f46b6d91-d21b-4504-853a-a2d12748e853",
   "metadata": {},
   "outputs": [
    {
     "data": {
      "image/png": "[encoded data removed]",
      "text/plain": [
       "plot without title"
      ]
     },
     "metadata": {},
     "output_type": "display_data"
    }
   ],
   "source": [
    "# Area plot\n",
    "ggplot(df_data_fr_2020, aes(x=as.Date(jour))) + \n",
    "ggtitle(label = \"Données relatives aux hospitalisations liées au Covid19 en France\\nen 2020\",\n",
    "              subtitle = \"Répartition des hospitalisations par service\")+\n",
    "theme(\n",
    "  plot.title = element_text(size = 14, face = \"bold\",hjust = 0.5),\n",
    "  plot.subtitle = element_text(color = \"#364167\",hjust = 0.5),\n",
    "  legend.position = \"bottom\"\n",
    ")+\n",
    "xlab(\"Date\") + ylab(\"Nombre d'hospitalisation\") +\n",
    "geom_area(aes(y = rea+HospConv+SSR_USLD+autres, color = \"reanimation\", fill = \"reanimation\"), alpha=0.4)+ \n",
    "geom_area(aes(y = hosp, color = \"total\", fill = \"total\"), alpha=0.1)+ \n",
    "geom_area(aes(y = HospConv+SSR_USLD+autres, color = \"conventionnelle\", fill = \"conventionnelle\"), alpha=0.3)+\n",
    "geom_area(aes(y = SSR_USLD+autres, color = \"SSR_ou_USLD\", fill = \"SSR_ou_USLD\"), alpha=0.4)+\n",
    "geom_area(aes(y = autres, color = \"autres\", fill = \"autres\"), alpha=0.5)+\n",
    "\n",
    "\n",
    "    scale_color_manual(\"Hospitalisation\", values=c(total=\"#457b9d\",\n",
    "                                                   reanimation =\"#e76f51\",\n",
    "                                                   conventionnelle = \"#fcbf49\",\n",
    "                                                   SSR_ou_USLD = \"#588157\" ,\n",
    "                                                   autres = \"#faedcd\")) +  \n",
    "    scale_fill_manual(\"Hospitalisation\", values=c( total=\"#457b9d\",\n",
    "                                                   reanimation =\"#e76f51\",\n",
    "                                                   conventionnelle = \"#fcbf49\",\n",
    "                                                   SSR_ou_USLD = \"#588157\" ,\n",
    "                                                   autres = \"#faedcd\"))"
   ]
  },
  {
   "cell_type": "code",
   "execution_count": 52,
   "id": "5712802c-20a5-4554-9e0d-67382ecc1767",
   "metadata": {},
   "outputs": [
    {
     "data": {
      "image/png": "[encoded data removed]",
      "text/plain": [
       "plot without title"
      ]
     },
     "metadata": {},
     "output_type": "display_data"
    }
   ],
   "source": [
    "ggplot(df_data_fr_2021, aes(x=as.Date(jour))) +\n",
    "  \n",
    "ggtitle(label = \"Données relatives aux hospitalisations liées au Covid19 en France\\nen 2021\",\n",
    "              subtitle = \"Répartition des hospitalisations par service\")+\n",
    "theme(\n",
    "  plot.title = element_text(size = 14, face = \"bold\",hjust = 0.5),\n",
    "  plot.subtitle = element_text(color = \"#364167\",hjust = 0.5),\n",
    "  legend.position=\"bottom\"\n",
    ")+ \n",
    "xlab(\"Date\") + ylab(\"Nombre d'hospitalisation\") +\n",
    "geom_area(aes(y = rea+HospConv+SSR_USLD+autres, color = \"reanimation\", fill = \"reanimation\"), alpha=0.4)+ \n",
    "geom_area(aes(y = hosp, color = \"total\", fill = \"total\"), alpha=0.1)+ \n",
    "geom_area(aes(y = HospConv+SSR_USLD+autres, color = \"conventionnelle\", fill = \"conventionnelle\"), alpha=0.3)+\n",
    "geom_area(aes(y = SSR_USLD+autres, color = \"SSR_ou_USLD\", fill = \"SSR_ou_USLD\"), alpha=0.4)+\n",
    "geom_area(aes(y = autres, color = \"autres\", fill = \"autres\"), alpha=0.5)+\n",
    "\n",
    "\n",
    "    scale_color_manual(\"Hospitalisation\", values=c(total=\"#457b9d\",\n",
    "                                                   reanimation =\"#e76f51\",\n",
    "                                                   conventionnelle = \"#fcbf49\",\n",
    "                                                   SSR_ou_USLD = \"#588157\" ,\n",
    "                                                   autres = \"#faedcd\")) +  \n",
    "    scale_fill_manual(\"Hospitalisation\", values=c( total=\"#457b9d\",\n",
    "                                                   reanimation =\"#e76f51\",\n",
    "                                                   conventionnelle = \"#fcbf49\",\n",
    "                                                   SSR_ou_USLD = \"#588157\" ,\n",
    "                                                   autres = \"#faedcd\"))\n",
    "# guides(fill=guide_legend(title=\"Secteurs\"))"
   ]
  },
  {
   "cell_type": "code",
   "execution_count": 53,
   "id": "575883a9-0dca-40d2-ae05-14d74be986df",
   "metadata": {},
   "outputs": [
    {
     "data": {
      "image/png": "[encoded data removed]",
      "text/plain": [
       "plot without title"
      ]
     },
     "metadata": {},
     "output_type": "display_data"
    }
   ],
   "source": [
    "### DEV ##################################################\n",
    "# Area plot\n",
    "p1 <- ggplot(df_data_fr_2022, aes(x=as.Date(jour))) + \n",
    "ggtitle(label = \"Données relatives aux hospitalisations liées au Covid19 en France\\nen 2022\",\n",
    "              subtitle = \"Répartition des hospitalisations par service\")+\n",
    "theme(\n",
    "  plot.title = element_text(size = 14, face = \"bold\",hjust = 0.5),\n",
    "  plot.subtitle = element_text(color = \"#364167\",hjust = 0.5),\n",
    "  legend.position=\"bottom\"\n",
    ")+\n",
    "xlab(\"Date\") + ylab(\"Nombre d'hospitalisation\") +\n",
    "geom_area(aes(y = rea+HospConv+SSR_USLD+autres, color = \"reanimation\", fill = \"reanimation\"), alpha=0.4)+ \n",
    "geom_area(aes(y = hosp, color = \"total\", fill = \"total\"), alpha=0.1)+ \n",
    "geom_area(aes(y = HospConv+SSR_USLD+autres, color = \"conventionnelle\", fill = \"conventionnelle\"), alpha=0.3)+\n",
    "geom_area(aes(y = SSR_USLD+autres, color = \"SSR_ou_USLD\", fill = \"SSR_ou_USLD\"), alpha=0.4)+\n",
    "geom_area(aes(y = autres, color = \"autres\", fill = \"autres\"), alpha=0.5)+\n",
    "\n",
    "\n",
    "    scale_color_manual(\"Hospitalisation\", values=c(total=\"#457b9d\",\n",
    "                                                   reanimation =\"#e76f51\",\n",
    "                                                   conventionnelle = \"#fcbf49\",\n",
    "                                                   SSR_ou_USLD = \"#588157\" ,\n",
    "                                                   autres = \"#faedcd\")) +  \n",
    "    scale_fill_manual(\"Hospitalisation\", values=c( total=\"#457b9d\",\n",
    "                                                   reanimation =\"#e76f51\",\n",
    "                                                   conventionnelle = \"#fcbf49\",\n",
    "                                                   SSR_ou_USLD = \"#588157\" ,\n",
    "                                                   autres = \"#faedcd\"))\n",
    "### DEV ##################################################\n",
    "p1"
   ]
  },
  {
   "cell_type": "markdown",
   "id": "8aa619ce-3690-46f8-ad12-5bb4113c01f2",
   "metadata": {},
   "source": [
    "## Function building area"
   ]
  },
  {
   "cell_type": "markdown",
   "id": "28d354ec-d43a-4dc6-aaa2-abd37486f161",
   "metadata": {
    "tags": []
   },
   "source": [
    "#### Affiche_all_hosp_periode()"
   ]
  },
  {
   "cell_type": "raw",
   "id": "3436799d-4e9e-4e76-a65e-7fb1225d9022",
   "metadata": {},
   "source": [
    "Permet d'afficher sous forme d'area plot la répartition des hospitalisations par secteur dans une période donnée "
   ]
  },
  {
   "cell_type": "code",
   "execution_count": 54,
   "id": "8ba18e3d-382c-4987-95aa-8456f888d467",
   "metadata": {},
   "outputs": [],
   "source": [
    "Affiche_all_hosp_periode <- function(dataframe, deb_date = as.Date(\"2019-12-31\"), end_date = as.Date(\"2022-01-08\")) {\n",
    "    sprintf(\"Period of analysis: %s -> %s\",as.character.Date(deb_date),as.character.Date(end_date))\n",
    "    #Filter part#\n",
    "    df_filtered<-dataframe %>% filter((as.Date(jour) <= end_date) & (as.Date(jour) >= deb_date))\n",
    "    date_min = min(as.character.Date(df_filtered$jour))\n",
    "    date_max = max(as.character.Date(df_filtered$jour))\n",
    "    #Graphic part#\n",
    "        # Construction du titre\n",
    "    title_label = paste(\"Nombre d'hospitalisation dû au Covid19 dans les territoires français\\n du\",\n",
    "                        as.character.Date(date_min),\n",
    "                        \" au \",\n",
    "                        as.character.Date(date_max))\n",
    "        # Initialisation du graphique\n",
    "    graph <- ggplot(df_filtered, aes(x=as.Date(jour))) + \n",
    "        \n",
    "        # Edition du titre\n",
    "    ggtitle(label = title_label, subtitle = \"Répartition des hospitalisations par service\")+\n",
    "    \n",
    "        # Edition des paramètres titre/legend\n",
    "    theme(\n",
    "      plot.title = element_text(size = 14, face = \"bold\", hjust = 0.5),\n",
    "      plot.subtitle = element_text(color = \"#364167\", hjust = 0.5),\n",
    "      legend.position=\"bottom\"\n",
    "    )+\n",
    "       # Edition des labels (ordonnées/abscisse)\n",
    "    xlab(\"Date\") + ylab(\"Nombre d'hospitalisation\") +\n",
    "    \n",
    "       # Affichage des areas plot consernant les différents services\n",
    "    geom_area(aes(y = rea+HospConv+SSR_USLD+autres, color = \"reanimation\", fill = \"reanimation\"), alpha=0.4)+ \n",
    "    geom_area(aes(y = hosp, color = \"total\", fill = \"total\"), alpha=0.1)+ \n",
    "    geom_area(aes(y = HospConv+SSR_USLD+autres, color = \"conventionnelle\", fill = \"conventionnelle\"), alpha=0.3)+\n",
    "    geom_area(aes(y = SSR_USLD+autres, color = \"SSR_ou_USLD\", fill = \"SSR_ou_USLD\"), alpha=0.4)+\n",
    "    geom_area(aes(y = autres, color = \"autres\", fill = \"autres\"), alpha=0.5)+\n",
    "\n",
    "       # Paramétrage des couleurs des area plot et de la légende\n",
    "    scale_color_manual(\"Hospitalisation\", values=c(total=\"#457b9d\",\n",
    "                                                   reanimation =\"#e76f51\",\n",
    "                                                   conventionnelle = \"#fcbf49\",\n",
    "                                                   SSR_ou_USLD = \"#588157\" ,\n",
    "                                                   autres = \"#faedcd\")) +  \n",
    "    scale_fill_manual(\"Hospitalisation\", values=c( total=\"#457b9d\",\n",
    "                                                   reanimation =\"#e76f51\",\n",
    "                                                   conventionnelle = \"#fcbf49\",\n",
    "                                                   SSR_ou_USLD = \"#588157\" ,\n",
    "                                                   autres = \"#faedcd\"))\n",
    "    \n",
    "    return(graph)\n",
    "    \n",
    "}"
   ]
  },
  {
   "cell_type": "code",
   "execution_count": 55,
   "id": "c7a61a84-cfb8-48bb-8f6b-5933999cfdd8",
   "metadata": {
    "tags": []
   },
   "outputs": [
    {
     "data": {
      "image/png": "[encoded data removed]",
      "text/plain": [
       "plot without title"
      ]
     },
     "metadata": {},
     "output_type": "display_data"
    }
   ],
   "source": [
    "Affiche_all_hosp_periode(df_data_fr)"
   ]
  },
  {
   "cell_type": "code",
   "execution_count": 56,
   "id": "15a54b72-2558-4dd8-9e1d-bab14d5e011f",
   "metadata": {
    "tags": []
   },
   "outputs": [
    {
     "data": {
      "image/png": "[encoded data removed]",
      "text/plain": [
       "plot without title"
      ]
     },
     "metadata": {},
     "output_type": "display_data"
    }
   ],
   "source": [
    "date1 = as.Date(\"2021-07-02\")\n",
    "date2 = as.Date(\"2021-10-05\")\n",
    "Affiche_all_hosp_periode(df_data_fr,date1,date2)"
   ]
  },
  {
   "cell_type": "markdown",
   "id": "f9a2ffc7-7985-408d-8b52-fde3315e82b0",
   "metadata": {},
   "source": [
    "#### Filtre_departement()"
   ]
  },
  {
   "cell_type": "raw",
   "id": "cb8553d1-8677-4542-ad37-49fb2195cdf0",
   "metadata": {},
   "source": [
    "Permet de filter la dataframe liée au covid en fonction de département"
   ]
  },
  {
   "cell_type": "code",
   "execution_count": 57,
   "id": "632c652b-09a4-4c74-8b72-f4c0eb39d3f1",
   "metadata": {},
   "outputs": [],
   "source": [
    "Filtre_departement <- function(dataframe, liste_dep = \"all\") {\n",
    "    \n",
    "    nb_dep = length(liste_region)\n",
    "    \n",
    "    #Print part of argument#\n",
    "    if (liste_dep == \"all\"){\n",
    "        print(\"On prend toutes les départements de france\")\n",
    "        df_filtered <- dataframe\n",
    "    }else{\n",
    "        if (nb_dep > 1){\n",
    "            print(\"Sélection des départements:\")\n",
    "            for(dep in liste_dep){\n",
    "               print(as.character(dep))\n",
    "            }\n",
    "        }else{\n",
    "            print(paste(\"Sélection des départements: \",as.character(liste_dep)))\n",
    "        }\n",
    "        df_filtered <- dataframe %>% filter(as.character(dataframe$dep) %in% liste_dep)\n",
    "    }\n",
    "    \n",
    "    #On regroupe les données par leur date#\n",
    "    df_filtered <- df_filtered %>% filter(df_filtered$sexe == 0) %>% group_by(jour) %>% summarise(\n",
    "                              hosp = sum(hosp),\n",
    "                              rea = sum(rea),\n",
    "                              HospConv = sum(HospConv),\n",
    "                              SSR_USLD = sum(SSR_USLD),\n",
    "                              autres = sum(autres),\n",
    "                              dc = sum(dc)\n",
    "                              )\n",
    "    df_filtered[is.na(df_filtered)] <- 0\n",
    "    df_filtered\n",
    "    \n",
    "    #Return dataframe filtered#\n",
    "    return(df_filtered)\n",
    "}"
   ]
  },
  {
   "cell_type": "markdown",
   "id": "ec18cd6c-bf97-4552-a3ee-35bdb3955c54",
   "metadata": {
    "tags": []
   },
   "source": [
    "#### Affiche_dc_periode()"
   ]
  },
  {
   "cell_type": "raw",
   "id": "1add5d68-bb6f-4bab-9df6-82a3fe49d931",
   "metadata": {},
   "source": [
    "Permet d'afficher sous forme de line plot la le nombre de décès dans une période donnée "
   ]
  },
  {
   "cell_type": "code",
   "execution_count": 58,
   "id": "74dd1300-c62a-4d48-8bc6-c03972cefdbc",
   "metadata": {},
   "outputs": [],
   "source": [
    "Affiche_dc_periode <- function(dataframe, deb_date = as.Date(\"2019-12-31\"), end_date = as.Date(\"2022-01-08\")) {\n",
    "    sprintf(\"Period of analysis: %s -> %s\",as.character.Date(deb_date),as.character.Date(end_date))\n",
    "    #Filter part#\n",
    "    df_filtered <- dataframe %>% filter((as.Date(jour) <= end_date) & (as.Date(jour) >= deb_date))\n",
    "    date_min = min(as.character.Date(df_filtered$jour))\n",
    "    date_max = max(as.character.Date(df_filtered$jour))\n",
    "#     print(as.character.Date(date_min))\n",
    "    #Graphic part#\n",
    "        # Area plot\n",
    "    title_label = paste(\"Nombre de décès dû au Covid19 dans les territoires français\\n du\",\n",
    "                        as.character.Date(date_min),\n",
    "                        \" au \",\n",
    "                        as.character.Date(date_max))\n",
    "    \n",
    "    graph <- ggplot(df_filtered,\n",
    "           aes(x=as.Date(jour))) + \n",
    "#     \n",
    "    ggtitle(label = title_label)+\n",
    "    theme(\n",
    "        plot.title = element_text(size = 14,\n",
    "                                  face = \"bold\",\n",
    "                                  hjust = 0.5),\n",
    "        panel.grid.major.y = element_line(color = \"#BBC5C0\",\n",
    "                                          size = 0.5))+\n",
    "    xlab(\"Date\") + ylab(\"Nombre de décès\") +\n",
    "#     \n",
    "    geom_area(aes(y = dc), fill = \"#BBC5C0\", \n",
    "                color = \"#383837\", alpha=0.2)\n",
    "    \n",
    "    return(graph)\n",
    "}"
   ]
  },
  {
   "cell_type": "code",
   "execution_count": 59,
   "id": "45a9456f-e669-48f9-af44-204bd575ebf2",
   "metadata": {},
   "outputs": [
    {
     "data": {
      "image/png": "[encoded data removed]",
      "text/plain": [
       "plot without title"
      ]
     },
     "metadata": {},
     "output_type": "display_data"
    }
   ],
   "source": [
    "date1 = as.Date(\"2020-07-02\")\n",
    "date2 = as.Date(\"2022-07-13\")\n",
    "Affiche_dc_periode(df_data_fr,date1,date2)"
   ]
  },
  {
   "cell_type": "markdown",
   "id": "71c263bc-387c-429b-9269-6fbfdc9b95e3",
   "metadata": {},
   "source": [
    "#### Affiche_services_hosp_periode()"
   ]
  },
  {
   "cell_type": "code",
   "execution_count": 60,
   "id": "5e4bbe46-2e86-42cc-a963-72622056b1d4",
   "metadata": {},
   "outputs": [],
   "source": [
    "# install.packages('cowplot')\n",
    "# library('cowplot')"
   ]
  },
  {
   "cell_type": "code",
   "execution_count": 61,
   "id": "a819b4d9-c591-4ee1-831d-fc34011082bb",
   "metadata": {},
   "outputs": [],
   "source": [
    "# Affiche_service_hosp_periode <- function(dataframe, deb_date = as.Date(\"2019-12-31\"), end_date = as.Date(\"2022-01-08\"), liste = [0]) {\n",
    "#     # ============================= #\n",
    "#     # Description des inputs:\n",
    "#     #     -> liste = [0] (default)   => Demande l'affichage, du nombre d'hospitalisation totale seule\n",
    "#     #                [1]             => //, du nombre de rea\n",
    "#     #                [1,2]           => //, du nombre de rea et d'hospitalisation conventionnelle\n",
    "#     #                [2,4,1]         => //, du nombre de rea, d'hospitalisation conventionnelle et d'autres\n",
    "#     #\n",
    "#     # ============================= #\n",
    "    \n",
    "#     sprintf(\"Period of analysis: %s -> %s\",as.character.Date(deb_date),as.character.Date(end_date))\n",
    "#     #Filter part#\n",
    "#     df_filtered<-dataframe %>% filter((as.Date(jour) <= end_date) & (as.Date(jour) >= deb_date))\n",
    "#     date_min = min(as.character.Date(df_filtered$jour))\n",
    "#     date_max = max(as.character.Date(df_filtered$jour))\n",
    "    \n",
    "#     #Construction des sous graphiques\n",
    "#     p1 <-NULL\n",
    "#     p2 <-NULL\n",
    "#     p3 <-NULL\n",
    "#     p4 <-NULL\n",
    "#     p <- c(p1,p2,p3,p4)\n",
    "    \n",
    "#     for (i in 1:length(liste)){\n",
    "#       if (liste[i] > 0)\n",
    "#       {\n",
    "      \n",
    "#       }\n",
    "#     } \n",
    "    \n",
    "    \n",
    "#     #Graphic part#\n",
    "#         # Construction du titre\n",
    "#     title_label = paste(\"Nombre d'hospitalisation dû au Covid19 dans les territoires français\\n du\",\n",
    "#                         as.character.Date(date_min),\n",
    "#                         \" au \",\n",
    "#                         as.character.Date(date_max))\n",
    "#         # Initialisation du graphique\n",
    "#     ggplot(df_filtered, aes(x=as.Date(jour))) + \n",
    "        \n",
    "#         # Edition du titre\n",
    "#     ggtitle(label = title_label, subtitle = \"Répartition des hospitalisations par service\")+\n",
    "    \n",
    "#         # Edition des paramètres titre/legend\n",
    "#     theme(\n",
    "#       plot.title = element_text(size = 14, face = \"bold\", hjust = 0.5),\n",
    "#       plot.subtitle = element_text(color = \"#364167\", hjust = 0.5),\n",
    "#       legend.position=\"bottom\"\n",
    "#     )+\n",
    "#        # Edition des labels (ordonnées/abscisse)\n",
    "#     xlab(\"Date\") + ylab(\"Nombre d'hospitalisation\") +\n",
    "    \n",
    "#        # Affichage des areas plot consernant les différents services\n",
    "#     geom_area(aes(y = rea+HospConv+SSR_USLD+autres, color = \"reanimation\", fill = \"reanimation\"), alpha=0.4)+ \n",
    "#     geom_area(aes(y = hosp, color = \"total\", fill = \"total\"), alpha=0.1)+ \n",
    "#     geom_area(aes(y = HospConv+SSR_USLD+autres, color = \"conventionnelle\", fill = \"conventionnelle\"), alpha=0.3)+\n",
    "#     geom_area(aes(y = SSR_USLD+autres, color = \"SSR_ou_USLD\", fill = \"SSR_ou_USLD\"), alpha=0.4)+\n",
    "#     geom_area(aes(y = autres, color = \"autres\", fill = \"autres\"), alpha=0.5)+\n",
    "\n",
    "#        # Paramétrage des couleurs des area plot et de la légende\n",
    "#     scale_color_manual(\"Hospitalisation\", values=c(total=\"#457b9d\",\n",
    "#                                                    reanimation =\"#e76f51\",\n",
    "#                                                    conventionnelle = \"#fcbf49\",\n",
    "#                                                    SSR_ou_USLD = \"#588157\" ,\n",
    "#                                                    autres = \"#faedcd\")) +  \n",
    "#     scale_fill_manual(\"Hospitalisation\", values=c( total=\"#457b9d\",\n",
    "#                                                    reanimation =\"#e76f51\",\n",
    "#                                                    conventionnelle = \"#fcbf49\",\n",
    "#                                                    SSR_ou_USLD = \"#588157\" ,\n",
    "#                                                    autres = \"#faedcd\"))\n",
    "    \n",
    "#     plot_grid(p1, p2, p3, p4, leg)\n",
    "    \n",
    "# }"
   ]
  },
  {
   "cell_type": "code",
   "execution_count": 62,
   "id": "66fac51e-7866-42ce-80b9-5240b8f53d2d",
   "metadata": {},
   "outputs": [
    {
     "data": {
      "text/plain": [
       "NULL"
      ]
     },
     "metadata": {},
     "output_type": "display_data"
    }
   ],
   "source": [
    "p2 <- NULL\n",
    "p2"
   ]
  },
  {
   "cell_type": "code",
   "execution_count": 63,
   "id": "2f0fd6d8-33f6-4c34-a2ac-0b18a539bfcd",
   "metadata": {
    "tags": []
   },
   "outputs": [
    {
     "data": {
      "image/png": "[encoded data removed]",
      "text/plain": [
       "plot without title"
      ]
     },
     "metadata": {},
     "output_type": "display_data"
    }
   ],
   "source": [
    "p1"
   ]
  },
  {
   "cell_type": "code",
   "execution_count": 64,
   "id": "d42fcf8a-4256-491d-8cbf-ae5f991a9804",
   "metadata": {
    "tags": []
   },
   "outputs": [
    {
     "ename": "ERROR",
     "evalue": "Error in plot_grid(p1, p2): impossible de trouver la fonction \"plot_grid\"\n",
     "output_type": "error",
     "traceback": [
      "Error in plot_grid(p1, p2): impossible de trouver la fonction \"plot_grid\"\nTraceback:\n"
     ]
    }
   ],
   "source": [
    "plot_grid(p1,p2)"
   ]
  },
  {
   "cell_type": "code",
   "execution_count": null,
   "id": "abb04cf5-711c-4b66-9ccf-b260a271e8bb",
   "metadata": {
    "tags": []
   },
   "outputs": [],
   "source": [
    "multiplot(p1)"
   ]
  },
  {
   "cell_type": "code",
   "execution_count": null,
   "id": "b5423871-54ba-4651-88c5-dbfbd4149f71",
   "metadata": {},
   "outputs": [],
   "source": []
  }
 ],
 "metadata": {
  "kernelspec": {
   "display_name": "R",
   "language": "R",
   "name": "ir"
  },
  "language_info": {
   "codemirror_mode": "r",
   "file_extension": ".r",
   "mimetype": "text/x-r-source",
   "name": "R",
   "pygments_lexer": "r",
   "version": "3.6.1"
  },
  "toc-autonumbering": false
 },
 "nbformat": 4,
 "nbformat_minor": 5
}
