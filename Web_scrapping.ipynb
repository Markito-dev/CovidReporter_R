{
 "cells": [
  {
   "cell_type": "markdown",
   "id": "76ee92de-c2a0-427c-976b-1cf908eda7cc",
   "metadata": {},
   "source": [
    "# Web scrapping"
   ]
  },
  {
   "cell_type": "code",
   "execution_count": 1,
   "id": "49dfea0e-2e89-46fa-ad7a-0f8ce3672f84",
   "metadata": {},
   "outputs": [
    {
     "name": "stderr",
     "output_type": "stream",
     "text": [
      "Warning message:\n",
      "\"package 'dplyr' was built under R version 3.6.3\"\n",
      "Attaching package: 'dplyr'\n",
      "\n",
      "The following objects are masked from 'package:stats':\n",
      "\n",
      "    filter, lag\n",
      "\n",
      "The following objects are masked from 'package:base':\n",
      "\n",
      "    intersect, setdiff, setequal, union\n",
      "\n"
     ]
    }
   ],
   "source": [
    "# install.packages(\"dplyr\")\n",
    "library(dplyr)"
   ]
  },
  {
   "cell_type": "code",
   "execution_count": 2,
   "id": "2bad4ee9-a64f-4a40-ab84-64dd54c31409",
   "metadata": {},
   "outputs": [],
   "source": [
    "# install.packages(\"rvest\")\n",
    "library(rvest)"
   ]
  },
  {
   "cell_type": "markdown",
   "id": "6666d9ad-bd41-4281-9242-47d4b1493c8a",
   "metadata": {},
   "source": [
    "## Code final : récupération des données parmis toutes les données de data.gouv"
   ]
  },
  {
   "cell_type": "code",
   "execution_count": 3,
   "id": "f2995c62-0105-427f-9ac0-f9c4414b24b9",
   "metadata": {},
   "outputs": [
    {
     "data": {
      "text/html": [
       "<table>\n",
       "<thead><tr><th scope=col>dep</th><th scope=col>sexe</th><th scope=col>jour</th><th scope=col>hosp</th><th scope=col>rea</th><th scope=col>HospConv</th><th scope=col>SSR_USLD</th><th scope=col>autres</th><th scope=col>rad</th><th scope=col>dc</th></tr></thead>\n",
       "<tbody>\n",
       "\t<tr><td>01        </td><td>0         </td><td>2020-03-18</td><td> 2        </td><td> 0        </td><td>NA        </td><td>NA        </td><td>NA        </td><td> 1        </td><td> 0        </td></tr>\n",
       "\t<tr><td>01        </td><td>1         </td><td>2020-03-18</td><td> 1        </td><td> 0        </td><td>NA        </td><td>NA        </td><td>NA        </td><td> 1        </td><td> 0        </td></tr>\n",
       "\t<tr><td>01        </td><td>2         </td><td>2020-03-18</td><td> 1        </td><td> 0        </td><td>NA        </td><td>NA        </td><td>NA        </td><td> 0        </td><td> 0        </td></tr>\n",
       "\t<tr><td>02        </td><td>0         </td><td>2020-03-18</td><td>41        </td><td>10        </td><td>NA        </td><td>NA        </td><td>NA        </td><td>18        </td><td>11        </td></tr>\n",
       "\t<tr><td>02        </td><td>1         </td><td>2020-03-18</td><td>19        </td><td> 4        </td><td>NA        </td><td>NA        </td><td>NA        </td><td>11        </td><td> 6        </td></tr>\n",
       "\t<tr><td>02        </td><td>2         </td><td>2020-03-18</td><td>22        </td><td> 6        </td><td>NA        </td><td>NA        </td><td>NA        </td><td> 7        </td><td> 5        </td></tr>\n",
       "\t<tr><td>03        </td><td>0         </td><td>2020-03-18</td><td> 4        </td><td> 0        </td><td>NA        </td><td>NA        </td><td>NA        </td><td> 1        </td><td> 0        </td></tr>\n",
       "\t<tr><td>03        </td><td>1         </td><td>2020-03-18</td><td> 1        </td><td> 0        </td><td>NA        </td><td>NA        </td><td>NA        </td><td> 0        </td><td> 0        </td></tr>\n",
       "\t<tr><td>03        </td><td>2         </td><td>2020-03-18</td><td> 3        </td><td> 0        </td><td>NA        </td><td>NA        </td><td>NA        </td><td> 1        </td><td> 0        </td></tr>\n",
       "\t<tr><td>04        </td><td>0         </td><td>2020-03-18</td><td> 3        </td><td> 1        </td><td>NA        </td><td>NA        </td><td>NA        </td><td> 2        </td><td> 0        </td></tr>\n",
       "</tbody>\n",
       "</table>\n"
      ],
      "text/latex": [
       "\\begin{tabular}{r|llllllllll}\n",
       " dep & sexe & jour & hosp & rea & HospConv & SSR\\_USLD & autres & rad & dc\\\\\n",
       "\\hline\n",
       "\t 01         & 0          & 2020-03-18 &  2         &  0         & NA         & NA         & NA         &  1         &  0        \\\\\n",
       "\t 01         & 1          & 2020-03-18 &  1         &  0         & NA         & NA         & NA         &  1         &  0        \\\\\n",
       "\t 01         & 2          & 2020-03-18 &  1         &  0         & NA         & NA         & NA         &  0         &  0        \\\\\n",
       "\t 02         & 0          & 2020-03-18 & 41         & 10         & NA         & NA         & NA         & 18         & 11        \\\\\n",
       "\t 02         & 1          & 2020-03-18 & 19         &  4         & NA         & NA         & NA         & 11         &  6        \\\\\n",
       "\t 02         & 2          & 2020-03-18 & 22         &  6         & NA         & NA         & NA         &  7         &  5        \\\\\n",
       "\t 03         & 0          & 2020-03-18 &  4         &  0         & NA         & NA         & NA         &  1         &  0        \\\\\n",
       "\t 03         & 1          & 2020-03-18 &  1         &  0         & NA         & NA         & NA         &  0         &  0        \\\\\n",
       "\t 03         & 2          & 2020-03-18 &  3         &  0         & NA         & NA         & NA         &  1         &  0        \\\\\n",
       "\t 04         & 0          & 2020-03-18 &  3         &  1         & NA         & NA         & NA         &  2         &  0        \\\\\n",
       "\\end{tabular}\n"
      ],
      "text/markdown": [
       "\n",
       "| dep | sexe | jour | hosp | rea | HospConv | SSR_USLD | autres | rad | dc |\n",
       "|---|---|---|---|---|---|---|---|---|---|\n",
       "| 01         | 0          | 2020-03-18 |  2         |  0         | NA         | NA         | NA         |  1         |  0         |\n",
       "| 01         | 1          | 2020-03-18 |  1         |  0         | NA         | NA         | NA         |  1         |  0         |\n",
       "| 01         | 2          | 2020-03-18 |  1         |  0         | NA         | NA         | NA         |  0         |  0         |\n",
       "| 02         | 0          | 2020-03-18 | 41         | 10         | NA         | NA         | NA         | 18         | 11         |\n",
       "| 02         | 1          | 2020-03-18 | 19         |  4         | NA         | NA         | NA         | 11         |  6         |\n",
       "| 02         | 2          | 2020-03-18 | 22         |  6         | NA         | NA         | NA         |  7         |  5         |\n",
       "| 03         | 0          | 2020-03-18 |  4         |  0         | NA         | NA         | NA         |  1         |  0         |\n",
       "| 03         | 1          | 2020-03-18 |  1         |  0         | NA         | NA         | NA         |  0         |  0         |\n",
       "| 03         | 2          | 2020-03-18 |  3         |  0         | NA         | NA         | NA         |  1         |  0         |\n",
       "| 04         | 0          | 2020-03-18 |  3         |  1         | NA         | NA         | NA         |  2         |  0         |\n",
       "\n"
      ],
      "text/plain": [
       "   dep sexe jour       hosp rea HospConv SSR_USLD autres rad dc\n",
       "1  01  0    2020-03-18  2    0  NA       NA       NA      1   0\n",
       "2  01  1    2020-03-18  1    0  NA       NA       NA      1   0\n",
       "3  01  2    2020-03-18  1    0  NA       NA       NA      0   0\n",
       "4  02  0    2020-03-18 41   10  NA       NA       NA     18  11\n",
       "5  02  1    2020-03-18 19    4  NA       NA       NA     11   6\n",
       "6  02  2    2020-03-18 22    6  NA       NA       NA      7   5\n",
       "7  03  0    2020-03-18  4    0  NA       NA       NA      1   0\n",
       "8  03  1    2020-03-18  1    0  NA       NA       NA      0   0\n",
       "9  03  2    2020-03-18  3    0  NA       NA       NA      1   0\n",
       "10 04  0    2020-03-18  3    1  NA       NA       NA      2   0"
      ]
     },
     "metadata": {},
     "output_type": "display_data"
    }
   ],
   "source": [
    "url <- \"https://www.data.gouv.fr/fr/datasets/donnees-hospitalieres-relatives-a-lepidemie-de-covid-19/\"\n",
    "download.file(url = url, \"datagouv.html\")\n",
    "html <- read_html(\"datagouv.html\")\n",
    "html_c <- html_children(html)\n",
    "html_wanted <- html %>% html_nodes('.card-body')\n",
    "pos <- Position(x = html_wanted, f = function(x){ grepl(\"donnees-hospitalieres-covid19\",html_text(x))})\n",
    "html_wanted2 <- html_wanted[pos] %>% html_nodes('a') %>% html_attr('href')\n",
    "l_html = length(html_wanted2)\n",
    "link <- html_wanted2[l_html-1]\n",
    "\n",
    "df_hebdo_covid <- read.csv(link, sep=\";\")\n",
    "head(df_hebdo_covid,10)"
   ]
  },
  {
   "cell_type": "markdown",
   "id": "a1adb2b6-a64b-40d1-8e1b-4202689fe61f",
   "metadata": {
    "tags": []
   },
   "source": [
    "## Découpage des étapes"
   ]
  },
  {
   "cell_type": "markdown",
   "id": "6210566e-0e1a-47b1-86e1-e68b2a3bde06",
   "metadata": {},
   "source": [
    "### Récupération du code html"
   ]
  },
  {
   "cell_type": "code",
   "execution_count": 4,
   "id": "07839ba7-9acc-4019-ba37-03c19e01fc83",
   "metadata": {},
   "outputs": [
    {
     "data": {
      "text/plain": [
       "{html_document}\n",
       "<html lang=\"fr\">\n",
       "[1] <head>\\n<meta http-equiv=\"Content-Type\" content=\"text/html; charset=UTF-8 ...\n",
       "[2] <body class=\"dataset-display theme-gouvfr\">\\r\\n    <section id=\"app\"><sec ..."
      ]
     },
     "metadata": {},
     "output_type": "display_data"
    }
   ],
   "source": [
    "# L'url de la bibliothèque des données\n",
    "url <- \"https://www.data.gouv.fr/fr/datasets/donnees-hospitalieres-relatives-a-lepidemie-de-covid-19/\"\n",
    "download.file(url = url, \"datagouv.html\")\n",
    "# Lecture du code html\n",
    "html <- read_html(\"datagouv.html\")\n",
    "html"
   ]
  },
  {
   "cell_type": "markdown",
   "id": "e8d28e69-33ac-46d5-90c5-53fb5c20c4b6",
   "metadata": {},
   "source": [
    "### Découpage du code html"
   ]
  },
  {
   "cell_type": "code",
   "execution_count": 5,
   "id": "bdfeb144-c898-405a-83aa-7dad3d778dd2",
   "metadata": {},
   "outputs": [
    {
     "data": {
      "text/plain": [
       "{xml_nodeset (2)}\n",
       "[1] <head>\\n<meta http-equiv=\"Content-Type\" content=\"text/html; charset=UTF-8 ...\n",
       "[2] <body class=\"dataset-display theme-gouvfr\">\\r\\n    <section id=\"app\"><sec ..."
      ]
     },
     "metadata": {},
     "output_type": "display_data"
    }
   ],
   "source": [
    "# Séparation du header et du body\n",
    "html_c <- html_children(html)\n",
    "html_c"
   ]
  },
  {
   "cell_type": "code",
   "execution_count": 6,
   "id": "ba142190-d19a-4c87-b8bb-5391aac24eae",
   "metadata": {
    "tags": []
   },
   "outputs": [
    {
     "data": {
      "text/plain": [
       "{xml_nodeset (50)}\n",
       " [1] <div class=\"card-body\">\\r\\n        <header class=\"card-header\" id=\"resou ...\n",
       " [2] <div class=\"card-body\">\\r\\n        <header class=\"card-header\" id=\"resou ...\n",
       " [3] <div class=\"card-body\">\\r\\n        <header class=\"card-header\" id=\"resou ...\n",
       " [4] <div class=\"card-body\">\\r\\n        <header class=\"card-header\" id=\"resou ...\n",
       " [5] <div class=\"card-body\">\\r\\n        <header class=\"card-header\" id=\"resou ...\n",
       " [6] <div class=\"card-body\">\\r\\n        <header class=\"card-header\" id=\"resou ...\n",
       " [7] <div class=\"card-body\">\\r\\n        <header class=\"card-header\" id=\"resou ...\n",
       " [8] <div class=\"card-body\">\\r\\n        <header class=\"card-header\" id=\"resou ...\n",
       " [9] <div class=\"card-body\">\\r\\n        <header class=\"card-header\" id=\"resou ...\n",
       "[10] <div class=\"card-body\">\\r\\n        <header class=\"card-header\" id=\"resou ...\n",
       "[11] <div class=\"card-body\">\\r\\n        <header class=\"card-header\" id=\"resou ...\n",
       "[12] <div class=\"card-body\">\\r\\n        <header class=\"card-header\" id=\"resou ...\n",
       "[13] <div class=\"card-body\">\\r\\n        <header class=\"card-header\" id=\"resou ...\n",
       "[14] <div class=\"card-body\">\\r\\n        <header class=\"card-header\" id=\"resou ...\n",
       "[15] <div class=\"card-body\">\\r\\n        <header class=\"card-header\" id=\"resou ...\n",
       "[16] <div class=\"card-body\">\\r\\n        <header class=\"card-header\" id=\"resou ...\n",
       "[17] <div class=\"card-body\">\\r\\n        <header class=\"card-header\" id=\"resou ...\n",
       "[18] <div class=\"card-body\">\\r\\n        <header class=\"card-header\" id=\"resou ...\n",
       "[19] <div class=\"card-body\">\\r\\n        <header class=\"card-header\" id=\"resou ...\n",
       "[20] <div class=\"card-body\">\\r\\n        <header class=\"card-header\" id=\"resou ...\n",
       "..."
      ]
     },
     "metadata": {},
     "output_type": "display_data"
    }
   ],
   "source": [
    "# Extraction des cellules contenant les liens d'accès aux datasets\n",
    "html_wanted <- html %>% html_nodes('.card-body')\n",
    "html_wanted"
   ]
  },
  {
   "cell_type": "markdown",
   "id": "d890e468-4e00-414a-8941-f36a40815226",
   "metadata": {},
   "source": [
    "### Recherche d'éléments spécifiques"
   ]
  },
  {
   "cell_type": "code",
   "execution_count": 7,
   "id": "98c4ac8a-2b45-4af1-be76-76a0efb1aab7",
   "metadata": {
    "tags": []
   },
   "outputs": [
    {
     "data": {
      "text/html": [
       "<ol class=list-inline>\n",
       "\t<li>FALSE</li>\n",
       "\t<li>FALSE</li>\n",
       "\t<li>FALSE</li>\n",
       "\t<li>FALSE</li>\n",
       "\t<li>FALSE</li>\n",
       "\t<li>TRUE</li>\n",
       "\t<li>FALSE</li>\n",
       "\t<li>TRUE</li>\n",
       "\t<li>TRUE</li>\n",
       "\t<li>TRUE</li>\n",
       "</ol>\n"
      ],
      "text/latex": [
       "\\begin{enumerate*}\n",
       "\\item FALSE\n",
       "\\item FALSE\n",
       "\\item FALSE\n",
       "\\item FALSE\n",
       "\\item FALSE\n",
       "\\item TRUE\n",
       "\\item FALSE\n",
       "\\item TRUE\n",
       "\\item TRUE\n",
       "\\item TRUE\n",
       "\\end{enumerate*}\n"
      ],
      "text/markdown": [
       "1. FALSE\n",
       "2. FALSE\n",
       "3. FALSE\n",
       "4. FALSE\n",
       "5. FALSE\n",
       "6. TRUE\n",
       "7. FALSE\n",
       "8. TRUE\n",
       "9. TRUE\n",
       "10. TRUE\n",
       "\n",
       "\n"
      ],
      "text/plain": [
       " [1] FALSE FALSE FALSE FALSE FALSE  TRUE FALSE  TRUE  TRUE  TRUE"
      ]
     },
     "metadata": {},
     "output_type": "display_data"
    }
   ],
   "source": [
    "# Définition de la fonction de recherche d'un caractère dans une chaine de caractère\n",
    "l <- grepl(\"donnees-hospitalieres-covid19\",html_wanted %>% html_text())\n",
    "head(l,10)"
   ]
  },
  {
   "cell_type": "code",
   "execution_count": 8,
   "id": "38f6b3ef-1cb8-4a4d-92b6-f7a50cc5a95e",
   "metadata": {},
   "outputs": [
    {
     "data": {
      "text/html": [
       "6"
      ],
      "text/latex": [
       "6"
      ],
      "text/markdown": [
       "6"
      ],
      "text/plain": [
       "[1] 6"
      ]
     },
     "metadata": {},
     "output_type": "display_data"
    }
   ],
   "source": [
    "# Recherche de la position de la premiere node contenant la chaine de caractère clef\n",
    "pos <- Position(x = html_wanted, f = function(x){ grepl(\"donnees-hospitalieres-covid19\",html_text(x))})\n",
    "pos"
   ]
  },
  {
   "cell_type": "markdown",
   "id": "1fc398f4-8eb0-4949-ac7a-a85cd2ec1c40",
   "metadata": {},
   "source": [
    "### Récupération du lien d'accès au dataset"
   ]
  },
  {
   "cell_type": "code",
   "execution_count": 9,
   "id": "77a7d4d8-30ce-4a9b-bc8f-c58d3e081b66",
   "metadata": {},
   "outputs": [
    {
     "data": {
      "text/html": [
       "'https://static.data.gouv.fr/resources/donnees-hospitalieres-relatives-a-lepidemie-de-covid-19/20220113-190617/donnees-hospitalieres-covid19-2022-01-13-19h06.csv'"
      ],
      "text/latex": [
       "'https://static.data.gouv.fr/resources/donnees-hospitalieres-relatives-a-lepidemie-de-covid-19/20220113-190617/donnees-hospitalieres-covid19-2022-01-13-19h06.csv'"
      ],
      "text/markdown": [
       "'https://static.data.gouv.fr/resources/donnees-hospitalieres-relatives-a-lepidemie-de-covid-19/20220113-190617/donnees-hospitalieres-covid19-2022-01-13-19h06.csv'"
      ],
      "text/plain": [
       "[1] \"https://static.data.gouv.fr/resources/donnees-hospitalieres-relatives-a-lepidemie-de-covid-19/20220113-190617/donnees-hospitalieres-covid19-2022-01-13-19h06.csv\""
      ]
     },
     "metadata": {},
     "output_type": "display_data"
    }
   ],
   "source": [
    "html_wanted2 <- html_wanted[pos] %>% html_nodes('a') %>% html_attr('href')\n",
    "l_html = length(html_wanted2)\n",
    "# Le dernier lien est toujours le plus stable du site internet\n",
    "link <- html_wanted2[l_html-1]\n",
    "link"
   ]
  },
  {
   "cell_type": "markdown",
   "id": "572e3543-fe8f-4b63-9889-9a324707b8a8",
   "metadata": {},
   "source": [
    "### Lecture et récupération du dataset"
   ]
  },
  {
   "cell_type": "code",
   "execution_count": 10,
   "id": "c3911611-3fd0-4d17-b0c8-4e0efd4d25af",
   "metadata": {},
   "outputs": [
    {
     "data": {
      "text/html": [
       "<table>\n",
       "<thead><tr><th scope=col>dep</th><th scope=col>sexe</th><th scope=col>jour</th><th scope=col>hosp</th><th scope=col>rea</th><th scope=col>HospConv</th><th scope=col>SSR_USLD</th><th scope=col>autres</th><th scope=col>rad</th><th scope=col>dc</th></tr></thead>\n",
       "<tbody>\n",
       "\t<tr><td>01        </td><td>0         </td><td>2020-03-18</td><td> 2        </td><td> 0        </td><td>NA        </td><td>NA        </td><td>NA        </td><td> 1        </td><td> 0        </td></tr>\n",
       "\t<tr><td>01        </td><td>1         </td><td>2020-03-18</td><td> 1        </td><td> 0        </td><td>NA        </td><td>NA        </td><td>NA        </td><td> 1        </td><td> 0        </td></tr>\n",
       "\t<tr><td>01        </td><td>2         </td><td>2020-03-18</td><td> 1        </td><td> 0        </td><td>NA        </td><td>NA        </td><td>NA        </td><td> 0        </td><td> 0        </td></tr>\n",
       "\t<tr><td>02        </td><td>0         </td><td>2020-03-18</td><td>41        </td><td>10        </td><td>NA        </td><td>NA        </td><td>NA        </td><td>18        </td><td>11        </td></tr>\n",
       "\t<tr><td>02        </td><td>1         </td><td>2020-03-18</td><td>19        </td><td> 4        </td><td>NA        </td><td>NA        </td><td>NA        </td><td>11        </td><td> 6        </td></tr>\n",
       "\t<tr><td>02        </td><td>2         </td><td>2020-03-18</td><td>22        </td><td> 6        </td><td>NA        </td><td>NA        </td><td>NA        </td><td> 7        </td><td> 5        </td></tr>\n",
       "\t<tr><td>03        </td><td>0         </td><td>2020-03-18</td><td> 4        </td><td> 0        </td><td>NA        </td><td>NA        </td><td>NA        </td><td> 1        </td><td> 0        </td></tr>\n",
       "\t<tr><td>03        </td><td>1         </td><td>2020-03-18</td><td> 1        </td><td> 0        </td><td>NA        </td><td>NA        </td><td>NA        </td><td> 0        </td><td> 0        </td></tr>\n",
       "\t<tr><td>03        </td><td>2         </td><td>2020-03-18</td><td> 3        </td><td> 0        </td><td>NA        </td><td>NA        </td><td>NA        </td><td> 1        </td><td> 0        </td></tr>\n",
       "\t<tr><td>04        </td><td>0         </td><td>2020-03-18</td><td> 3        </td><td> 1        </td><td>NA        </td><td>NA        </td><td>NA        </td><td> 2        </td><td> 0        </td></tr>\n",
       "\t<tr><td>04        </td><td>1         </td><td>2020-03-18</td><td> 3        </td><td> 1        </td><td>NA        </td><td>NA        </td><td>NA        </td><td> 0        </td><td> 0        </td></tr>\n",
       "\t<tr><td>04        </td><td>2         </td><td>2020-03-18</td><td> 0        </td><td> 0        </td><td>NA        </td><td>NA        </td><td>NA        </td><td> 2        </td><td> 0        </td></tr>\n",
       "\t<tr><td>05        </td><td>0         </td><td>2020-03-18</td><td> 8        </td><td> 1        </td><td>NA        </td><td>NA        </td><td>NA        </td><td> 9        </td><td> 0        </td></tr>\n",
       "\t<tr><td>05        </td><td>1         </td><td>2020-03-18</td><td> 1        </td><td> 0        </td><td>NA        </td><td>NA        </td><td>NA        </td><td> 7        </td><td> 0        </td></tr>\n",
       "\t<tr><td>05        </td><td>2         </td><td>2020-03-18</td><td> 7        </td><td> 1        </td><td>NA        </td><td>NA        </td><td>NA        </td><td> 2        </td><td> 0        </td></tr>\n",
       "</tbody>\n",
       "</table>\n"
      ],
      "text/latex": [
       "\\begin{tabular}{r|llllllllll}\n",
       " dep & sexe & jour & hosp & rea & HospConv & SSR\\_USLD & autres & rad & dc\\\\\n",
       "\\hline\n",
       "\t 01         & 0          & 2020-03-18 &  2         &  0         & NA         & NA         & NA         &  1         &  0        \\\\\n",
       "\t 01         & 1          & 2020-03-18 &  1         &  0         & NA         & NA         & NA         &  1         &  0        \\\\\n",
       "\t 01         & 2          & 2020-03-18 &  1         &  0         & NA         & NA         & NA         &  0         &  0        \\\\\n",
       "\t 02         & 0          & 2020-03-18 & 41         & 10         & NA         & NA         & NA         & 18         & 11        \\\\\n",
       "\t 02         & 1          & 2020-03-18 & 19         &  4         & NA         & NA         & NA         & 11         &  6        \\\\\n",
       "\t 02         & 2          & 2020-03-18 & 22         &  6         & NA         & NA         & NA         &  7         &  5        \\\\\n",
       "\t 03         & 0          & 2020-03-18 &  4         &  0         & NA         & NA         & NA         &  1         &  0        \\\\\n",
       "\t 03         & 1          & 2020-03-18 &  1         &  0         & NA         & NA         & NA         &  0         &  0        \\\\\n",
       "\t 03         & 2          & 2020-03-18 &  3         &  0         & NA         & NA         & NA         &  1         &  0        \\\\\n",
       "\t 04         & 0          & 2020-03-18 &  3         &  1         & NA         & NA         & NA         &  2         &  0        \\\\\n",
       "\t 04         & 1          & 2020-03-18 &  3         &  1         & NA         & NA         & NA         &  0         &  0        \\\\\n",
       "\t 04         & 2          & 2020-03-18 &  0         &  0         & NA         & NA         & NA         &  2         &  0        \\\\\n",
       "\t 05         & 0          & 2020-03-18 &  8         &  1         & NA         & NA         & NA         &  9         &  0        \\\\\n",
       "\t 05         & 1          & 2020-03-18 &  1         &  0         & NA         & NA         & NA         &  7         &  0        \\\\\n",
       "\t 05         & 2          & 2020-03-18 &  7         &  1         & NA         & NA         & NA         &  2         &  0        \\\\\n",
       "\\end{tabular}\n"
      ],
      "text/markdown": [
       "\n",
       "| dep | sexe | jour | hosp | rea | HospConv | SSR_USLD | autres | rad | dc |\n",
       "|---|---|---|---|---|---|---|---|---|---|\n",
       "| 01         | 0          | 2020-03-18 |  2         |  0         | NA         | NA         | NA         |  1         |  0         |\n",
       "| 01         | 1          | 2020-03-18 |  1         |  0         | NA         | NA         | NA         |  1         |  0         |\n",
       "| 01         | 2          | 2020-03-18 |  1         |  0         | NA         | NA         | NA         |  0         |  0         |\n",
       "| 02         | 0          | 2020-03-18 | 41         | 10         | NA         | NA         | NA         | 18         | 11         |\n",
       "| 02         | 1          | 2020-03-18 | 19         |  4         | NA         | NA         | NA         | 11         |  6         |\n",
       "| 02         | 2          | 2020-03-18 | 22         |  6         | NA         | NA         | NA         |  7         |  5         |\n",
       "| 03         | 0          | 2020-03-18 |  4         |  0         | NA         | NA         | NA         |  1         |  0         |\n",
       "| 03         | 1          | 2020-03-18 |  1         |  0         | NA         | NA         | NA         |  0         |  0         |\n",
       "| 03         | 2          | 2020-03-18 |  3         |  0         | NA         | NA         | NA         |  1         |  0         |\n",
       "| 04         | 0          | 2020-03-18 |  3         |  1         | NA         | NA         | NA         |  2         |  0         |\n",
       "| 04         | 1          | 2020-03-18 |  3         |  1         | NA         | NA         | NA         |  0         |  0         |\n",
       "| 04         | 2          | 2020-03-18 |  0         |  0         | NA         | NA         | NA         |  2         |  0         |\n",
       "| 05         | 0          | 2020-03-18 |  8         |  1         | NA         | NA         | NA         |  9         |  0         |\n",
       "| 05         | 1          | 2020-03-18 |  1         |  0         | NA         | NA         | NA         |  7         |  0         |\n",
       "| 05         | 2          | 2020-03-18 |  7         |  1         | NA         | NA         | NA         |  2         |  0         |\n",
       "\n"
      ],
      "text/plain": [
       "   dep sexe jour       hosp rea HospConv SSR_USLD autres rad dc\n",
       "1  01  0    2020-03-18  2    0  NA       NA       NA      1   0\n",
       "2  01  1    2020-03-18  1    0  NA       NA       NA      1   0\n",
       "3  01  2    2020-03-18  1    0  NA       NA       NA      0   0\n",
       "4  02  0    2020-03-18 41   10  NA       NA       NA     18  11\n",
       "5  02  1    2020-03-18 19    4  NA       NA       NA     11   6\n",
       "6  02  2    2020-03-18 22    6  NA       NA       NA      7   5\n",
       "7  03  0    2020-03-18  4    0  NA       NA       NA      1   0\n",
       "8  03  1    2020-03-18  1    0  NA       NA       NA      0   0\n",
       "9  03  2    2020-03-18  3    0  NA       NA       NA      1   0\n",
       "10 04  0    2020-03-18  3    1  NA       NA       NA      2   0\n",
       "11 04  1    2020-03-18  3    1  NA       NA       NA      0   0\n",
       "12 04  2    2020-03-18  0    0  NA       NA       NA      2   0\n",
       "13 05  0    2020-03-18  8    1  NA       NA       NA      9   0\n",
       "14 05  1    2020-03-18  1    0  NA       NA       NA      7   0\n",
       "15 05  2    2020-03-18  7    1  NA       NA       NA      2   0"
      ]
     },
     "metadata": {},
     "output_type": "display_data"
    }
   ],
   "source": [
    "df_hebdo_covid <- read.csv(link, sep=\";\")\n",
    "#### Changement du nom des colonnes\n",
    "# names(data) <- c(\"X\", \"année\", \"prénom\", \"genre\", \"naissance\")\n",
    "# Affichage des 5 premières lignes\n",
    "head(df_hebdo_covid,15)"
   ]
  },
  {
   "cell_type": "code",
   "execution_count": null,
   "id": "7d720b89-510c-4762-acb7-e106c9d49bfe",
   "metadata": {},
   "outputs": [],
   "source": []
  }
 ],
 "metadata": {
  "kernelspec": {
   "display_name": "R",
   "language": "R",
   "name": "ir"
  },
  "language_info": {
   "codemirror_mode": "r",
   "file_extension": ".r",
   "mimetype": "text/x-r-source",
   "name": "R",
   "pygments_lexer": "r",
   "version": "3.6.1"
  }
 },
 "nbformat": 4,
 "nbformat_minor": 5
}
